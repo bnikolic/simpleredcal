{
 "cells": [
  {
   "cell_type": "code",
   "execution_count": null,
   "metadata": {},
   "outputs": [],
   "source": [
    "import os\n",
    "import sys\n",
    "from copy import deepcopy\n",
    "\n",
    "import numpy as np\n",
    "from matplotlib import pyplot as plt\n",
    "\n",
    "from hera_cal.io import HERACal, HERAData\n",
    "from hera_cal.noise import interleaved_noise_variance_estimate\n",
    "from hera_cal.utils import join_bl, split_bl\n",
    "\n",
    "sys.path.insert(0, os.path.dirname(os.getcwd()))\n",
    "from red_utils import find_zen_file"
   ]
  },
  {
   "cell_type": "code",
   "execution_count": null,
   "metadata": {},
   "outputs": [],
   "source": [
    "import matplotlib as mpl\n",
    "\n",
    "plot_figs = False\n",
    "if plot_figs:\n",
    "    mpl.rcParams['figure.dpi'] = 300\n",
    "\n",
    "mpl.rc('font',**{'family':'serif','serif':['cm']})\n",
    "mpl.rc('text', usetex=True)\n",
    "mpl.rc('text.latex', preamble=r'\\usepackage{amssymb} \\usepackage{amsmath}')"
   ]
  },
  {
   "cell_type": "markdown",
   "metadata": {},
   "source": [
    "# Noise estimates from the hera_cal pipeline"
   ]
  },
  {
   "cell_type": "markdown",
   "metadata": {},
   "source": [
    "Using calibrated autocorrelations, we can predict the noise variance on visibilities, $\\sigma_{ij}^2$. Namely,\n",
    "\n",
    "$\\sigma_{ij}^2 = V_{ii} V_{jj}$ $ / $ $B t$\n",
    "\n",
    "where $B$ is the bandwidth of a channel and $t$ is the integration time. Instead of computing this quantity for all baselines, we instead compute and save $\\sigma_{ii}$ where\n",
    "\n",
    "$\\sigma_{ij} \\equiv \\sqrt{\\sigma_{ii} \\sigma_{jj}} = \\left(V_{ii} / \\sqrt{Bt}\\right) \\left( V_{jj} / \\sqrt{Bt} \\right)$.\n",
    "\n",
    "These quantities, $\\sigma_{ii}$, are stored in `.noise_std.uvh5` files. Though they are technically per-antenna, we the collaboration felt it more sensible to store them as visibility data files (since the units are Jy) with autocorrelation keys instead of storing them in `.calfits` files."
   ]
  },
  {
   "cell_type": "code",
   "execution_count": null,
   "metadata": {},
   "outputs": [],
   "source": [
    "JD_time = 2458098.43869\n",
    "bl = (25, 51, 'ee')\n",
    "\n",
    "data_dir = '/Users/matyasmolnar/HERA_Data/sample_data'\n",
    "if not os.path.exists(data_dir):\n",
    "    data_dir = os.path.join('/lustre/aoc/projects/hera/H1C_IDR2/IDR2_2', str(int(JD_time)))"
   ]
  },
  {
   "cell_type": "markdown",
   "metadata": {},
   "source": [
    "## Noise from raw autocorrelations"
   ]
  },
  {
   "cell_type": "code",
   "execution_count": null,
   "metadata": {},
   "outputs": [],
   "source": [
    "ant1, ant2 = split_bl(bl)\n",
    "auto_bl1 = join_bl(ant1, ant1)\n",
    "auto_bl2 = join_bl(ant2, ant2)\n",
    "\n",
    "# Load autocorrelation\n",
    "autos_file = os.path.join(data_dir, 'zen.{}.HH.autos.uvh5'.format(JD_time))\n",
    "hd_autos = HERAData(autos_file)\n",
    "autos, auto_flags, _  = hd_autos.read(bls=[auto_bl1, auto_bl2])\n",
    "\n",
    "# Load inferred noise on data\n",
    "noise_file = os.path.join(data_dir, 'zen.{}.HH.noise_std.uvh5'.format(JD_time))\n",
    "hd_noise = HERAData(noise_file)\n",
    "noise, noise_flags, _  = hd_noise.read(bls=[auto_bl1, auto_bl2])\n",
    "bl_noise = np.sqrt(noise[auto_bl1] * noise[auto_bl2])\n",
    "bl_noise_flags = noise_flags[auto_bl1] | noise_flags[auto_bl2]"
   ]
  },
  {
   "cell_type": "markdown",
   "metadata": {},
   "source": [
    "## Noise from interleaved frequencies"
   ]
  },
  {
   "cell_type": "markdown",
   "metadata": {},
   "source": [
    "We can also check our inferred value for the noise on visibilities by checking them against a sequential difference of the data. In this case, we use hera_cal.noise.interleaved_noise_variance_estimate() to estimate the noise on the data by subtracting 0.5 times the next and previous channels from the data. Averaging in time over the file, we see that these two estimates of the noise agree."
   ]
  },
  {
   "cell_type": "code",
   "execution_count": null,
   "metadata": {},
   "outputs": [],
   "source": [
    "hd = HERAData(find_zen_file(JD_time))\n",
    "data, flags, nsamples = hd.read(bls=[bl])"
   ]
  },
  {
   "cell_type": "code",
   "execution_count": null,
   "metadata": {},
   "outputs": [],
   "source": [
    "# Estimate noise from visibility data using interleaved frequencies\n",
    "data_with_nans = deepcopy(data[bl])\n",
    "data_with_nans[flags[bl]] = np.nan\n",
    "noise_var_est = interleaved_noise_variance_estimate(data_with_nans, kernel=[[-.5, 1, -.5]])\n",
    "with np.errstate(divide='ignore', invalid='ignore'):\n",
    "    interleaved_noise = np.sqrt(np.nanmean(noise_var_est, axis=0))\n",
    "\n",
    "# Estimate noise on baseline using autocorrelations\n",
    "var_with_nans = noise[auto_bl1] * noise[auto_bl2]\n",
    "var_with_nans[flags[bl]] = np.nan\n",
    "autocorrelation_noise = np.sqrt(np.abs(np.nanmean(var_with_nans, axis=0)))\n",
    "\n",
    "noise_amp = np.nanmean((autocorrelation_noise / interleaved_noise)[420:900]) # good freq range\n",
    "\n",
    "# Plot Results\n",
    "fig, ax1 = plt.subplots(figsize=(11, 7))\n",
    "\n",
    "ax1.plot(hd.freqs / 1e6, interleaved_noise * noise_amp, label='Interleaved Noise Estimate', lw=2)\n",
    "ax2 = ax1.twinx()\n",
    "ax2.plot(hd.freqs / 1e6, autocorrelation_noise, label='Noise Inferred from '\\\n",
    "         'Autocorrelations', color='orange', lw=2)\n",
    "\n",
    "plt.xlim(100, 200)\n",
    "plt.xlabel('Frequency [MHz]')\n",
    "ax2.set_ylabel('Amplitude [Jy]')\n",
    "\n",
    "ax1.set_ylim(bottom=0, top=50)\n",
    "ax2.set_ylim(bottom=0, top=20)\n",
    "\n",
    "lines_1, labels_1 = ax1.get_legend_handles_labels()\n",
    "lines_2, labels_2 = ax2.get_legend_handles_labels()\n",
    "lines = lines_1 + lines_2\n",
    "labels = labels_1 + labels_2\n",
    "ax1.legend(lines, labels, loc=0)\n",
    "\n",
    "fig.tight_layout()\n",
    "plt.show()"
   ]
  }
 ],
 "metadata": {
  "kernelspec": {
   "display_name": "hera",
   "language": "python",
   "name": "hera"
  },
  "language_info": {
   "codemirror_mode": {
    "name": "ipython",
    "version": 3
   },
   "file_extension": ".py",
   "mimetype": "text/x-python",
   "name": "python",
   "nbconvert_exporter": "python",
   "pygments_lexer": "ipython3",
   "version": "3.7.12"
  },
  "toc": {
   "base_numbering": 1,
   "nav_menu": {},
   "number_sections": true,
   "sideBar": true,
   "skip_h1_title": false,
   "title_cell": "Table of Contents",
   "title_sidebar": "Contents",
   "toc_cell": false,
   "toc_position": {},
   "toc_section_display": true,
   "toc_window_display": false
  },
  "varInspector": {
   "cols": {
    "lenName": 16,
    "lenType": 16,
    "lenVar": 40
   },
   "kernels_config": {
    "python": {
     "delete_cmd_postfix": "",
     "delete_cmd_prefix": "del ",
     "library": "var_list.py",
     "varRefreshCmd": "print(var_dic_list())"
    },
    "r": {
     "delete_cmd_postfix": ") ",
     "delete_cmd_prefix": "rm(",
     "library": "var_list.r",
     "varRefreshCmd": "cat(var_dic_list()) "
    }
   },
   "types_to_exclude": [
    "module",
    "function",
    "builtin_function_or_method",
    "instance",
    "_Feature"
   ],
   "window_display": false
  }
 },
 "nbformat": 4,
 "nbformat_minor": 4
}

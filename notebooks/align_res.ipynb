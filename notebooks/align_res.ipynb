{
 "cells": [
  {
   "cell_type": "code",
   "execution_count": null,
   "metadata": {},
   "outputs": [],
   "source": [
    "import os\n",
    "import sys\n",
    "\n",
    "import numpy as np\n",
    "import pandas as pd\n",
    "import pickle\n",
    "from matplotlib import pyplot as plt\n",
    "\n",
    "sys.path.insert(0, os.path.dirname(os.getcwd()))\n",
    "from align_utils import align_df, idr2_jdsx\n",
    "from plot_utils import arr_pcmesh, clipped_heatmap, df_heatmap\n",
    "from red_likelihood import makeCArray"
   ]
  },
  {
   "cell_type": "code",
   "execution_count": null,
   "metadata": {},
   "outputs": [],
   "source": [
    "%matplotlib inline"
   ]
  },
  {
   "cell_type": "code",
   "execution_count": null,
   "metadata": {},
   "outputs": [],
   "source": [
    "import matplotlib as mpl\n",
    "\n",
    "plot_figs = False\n",
    "if plot_figs:\n",
    "    mpl.rcParams['figure.dpi'] = 300\n",
    "\n",
    "mpl.rc('font',**{'family':'serif','serif':['cm']})\n",
    "mpl.rc('text', usetex=True)\n",
    "mpl.rc('text.latex', preamble=r'\\usepackage{amssymb} \\usepackage{amsmath}')"
   ]
  },
  {
   "cell_type": "markdown",
   "metadata": {},
   "source": [
    "## Statistics of redundantly calibration + degenerately transformed datasets across JDs"
   ]
  },
  {
   "cell_type": "code",
   "execution_count": null,
   "metadata": {},
   "outputs": [],
   "source": [
    "jd_time = 2458098.43869\n",
    "pol = 'ee'\n",
    "ndist = 'gaussian'\n",
    "aligned_dir = '../aligned_red_deg_dfs'"
   ]
  },
  {
   "cell_type": "code",
   "execution_count": null,
   "metadata": {},
   "outputs": [],
   "source": [
    "with open(os.path.join('../rel_dfs', 'rel_df.{}.{}.md.pkl'.format(jd_time, pol)), \\\n",
    "          'rb') as f:\n",
    "    md = pickle.load(f)\n",
    "    \n",
    "vis_list = list(map(str, np.arange(md['no_unq_bls']*2).tolist()))"
   ]
  },
  {
   "cell_type": "code",
   "execution_count": null,
   "metadata": {},
   "outputs": [],
   "source": [
    "idr2_df_path = os.path.join(aligned_dir, 'aligned_red_deg.1.3826.ee.{}.pkl'.format(ndist))\n",
    "idr2_df = pd.read_pickle(idr2_df_path)"
   ]
  },
  {
   "cell_type": "markdown",
   "metadata": {},
   "source": [
    "### Selected time"
   ]
  },
  {
   "cell_type": "code",
   "execution_count": null,
   "metadata": {},
   "outputs": [],
   "source": [
    "time_integration = 53\n",
    "\n",
    "# abs first then median\n",
    "idr2_df_tint = idr2_df.xs(time_integration, level='time_int', drop_level=True)\n",
    "idr2_df_tint = idr2_df_tint.apply(lambda row: pd.Series(makeCArray(row[vis_list].to_numpy().astype(float))), \\\n",
    "                                  axis=1)\n",
    "vis_abs_med = idr2_df_tint.abs().groupby(level=['freq']).median().transpose()\n",
    "\n",
    "# # med first then abs\n",
    "# idr2_df_tint = idr2_df.xs(time_integration, level='time_int', drop_level=True).groupby(level=['freq']).median()\n",
    "# idr2_df_tint = idr2_df_tint.apply(lambda row: pd.Series(makeCArray(row[vis_list].to_numpy().astype(float))), \\\n",
    "#                                   axis=1)\n",
    "# vis_abs_med = idr2_df_tint.abs().transpose()"
   ]
  },
  {
   "cell_type": "code",
   "execution_count": null,
   "metadata": {},
   "outputs": [],
   "source": [
    "freqs_arr = np.arange(md['Nfreqs'])[50:-50]\n",
    "blgrp_arr = np.arange(md['no_unq_bls'])\n",
    "tints_arr = np.arange(md['Ntimes'])"
   ]
  },
  {
   "cell_type": "code",
   "execution_count": null,
   "metadata": {},
   "outputs": [],
   "source": [
    "vmax = np.nanpercentile(vis_abs_med.to_numpy(), 97)\n",
    "\n",
    "arr_pcmesh(freqs_arr, blgrp_arr, vis_abs_med, vmin=0, vmax=vmax, extend='max', \\\n",
    "           xlabel='Frequency Channel', ylabel='Redundant Baseline Group', \\\n",
    "           clabel=r'$\\mathop{\\mathrm{med}}(|V|)$', xlim=(0, md['Nfreqs']-1), sci_fmt=True)"
   ]
  },
  {
   "cell_type": "code",
   "execution_count": null,
   "metadata": {},
   "outputs": [],
   "source": [
    "idr2_df_tint = idr2_df.xs(time_integration, level='time_int', drop_level=True).groupby(level=['freq']).var()\n",
    "vis_std = np.sqrt(idr2_df_tint[vis_list[0::2]].to_numpy() + idr2_df_tint[vis_list[1::2]].to_numpy()).transpose()\n",
    "\n",
    "arr_pcmesh(freqs_arr, blgrp_arr, vis_std, vmin=0, vmax=0.025, extend='max', \\\n",
    "           xlabel='Frequency Channel', ylabel='Redundant Baseline Group', clabel=r'$\\mathop{\\mathrm{std}}(V)$', \\\n",
    "           xlim=(0, md['Nfreqs']-1), sci_fmt=True)"
   ]
  },
  {
   "cell_type": "markdown",
   "metadata": {},
   "source": [
    "### Selected baseline (14m EW)"
   ]
  },
  {
   "cell_type": "code",
   "execution_count": null,
   "metadata": {},
   "outputs": [],
   "source": [
    "ew_bl_id = 2  # 14 m EW baselines\n",
    "\n",
    "Ntimes = idr2_df.index.get_level_values('time_int').unique().size\n",
    "Nfreqs = idr2_df.index.get_level_values('freq').unique().size"
   ]
  },
  {
   "cell_type": "code",
   "execution_count": null,
   "metadata": {},
   "outputs": [],
   "source": [
    "arr = np.sqrt(idr2_df[str(ew_bl_id*2)]**2 + idr2_df[str(ew_bl_id*2+1)]**2).groupby(level=['freq', 'time_int']).\\\n",
    "    median().to_numpy().reshape(Nfreqs, Ntimes).transpose()\n",
    "\n",
    "arr_pcmesh(freqs_arr, tints_arr, arr, vmin=0, vmax=0.06, extend='max', \\\n",
    "           xlabel='Frequency Channel', ylabel='Time Integration', clabel=r'$\\mathop{\\mathrm{med}}(|V|)$', \\\n",
    "           xlim=(0, md['Nfreqs']-1), sci_fmt=True)"
   ]
  },
  {
   "cell_type": "code",
   "execution_count": null,
   "metadata": {},
   "outputs": [],
   "source": [
    "arr = np.sqrt(idr2_df[[str(ew_bl_id*2), str(ew_bl_id*2+1)]].groupby(level=['freq', 'time_int']).var().sum(axis=1).\\\n",
    "    to_numpy().reshape(Nfreqs, Ntimes).transpose())"
   ]
  },
  {
   "cell_type": "code",
   "execution_count": null,
   "metadata": {},
   "outputs": [],
   "source": [
    "fig, ax = arr_pcmesh(freqs_arr, tints_arr, arr, vmin=0, vmax=0.02, extend='max', \\\n",
    "    xlabel='Frequency Channel', ylabel='Time Integration', clabel=r'$\\mathop{\\mathrm{std}}(V)$', \\\n",
    "    xlim=(0, md['Nfreqs']-1), sci_fmt=True, rtn_fig_ax=True)\n",
    "\n",
    "colorbar = ax.collections[0].colorbar\n",
    "colorbar.set_ticks(np.array([0., 0.5, 1, 1.5, 2])*1e-2)\n",
    "\n",
    "fig.tight_layout()\n",
    "plt.show()"
   ]
  },
  {
   "cell_type": "markdown",
   "metadata": {},
   "source": [
    "### NLLs"
   ]
  },
  {
   "cell_type": "code",
   "execution_count": null,
   "metadata": {},
   "outputs": [],
   "source": [
    "grp = idr2_df[['fun']].groupby(level=['freq', 'time_int'])\n",
    "logl_med = grp.median().to_numpy().reshape(Nfreqs, Ntimes).transpose()\n",
    "\n",
    "arr_pcmesh(freqs_arr, tints_arr, logl_med, vmin=0, vmax=0.17, extend='max', \\\n",
    "           xlabel='Frequency Channel', ylabel='Time Integration', clabel=r'$\\mathrm{med}(-\\ln(\\mathcal{L}))$', \\\n",
    "           xlim=(0, md['Nfreqs']-1), sci_fmt=True)"
   ]
  },
  {
   "cell_type": "code",
   "execution_count": null,
   "metadata": {},
   "outputs": [],
   "source": [
    "logl_std = grp.std().to_numpy().reshape(Nfreqs, Ntimes).transpose()\n",
    "\n",
    "arr_pcmesh(freqs_arr, tints_arr, logl_std, vmin=0, vmax=0.1, extend='max', \\\n",
    "           xlabel='Frequency Channel', ylabel='Time Integration', clabel=r'$\\mathrm{std}(-\\ln(\\mathcal{L}))$', \\\n",
    "           xlim=(0, md['Nfreqs']-1), sci_fmt=True)"
   ]
  },
  {
   "cell_type": "markdown",
   "metadata": {},
   "source": [
    "#### Flags from hera_cal"
   ]
  },
  {
   "cell_type": "code",
   "execution_count": null,
   "metadata": {},
   "outputs": [],
   "source": [
    "idr2_flags = np.load('../idr2_flags.npz')['arr_0']\n",
    "flags_arr = idr2_flags.sum(axis=0).transpose()\n",
    "\n",
    "arr_pcmesh(freqs_arr, tints_arr, flags_arr, vmin=0, \\\n",
    "           xlabel='Frequency Channel', ylabel='Time Integration', clabel=r'\\# Flags', \\\n",
    "           xlim=(0, md['Nfreqs']-1))"
   ]
  },
  {
   "cell_type": "markdown",
   "metadata": {},
   "source": [
    "## Outlier detection"
   ]
  },
  {
   "cell_type": "markdown",
   "metadata": {},
   "source": [
    "### Z-score"
   ]
  },
  {
   "cell_type": "code",
   "execution_count": null,
   "metadata": {},
   "outputs": [],
   "source": [
    "z_thresh = 3.3\n",
    "\n",
    "logl_mean = grp.mean().to_numpy().reshape(Nfreqs, Ntimes)\n",
    "idr2_flags = idr2_flags.astype(bool)\n",
    "logl_flags = np.empty_like(idr2_flags, dtype=bool)\n",
    "logls = np.empty_like(logl_flags, dtype=float)\n",
    "\n",
    "for i, jd in enumerate(idr2_jdsx):\n",
    "    logl_jd = idr2_df[['fun']].xs(jd, level='JD', drop_level=True).to_numpy().reshape(Nfreqs, Ntimes)\n",
    "    logl_flagi = np.logical_or(logl_jd > logl_mean + z_thresh*logl_std.T, logl_jd < logl_mean - z_thresh*logl_std.T)\n",
    "    logl_flags[i, ...] = logl_flagi\n",
    "    logls[i, ...] = logl_jd\n",
    "\n",
    "new_flags = np.logical_and(logl_flags, ~idr2_flags)\n",
    "print('{} potentially bad slices found that are not flagged through the '\\\n",
    "      'hera_cal pipeline, through std considerations'.format(np.sum(new_flags)))"
   ]
  },
  {
   "cell_type": "code",
   "execution_count": null,
   "metadata": {},
   "outputs": [],
   "source": [
    "bad_slices = np.where(new_flags)\n",
    "print(np.array(idr2_jdsx)[bad_slices[0]]) # JDs\n",
    "print(bad_slices[1] + 50) # Channels\n",
    "print(bad_slices[2]) # Time integrations"
   ]
  },
  {
   "cell_type": "code",
   "execution_count": null,
   "metadata": {},
   "outputs": [],
   "source": [
    "print(logls[bad_slices], '\\n') # NLLs for bad slices\n",
    "print(logl_mean[bad_slices[1:]], '\\n') # med NLLs across JDs for each bad slice slice\n",
    "print(logl_std.T[bad_slices[1:]]*1e3, '\\n')  # NLLs std across JDs for each bad slice"
   ]
  },
  {
   "cell_type": "markdown",
   "metadata": {},
   "source": [
    "### Modified Z-scores & MAD"
   ]
  },
  {
   "cell_type": "code",
   "execution_count": null,
   "metadata": {},
   "outputs": [],
   "source": [
    "correction=1.4826\n",
    "\n",
    "meds = np.repeat(np.squeeze(idr2_df[['fun']].groupby(level=['freq', 'time_int']).\\\n",
    "                 median().to_numpy()), len(idr2_jdsx))\n",
    "dev_from_med = idr2_df['fun'].to_numpy() - meds\n",
    "mad = np.median(np.abs(dev_from_med).reshape(-1, len(idr2_jdsx)), axis=1)\n",
    "modz = dev_from_med/(correction*np.repeat(mad, len(idr2_jdsx)))\n",
    "modz = np.swapaxes(modz.reshape((len(idr2_jdsx), Ntimes, Nfreqs), order='F'), 1, 2)"
   ]
  },
  {
   "cell_type": "code",
   "execution_count": null,
   "metadata": {},
   "outputs": [],
   "source": [
    "bad_slicesz = np.where(np.logical_and(np.abs(modz) > 11, ~idr2_flags))\n",
    "print('{} potentially bad slices found that are not flagged through the '\\\n",
    "      'hera_cal pipeline, through Z-score considerations'.format(bad_slicesz[0].size))"
   ]
  },
  {
   "cell_type": "code",
   "execution_count": null,
   "metadata": {},
   "outputs": [],
   "source": [
    "print(modz[bad_slicesz], '\\n') # modified Z-score\n",
    "print(logls[bad_slicesz], '\\n') # NLLs for bad slices\n",
    "print(logl_mean[bad_slicesz[1:]], '\\n') # med NLLs across JDs for each bad slice slice\n",
    "print(logl_std.T[bad_slicesz[1:]]*1e3, '\\n')  # NLL std across JDs for each bad slice\n",
    "print(mad.reshape((Nfreqs, Ntimes))[bad_slicesz[1:]]*1e3)  # MAD for each bad slice"
   ]
  },
  {
   "cell_type": "code",
   "execution_count": null,
   "metadata": {},
   "outputs": [],
   "source": [
    "bad_slices_t = tuple(np.append(bad_slices[i], bad_slicesz[i]) for i in range(len(bad_slices)))\n",
    "sort_index = np.argsort(bad_slices_t[0])\n",
    "bad_slices_t = tuple(b[sort_index] for b in bad_slices_t)"
   ]
  },
  {
   "cell_type": "code",
   "execution_count": null,
   "metadata": {},
   "outputs": [],
   "source": [
    "nice_print = np.empty((8, bad_slices_t[0].size))\n",
    "\n",
    "nice_print[0, :] = np.array(idr2_jdsx)[bad_slices_t[0]] # JDs\n",
    "nice_print[1, :] = bad_slices_t[1] + 50 # Channels\n",
    "nice_print[2, :] = bad_slices_t[2] # Time integrations\n",
    "nice_print[3, :] = logls[bad_slices_t] # NLLs\n",
    "nice_print[4, :] = logl_med.T[bad_slices_t[1:]] # med NLLs\n",
    "nice_print[5, :] = (logls[bad_slices_t] - logl_mean[bad_slices_t[1:]]) \\\n",
    "                   / logl_std.T[bad_slices_t[1:]] # Z-score\n",
    "nice_print[6, :] = modz[bad_slices_t] # Modified Z-score\n",
    "nice_print[7, :] = mad.reshape((Nfreqs, Ntimes))[bad_slices_t[1:]]*1e3 # MAD"
   ]
  },
  {
   "cell_type": "code",
   "execution_count": null,
   "metadata": {},
   "outputs": [],
   "source": [
    "# for LaTeX table formatting\n",
    "pp = nice_print.transpose()\n",
    "print('JD & Channel & Time & NLL & med NLL & Z-score & Z-score & MAD\\n')\n",
    "for i in range(bad_slices_t[0].size):\n",
    "    p = pp[i, :]\n",
    "    print('{} & {} & {} & {:.4f} & {:.4f} & {:.4f} & {:.4f} & {:.4f} \\\\\\\\'.\\\n",
    "          format(int(p[0]), int(p[1]), int(p[2]), p[3], p[4], p[5], p[6], p[7]))"
   ]
  }
 ],
 "metadata": {
  "kernelspec": {
   "display_name": "hera",
   "language": "python",
   "name": "hera"
  },
  "language_info": {
   "codemirror_mode": {
    "name": "ipython",
    "version": 3
   },
   "file_extension": ".py",
   "mimetype": "text/x-python",
   "name": "python",
   "nbconvert_exporter": "python",
   "pygments_lexer": "ipython3",
   "version": "3.7.12"
  },
  "toc": {
   "base_numbering": 1,
   "nav_menu": {},
   "number_sections": true,
   "sideBar": true,
   "skip_h1_title": false,
   "title_cell": "Table of Contents",
   "title_sidebar": "Contents",
   "toc_cell": false,
   "toc_position": {},
   "toc_section_display": true,
   "toc_window_display": false
  },
  "varInspector": {
   "cols": {
    "lenName": 16,
    "lenType": 16,
    "lenVar": 40
   },
   "kernels_config": {
    "python": {
     "delete_cmd_postfix": "",
     "delete_cmd_prefix": "del ",
     "library": "var_list.py",
     "varRefreshCmd": "print(var_dic_list())"
    },
    "r": {
     "delete_cmd_postfix": ") ",
     "delete_cmd_prefix": "rm(",
     "library": "var_list.r",
     "varRefreshCmd": "cat(var_dic_list()) "
    }
   },
   "types_to_exclude": [
    "module",
    "function",
    "builtin_function_or_method",
    "instance",
    "_Feature"
   ],
   "window_display": false
  }
 },
 "nbformat": 4,
 "nbformat_minor": 4
}

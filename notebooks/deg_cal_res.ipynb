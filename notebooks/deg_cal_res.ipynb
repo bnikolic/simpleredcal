{
 "cells": [
  {
   "cell_type": "code",
   "execution_count": null,
   "metadata": {},
   "outputs": [],
   "source": [
    "import glob\n",
    "import os\n",
    "import sys\n",
    "\n",
    "import matplotlib\n",
    "import numpy as np\n",
    "import pandas as pd\n",
    "\n",
    "sys.path.insert(0, os.path.dirname(os.getcwd()))\n",
    "from fit_diagnostics import abs_residuals\n",
    "from plot_utils import plot_res, plot_res_grouped, plot_res_heatmap\n",
    "from red_utils import find_deg_df"
   ]
  },
  {
   "cell_type": "code",
   "execution_count": null,
   "metadata": {},
   "outputs": [],
   "source": [
    "%matplotlib inline"
   ]
  },
  {
   "cell_type": "code",
   "execution_count": null,
   "metadata": {},
   "outputs": [],
   "source": [
    "JD_time = 2458098.43869\n",
    "pol = 'ee'\n",
    "dist = 'gaussian'\n",
    "dir_path = '../deg_dfs'\n",
    "\n",
    "test_freq = 612\n",
    "test_tint = 0"
   ]
  },
  {
   "cell_type": "code",
   "execution_count": null,
   "metadata": {},
   "outputs": [],
   "source": [
    "plot_figs = False\n",
    "if plot_figs:\n",
    "    import matplotlib as mpl\n",
    "    mpl.rcParams['figure.dpi'] = 300"
   ]
  },
  {
   "cell_type": "code",
   "execution_count": null,
   "metadata": {},
   "outputs": [],
   "source": [
    "test_tint1 = test_tint\n",
    "test_freq1 = test_freq"
   ]
  },
  {
   "cell_type": "markdown",
   "metadata": {},
   "source": [
    "## Adjacent time integrations"
   ]
  },
  {
   "cell_type": "code",
   "execution_count": null,
   "metadata": {},
   "outputs": [],
   "source": [
    "deg_df_t = find_deg_df(JD_time, pol, 'tint', dist, dir_path)\n",
    "\n",
    "df_t = pd.read_pickle(deg_df_t)\n",
    "df_t.sample(5).sort_index()"
   ]
  },
  {
   "cell_type": "code",
   "execution_count": null,
   "metadata": {},
   "outputs": [],
   "source": [
    "# Check results for a given frequency & time integration\n",
    "resx = df_t.loc[(test_tint1, test_freq)][6:-2].values.astype(float)\n",
    "print('Fitted degenerate parameters between relatively calibrated visibility solutions \\\n",
    "between time integrations {} and {} at frequency channel {} are: \\n{}'\\\n",
    ".format(test_tint1, test_tint1+1, test_freq, resx))"
   ]
  },
  {
   "cell_type": "code",
   "execution_count": null,
   "metadata": {},
   "outputs": [],
   "source": [
    "# Success rate percentage\n",
    "success_pct = df_t['success'].sum() / df_t['success'].size * 100\n",
    "print('{}% of iterations (freq/tint slice) were succesful'.format(round(success_pct, 2)))"
   ]
  },
  {
   "cell_type": "markdown",
   "metadata": {},
   "source": [
    "### Number of iterations required"
   ]
  },
  {
   "cell_type": "code",
   "execution_count": null,
   "metadata": {},
   "outputs": [],
   "source": [
    "plot_res(df_t, 'nit')"
   ]
  },
  {
   "cell_type": "code",
   "execution_count": null,
   "metadata": {},
   "outputs": [],
   "source": [
    "plot_res_grouped(df_t, 'nit', logy=False)"
   ]
  },
  {
   "cell_type": "code",
   "execution_count": null,
   "metadata": {},
   "outputs": [],
   "source": [
    "plot_res_heatmap(df_t, 'nit', index='time_int1', columns='freq', clip=True)"
   ]
  },
  {
   "cell_type": "markdown",
   "metadata": {},
   "source": [
    "### Log-likelihood"
   ]
  },
  {
   "cell_type": "code",
   "execution_count": null,
   "metadata": {},
   "outputs": [],
   "source": [
    "plot_res(df_t, 'fun', clip=True, clip_pctile=97)"
   ]
  },
  {
   "cell_type": "code",
   "execution_count": null,
   "metadata": {},
   "outputs": [],
   "source": [
    "plot_res_grouped(df_t, 'fun', logy=True)"
   ]
  },
  {
   "cell_type": "code",
   "execution_count": null,
   "metadata": {},
   "outputs": [],
   "source": [
    "plot_res(df_t.loc[test_tint,], 'fun', clip=True, clip_pctile=98)"
   ]
  },
  {
   "cell_type": "code",
   "execution_count": null,
   "metadata": {},
   "outputs": [],
   "source": [
    "plot_res_grouped(df_t.loc[test_tint,], 'fun', logy=True)"
   ]
  },
  {
   "cell_type": "code",
   "execution_count": null,
   "metadata": {},
   "outputs": [],
   "source": [
    "plot_res_heatmap(df_t, 'fun', index='time_int1', columns='freq', clip=True, clip_pctile=97)"
   ]
  },
  {
   "cell_type": "markdown",
   "metadata": {},
   "source": [
    "### Residuals"
   ]
  },
  {
   "cell_type": "code",
   "execution_count": null,
   "metadata": {},
   "outputs": [],
   "source": [
    "df_t[['med_abs_norm_res_Re', 'med_abs_norm_res_Im']] = df_t.apply(lambda row: \\\n",
    "pd.Series(abs_residuals(row['norm_residual'])), axis=1)"
   ]
  },
  {
   "cell_type": "code",
   "execution_count": null,
   "metadata": {},
   "outputs": [],
   "source": [
    "plot_res_heatmap(df_t, 'med_abs_norm_res_Re', index='time_int1', columns='freq', \\\n",
    "                 clip=True, clip_pctile=97)"
   ]
  },
  {
   "cell_type": "code",
   "execution_count": null,
   "metadata": {},
   "outputs": [],
   "source": [
    "plot_res_heatmap(df_t, 'med_abs_norm_res_Im', index='time_int1', columns='freq', \\\n",
    "                 clip=True, clip_pctile=97)"
   ]
  },
  {
   "cell_type": "markdown",
   "metadata": {},
   "source": [
    "Combined residual by adding Re and Im components in quadrature"
   ]
  },
  {
   "cell_type": "code",
   "execution_count": null,
   "metadata": {},
   "outputs": [],
   "source": [
    "df_t['med_abs_norm_res_comb'] = np.sqrt(df_t['med_abs_norm_res_Re']**2 + \\\n",
    "                                        df_t['med_abs_norm_res_Im']**2)"
   ]
  },
  {
   "cell_type": "code",
   "execution_count": null,
   "metadata": {},
   "outputs": [],
   "source": [
    "plot_res_heatmap(df_t, 'med_abs_norm_res_comb', index='time_int1', columns='freq', \\\n",
    "                 clip=True, clip_pctile=97)"
   ]
  },
  {
   "cell_type": "markdown",
   "metadata": {},
   "source": [
    "## Adjacent frequency channels"
   ]
  },
  {
   "cell_type": "code",
   "execution_count": null,
   "metadata": {},
   "outputs": [],
   "source": [
    "deg_df_f = find_deg_df(JD_time, pol, 'freq', dist, dir_path)\n",
    "    \n",
    "df_f = pd.read_pickle(deg_df_f)\n",
    "df_f.sample(5).sort_index()"
   ]
  },
  {
   "cell_type": "code",
   "execution_count": null,
   "metadata": {},
   "outputs": [],
   "source": [
    "# Check results for a given frequency & time integration\n",
    "resx = df_f.loc[(test_freq1, test_tint)][6:-2].values.astype(float)\n",
    "print('Fitted degenerate parameters between relatively calibrated visibility solutions \\\n",
    "between frequency channels {} and {} at time integration {} are: \\n{}'\\\n",
    ".format(test_freq1, test_freq1+1, test_tint, resx))"
   ]
  },
  {
   "cell_type": "code",
   "execution_count": null,
   "metadata": {},
   "outputs": [],
   "source": [
    "# Success rate percentage\n",
    "success_pct = df_f['success'].sum() / df_f['success'].size * 100\n",
    "print('{}% of iterations (freq/tint slice) were succesful'.format(round(success_pct, 2)))"
   ]
  },
  {
   "cell_type": "markdown",
   "metadata": {},
   "source": [
    "### Number of iterations required"
   ]
  },
  {
   "cell_type": "code",
   "execution_count": null,
   "metadata": {},
   "outputs": [],
   "source": [
    "plot_res(df_f, 'nit')"
   ]
  },
  {
   "cell_type": "code",
   "execution_count": null,
   "metadata": {},
   "outputs": [],
   "source": [
    "plot_res_grouped(df_f, 'nit', logy=False)"
   ]
  },
  {
   "cell_type": "code",
   "execution_count": null,
   "metadata": {},
   "outputs": [],
   "source": [
    "plot_res_heatmap(df_f, 'nit', index='time_int', columns='freq1', clip=True)"
   ]
  },
  {
   "cell_type": "markdown",
   "metadata": {},
   "source": [
    "### Log-likelihood"
   ]
  },
  {
   "cell_type": "code",
   "execution_count": null,
   "metadata": {},
   "outputs": [],
   "source": [
    "plot_res(df_f, 'fun', clip=True, clip_pctile=93)"
   ]
  },
  {
   "cell_type": "code",
   "execution_count": null,
   "metadata": {},
   "outputs": [],
   "source": [
    "plot_res_grouped(df_f, 'fun', logy=True)"
   ]
  },
  {
   "cell_type": "code",
   "execution_count": null,
   "metadata": {},
   "outputs": [],
   "source": [
    "# Looking at one frequency channel\n",
    "plot_res(df_f.loc[test_freq], 'fun')"
   ]
  },
  {
   "cell_type": "code",
   "execution_count": null,
   "metadata": {},
   "outputs": [],
   "source": [
    "plot_res_heatmap(df_f, 'fun', index='time_int', columns='freq1', clip=True, clip_pctile=88)"
   ]
  },
  {
   "cell_type": "markdown",
   "metadata": {},
   "source": [
    "### Residuals"
   ]
  },
  {
   "cell_type": "code",
   "execution_count": null,
   "metadata": {},
   "outputs": [],
   "source": [
    "df_f[['med_abs_norm_res_Re', 'med_abs_norm_res_Im']] = df_f.apply(lambda row: \\\n",
    "pd.Series(abs_residuals(row['norm_residual'])), axis=1)"
   ]
  },
  {
   "cell_type": "code",
   "execution_count": null,
   "metadata": {},
   "outputs": [],
   "source": [
    "plot_res_heatmap(df_f, 'med_abs_norm_res_Re', index='time_int', columns='freq1', \\\n",
    "                 clip=True, clip_pctile=85)"
   ]
  },
  {
   "cell_type": "code",
   "execution_count": null,
   "metadata": {},
   "outputs": [],
   "source": [
    "plot_res_heatmap(df_f, 'med_abs_norm_res_Im', index='time_int', columns='freq1', \\\n",
    "                 clip=True, clip_pctile=85)"
   ]
  },
  {
   "cell_type": "code",
   "execution_count": null,
   "metadata": {},
   "outputs": [],
   "source": [
    "df_f['med_abs_norm_res_comb'] = np.sqrt(df_f['med_abs_norm_res_Re']**2 + \\\n",
    "                                        df_f['med_abs_norm_res_Im']**2)"
   ]
  },
  {
   "cell_type": "code",
   "execution_count": null,
   "metadata": {},
   "outputs": [],
   "source": [
    "plot_res_heatmap(df_f, 'med_abs_norm_res_comb', index='time_int', columns='freq1', \\\n",
    "                 clip=True, clip_pctile=85)"
   ]
  },
  {
   "cell_type": "markdown",
   "metadata": {},
   "source": [
    "## Same LAST on different JDs"
   ]
  },
  {
   "cell_type": "code",
   "execution_count": null,
   "metadata": {},
   "outputs": [],
   "source": [
    "deg_df_j = find_deg_df(JD_time, pol, 'jd', dist, dir_path)\n",
    "    \n",
    "df_j = pd.read_pickle(deg_df_j)\n",
    "df_j.sample(5).sort_index()"
   ]
  },
  {
   "cell_type": "code",
   "execution_count": null,
   "metadata": {},
   "outputs": [],
   "source": [
    "# Check results for a given frequency & LAST\n",
    "splt_fn = deg_df_j.split('.')\n",
    "JD1 = splt_fn[-7]\n",
    "JD2 = splt_fn[-3]\n",
    "resx = df_j.loc[(test_tint1, test_freq)][6:-2].values.astype(float)\n",
    "print('Fitted degenerate parameters between relatively calibrated visibility solutions \\\n",
    "between time integrations {} and {} on JDS {} and {}, respectively, at frequency channel {} \\\n",
    "are: \\n{}'.format(test_tint1, df_j.loc[test_tint1, test_freq]['time_int2'], JD1, JD2, \\\n",
    "                  test_freq, resx))"
   ]
  },
  {
   "cell_type": "code",
   "execution_count": null,
   "metadata": {},
   "outputs": [],
   "source": [
    "# Success rate percentage\n",
    "success_pct = df_j['success'].sum() / df_j['success'].size * 100\n",
    "print('{}% of iterations (freq/tint slice) were succesful'.format(round(success_pct, 2)))"
   ]
  },
  {
   "cell_type": "markdown",
   "metadata": {},
   "source": [
    "### Number of iterations required"
   ]
  },
  {
   "cell_type": "code",
   "execution_count": null,
   "metadata": {},
   "outputs": [],
   "source": [
    "plot_res(df_j, 'nit')"
   ]
  },
  {
   "cell_type": "code",
   "execution_count": null,
   "metadata": {},
   "outputs": [],
   "source": [
    "plot_res_grouped(df_j, 'nit', logy=False)"
   ]
  },
  {
   "cell_type": "code",
   "execution_count": null,
   "metadata": {},
   "outputs": [],
   "source": [
    "plot_res_heatmap(df_j, 'nit', index='time_int1', columns='freq', clip=True)"
   ]
  },
  {
   "cell_type": "markdown",
   "metadata": {},
   "source": [
    "### Log-likelihood"
   ]
  },
  {
   "cell_type": "code",
   "execution_count": null,
   "metadata": {},
   "outputs": [],
   "source": [
    "plot_res(df_j, 'fun', clip=True, clip_pctile=97)"
   ]
  },
  {
   "cell_type": "code",
   "execution_count": null,
   "metadata": {},
   "outputs": [],
   "source": [
    "plot_res_grouped(df_j, 'fun', logy=True)"
   ]
  },
  {
   "cell_type": "code",
   "execution_count": null,
   "metadata": {},
   "outputs": [],
   "source": [
    "# Looking at one time integration\n",
    "plot_res(df_j.loc[test_tint,], 'fun', clip=True, clip_pctile=97)"
   ]
  },
  {
   "cell_type": "code",
   "execution_count": null,
   "metadata": {},
   "outputs": [],
   "source": [
    "plot_res_grouped(df_j.loc[test_tint,], 'fun', logy=True)"
   ]
  },
  {
   "cell_type": "code",
   "execution_count": null,
   "metadata": {},
   "outputs": [],
   "source": [
    "plot_res_heatmap(df_j, 'fun', index='time_int1', columns='freq', clip=True, clip_pctile=97)"
   ]
  },
  {
   "cell_type": "markdown",
   "metadata": {},
   "source": [
    "### Residuals"
   ]
  },
  {
   "cell_type": "code",
   "execution_count": null,
   "metadata": {},
   "outputs": [],
   "source": [
    "df_j[['med_abs_norm_res_Re', 'med_abs_norm_res_Im']] = df_j.apply(lambda row: \\\n",
    "pd.Series(abs_residuals(row['norm_residual'])), axis=1)"
   ]
  },
  {
   "cell_type": "code",
   "execution_count": null,
   "metadata": {},
   "outputs": [],
   "source": [
    "df_j['med_abs_norm_res_comb'] = np.sqrt(df_j['med_abs_norm_res_Re']**2 + \\\n",
    "                                        df_j['med_abs_norm_res_Im']**2)"
   ]
  },
  {
   "cell_type": "code",
   "execution_count": null,
   "metadata": {},
   "outputs": [],
   "source": [
    "plot_res_heatmap(df_j, 'med_abs_norm_res_comb', index='time_int1', columns='freq', \\\n",
    "                 clip=True, clip_pctile=96)"
   ]
  }
 ],
 "metadata": {
  "kernelspec": {
   "display_name": "Python 3 (ipykernel)",
   "language": "python",
   "name": "python3"
  },
  "language_info": {
   "codemirror_mode": {
    "name": "ipython",
    "version": 3
   },
   "file_extension": ".py",
   "mimetype": "text/x-python",
   "name": "python",
   "nbconvert_exporter": "python",
   "pygments_lexer": "ipython3",
   "version": "3.7.12"
  },
  "toc": {
   "base_numbering": 1,
   "nav_menu": {},
   "number_sections": true,
   "sideBar": true,
   "skip_h1_title": false,
   "title_cell": "Table of Contents",
   "title_sidebar": "Contents",
   "toc_cell": false,
   "toc_position": {},
   "toc_section_display": true,
   "toc_window_display": false
  },
  "varInspector": {
   "cols": {
    "lenName": 16,
    "lenType": 16,
    "lenVar": 40
   },
   "kernels_config": {
    "python": {
     "delete_cmd_postfix": "",
     "delete_cmd_prefix": "del ",
     "library": "var_list.py",
     "varRefreshCmd": "print(var_dic_list())"
    },
    "r": {
     "delete_cmd_postfix": ") ",
     "delete_cmd_prefix": "rm(",
     "library": "var_list.r",
     "varRefreshCmd": "cat(var_dic_list()) "
    }
   },
   "types_to_exclude": [
    "module",
    "function",
    "builtin_function_or_method",
    "instance",
    "_Feature"
   ],
   "window_display": false
  }
 },
 "nbformat": 4,
 "nbformat_minor": 4
}

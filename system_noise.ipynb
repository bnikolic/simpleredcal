{
 "cells": [
  {
   "cell_type": "code",
   "execution_count": null,
   "metadata": {},
   "outputs": [],
   "source": [
    "import os\n",
    "\n",
    "import numpy\n",
    "import pandas as pd\n",
    "import seaborn as sns\n",
    "from matplotlib import pyplot as plt\n",
    "from scipy.stats import mode\n",
    "\n",
    "from hera_cal.redcal import get_reds\n",
    "\n",
    "from red_likelihood import fltBad, groupBls, group_data\n",
    "from red_utils import find_flag_file, find_nearest, find_zen_file, get_bad_ants, \\\n",
    "match_lst, split_rel_results"
   ]
  },
  {
   "cell_type": "code",
   "execution_count": null,
   "metadata": {},
   "outputs": [],
   "source": [
    "plt.rcParams['figure.figsize'] = (12, 8)\n",
    "%matplotlib inline"
   ]
  },
  {
   "cell_type": "code",
   "execution_count": null,
   "metadata": {},
   "outputs": [],
   "source": [
    "JD = 2458098.43869\n",
    "pol = 'ee'\n",
    "freq_channel = 620"
   ]
  },
  {
   "cell_type": "code",
   "execution_count": null,
   "metadata": {},
   "outputs": [],
   "source": [
    "zen_fn = find_zen_file(JD)\n",
    "bad_ants = get_bad_ants(zen_fn)\n",
    "flags_fn = find_flag_file(JD, 'first')"
   ]
  },
  {
   "cell_type": "code",
   "execution_count": null,
   "metadata": {},
   "outputs": [],
   "source": [
    "hdraw, RedG, cMData = group_data(zen_fn, pol, freq_channel, None, bad_ants, flags_fn)\n",
    "cData_1 = numpy.squeeze(cMData.filled())"
   ]
  },
  {
   "cell_type": "markdown",
   "metadata": {},
   "source": [
    "##  Visibilities for a given baseline type"
   ]
  },
  {
   "cell_type": "code",
   "execution_count": null,
   "metadata": {},
   "outputs": [],
   "source": [
    "reds = fltBad(get_reds(hdraw.antpos, pols=[pol]), bad_ants)\n",
    "bl_types = RedG[:, 0]\n",
    "slct_bl_type = mode(bl_types)[0][0] # selecting modal value for baseline type\n",
    "slct_idxs = numpy.where(bl_types == slct_bl_type)[0]\n",
    "print('Selecting visibilities with baseline type {} that are redundant with '\\\n",
    "      'baseline {}, of which there are {}'.format(slct_bl_type, reds[slct_bl_type][0], \\\n",
    "      slct_idxs.size))"
   ]
  },
  {
   "cell_type": "code",
   "execution_count": null,
   "metadata": {},
   "outputs": [],
   "source": [
    "slct_vis_t = cData_1[:, slct_idxs]"
   ]
  },
  {
   "cell_type": "code",
   "execution_count": null,
   "metadata": {},
   "outputs": [],
   "source": [
    "vis_amp_t = numpy.abs(slct_vis_t)\n",
    "\n",
    "fig, ax = plt.subplots(figsize=(12, 8))\n",
    "plt.plot(vis_amp_t, alpha=0.5)\n",
    "plt.plot(numpy.median(vis_amp_t, axis=1), linewidth=3)\n",
    "plt.xlabel('Time integration')\n",
    "plt.ylabel('Visibility amplitude')\n",
    "plt.show()"
   ]
  },
  {
   "cell_type": "code",
   "execution_count": null,
   "metadata": {},
   "outputs": [],
   "source": [
    "df_t = pd.DataFrame(vis_amp_t).stack().reset_index()\n",
    "df_t.rename(columns={'level_0': 'time_int', 'level_1': 'bl', 0: 'vis_amp'}, inplace=True)\n",
    "\n",
    "fig, ax = plt.subplots(figsize=(12, 8))\n",
    "ax = sns.lineplot(x='time_int', y='vis_amp', data=df_t, ci='sd', linewidth=3)\n",
    "plt.xlabel('Time integration')\n",
    "plt.ylabel('Visibility amplitude')\n",
    "plt.show()"
   ]
  },
  {
   "cell_type": "code",
   "execution_count": null,
   "metadata": {},
   "outputs": [],
   "source": [
    "vis_phase_t = numpy.angle(slct_vis_t)\n",
    "\n",
    "fig, ax = plt.subplots(figsize=(12, 8))\n",
    "plt.plot(vis_phase_t)\n",
    "plt.xlabel('Time integration')\n",
    "plt.ylabel('Visibility phase')\n",
    "plt.show()"
   ]
  },
  {
   "cell_type": "markdown",
   "metadata": {},
   "source": [
    "## Upper bound on noise"
   ]
  },
  {
   "cell_type": "markdown",
   "metadata": {},
   "source": [
    "### Adjacent time integrations"
   ]
  },
  {
   "cell_type": "markdown",
   "metadata": {},
   "source": [
    "Take a given baseline, and compare the visibilities between one time integration and the next"
   ]
  },
  {
   "cell_type": "code",
   "execution_count": null,
   "metadata": {},
   "outputs": [],
   "source": [
    "vis_bl_t = slct_vis_t[:, 0]\n",
    "vis_diff_t = numpy.asarray([t - s for s, t in zip(vis_bl_t, vis_bl_t[1:])])"
   ]
  },
  {
   "cell_type": "markdown",
   "metadata": {},
   "source": [
    "Take the standard deviation of the different between visibilities adjacent in time for an entire dataset, as a proxy for the noise\n",
    "\n",
    "n.b. the variance of a complex random variable $z$ is equal to the sum of the variances of its real and imaginary parts\n",
    "\n",
    "$$ \\mathrm{Var}[z] = \\mathrm{Var}[\\Re(z)] + \\mathrm{Var}[\\Im(z)] $$"
   ]
  },
  {
   "cell_type": "code",
   "execution_count": null,
   "metadata": {},
   "outputs": [],
   "source": [
    "noise_std_t = numpy.sqrt(numpy.var(vis_diff_t.real) + numpy.var(vis_diff_t.imag))\n",
    "mean_vis_amp_t = numpy.mean(numpy.abs(vis_bl_t))\n",
    "print('Upper bound on noise, by comparing adjacent visibilities in time at the same '\\\n",
    "      'frequency is {}, which is {}% of the mean visibility amplitude'.\\\n",
    "      format(round(noise_std_t, 5), round(100*noise_std_t/mean_vis_amp_t, 1)))"
   ]
  },
  {
   "cell_type": "markdown",
   "metadata": {},
   "source": [
    "### Same LAST on different JDs"
   ]
  },
  {
   "cell_type": "markdown",
   "metadata": {},
   "source": [
    "A more reliable estimate of the noise is by looking at visibilities from different JDs that match in LAST"
   ]
  },
  {
   "cell_type": "code",
   "execution_count": null,
   "metadata": {},
   "outputs": [],
   "source": [
    "JD_2a= match_lst(JD, 2458099) # finding the JD_time of the zen_file\n",
    "# that matches the LAST of the first dataset used\n",
    "zen_fn2a = find_zen_file(JD_2a)\n",
    "bad_ants2a = get_bad_ants(zen_fn2a)\n",
    "flags_fn2a = find_flag_file(JD_2a, 'first')"
   ]
  },
  {
   "cell_type": "code",
   "execution_count": null,
   "metadata": {},
   "outputs": [],
   "source": [
    "last_df = pd.read_pickle('jd_lst_map_idr2.pkl')\n",
    "\n",
    "next_row = numpy.where(last_df['JD_time'] == JD_2a)[0][0] + 1\n",
    "JD_2b = last_df.iloc[next_row]['JD_time']\n",
    "zen_fn2b = find_zen_file(JD_2b)\n",
    "bad_ants2b = get_bad_ants(zen_fn2b)\n",
    "flags_fn2b = find_flag_file(JD_2b, 'first')"
   ]
  },
  {
   "cell_type": "code",
   "execution_count": null,
   "metadata": {},
   "outputs": [],
   "source": [
    "last1 = last_df[last_df['JD_time'] == JD]['LASTs'].values[0]\n",
    "last2 = last_df[last_df['JD_time'] == JD_2a]['LASTs'].values[0]\n",
    "_, offset = find_nearest(last2, last1[0])"
   ]
  },
  {
   "cell_type": "code",
   "execution_count": null,
   "metadata": {},
   "outputs": [],
   "source": [
    "_, _, cMData = group_data(zen_fn2a, pol, freq_channel, None, bad_ants2a, flags_fn2a)\n",
    "cData_2a = numpy.squeeze(cMData.filled())[offset:]\n",
    "\n",
    "_, _, cMData = group_data(zen_fn2b, pol, freq_channel, None, bad_ants2b, flags_fn2b)\n",
    "cData_2b = numpy.squeeze(cMData.filled())[:offset]\n"
   ]
  },
  {
   "cell_type": "code",
   "execution_count": null,
   "metadata": {},
   "outputs": [],
   "source": [
    "cData_2 = numpy.concatenate((cData_2a, cData_2b))\n",
    "slct_vis_j = cData_2[:, slct_idxs]"
   ]
  },
  {
   "cell_type": "code",
   "execution_count": null,
   "metadata": {},
   "outputs": [],
   "source": [
    "vis_amp_j = numpy.abs(slct_vis_j)\n",
    "\n",
    "fig, ax = plt.subplots(figsize=(12, 8))\n",
    "plt.plot(vis_amp_j, alpha=0.5)\n",
    "plt.plot(numpy.median(vis_amp_j, axis=1), linewidth=3)\n",
    "plt.xlabel('Time integration')\n",
    "plt.ylabel('Visibility amplitude')\n",
    "plt.show()"
   ]
  },
  {
   "cell_type": "code",
   "execution_count": null,
   "metadata": {},
   "outputs": [],
   "source": [
    "# Plotting median visibilities on separate JD days but same LAST on top of each other\n",
    "\n",
    "fig, ax = plt.subplots(figsize=(12, 8))\n",
    "plt.plot(numpy.median(vis_amp_t, axis=1), linewidth=2)\n",
    "plt.plot(numpy.median(vis_amp_j, axis=1), linewidth=2)\n",
    "plt.xlabel('Time integration')\n",
    "plt.ylabel('Visibility amplitude')\n",
    "plt.show()"
   ]
  },
  {
   "cell_type": "code",
   "execution_count": null,
   "metadata": {},
   "outputs": [],
   "source": [
    "vis_bl_j = slct_vis_j[:, 0]\n",
    "vis_diff_j = numpy.asarray([t - s for s, t in zip(vis_bl_j, vis_bl_j[1:])])"
   ]
  },
  {
   "cell_type": "code",
   "execution_count": null,
   "metadata": {},
   "outputs": [],
   "source": [
    "noise_std_j = numpy.sqrt(numpy.var(vis_diff_j.real) + numpy.var(vis_diff_j.imag))\n",
    "mean_vis_amp_j = numpy.mean(numpy.abs(vis_bl_j))\n",
    "print('Upper bound on noise, by comparing adjacent visibilities in time at the same '\\\n",
    "      'frequency is {}, which is {}% of the mean visibility amplitude'.\\\n",
    "      format(round(noise_std_j, 5), round(100*noise_std_j/mean_vis_amp_j, 1)))"
   ]
  },
  {
   "cell_type": "code",
   "execution_count": null,
   "metadata": {},
   "outputs": [],
   "source": []
  }
 ],
 "metadata": {
  "kernelspec": {
   "display_name": "Python 3",
   "language": "python",
   "name": "python3"
  },
  "language_info": {
   "codemirror_mode": {
    "name": "ipython",
    "version": 3
   },
   "file_extension": ".py",
   "mimetype": "text/x-python",
   "name": "python",
   "nbconvert_exporter": "python",
   "pygments_lexer": "ipython3",
   "version": "3.7.6"
  },
  "toc": {
   "base_numbering": 1,
   "nav_menu": {},
   "number_sections": true,
   "sideBar": true,
   "skip_h1_title": false,
   "title_cell": "Table of Contents",
   "title_sidebar": "Contents",
   "toc_cell": false,
   "toc_position": {},
   "toc_section_display": true,
   "toc_window_display": false
  }
 },
 "nbformat": 4,
 "nbformat_minor": 4
}

{
 "cells": [
  {
   "cell_type": "code",
   "execution_count": null,
   "metadata": {},
   "outputs": [],
   "source": [
    "import os\n",
    "\n",
    "import numpy\n",
    "import pandas as pd\n",
    "import pickle\n",
    "import seaborn as sns\n",
    "from textwrap import wrap\n",
    "from matplotlib import pyplot as plt\n",
    "from matplotlib import ticker\n",
    "from scipy.stats import mode\n",
    "\n",
    "from hera_cal.redcal import get_reds\n",
    "\n",
    "from red_likelihood import fltBad, groupBls, group_data, gVis, relabelAnts\n",
    "from red_utils import find_flag_file, find_nearest, find_rel_df, find_zen_file, \\\n",
    "get_bad_ants, match_lst, split_rel_results"
   ]
  },
  {
   "cell_type": "code",
   "execution_count": null,
   "metadata": {},
   "outputs": [],
   "source": [
    "plt.rcParams['figure.figsize'] = (12, 8)\n",
    "%matplotlib inline"
   ]
  },
  {
   "cell_type": "code",
   "execution_count": null,
   "metadata": {},
   "outputs": [],
   "source": [
    "JD = 2458098.43869\n",
    "pol = 'ee'"
   ]
  },
  {
   "cell_type": "code",
   "execution_count": null,
   "metadata": {},
   "outputs": [],
   "source": [
    "zen_fn = find_zen_file(JD)\n",
    "bad_ants = get_bad_ants(zen_fn)\n",
    "flags_fn = find_flag_file(JD, 'first')"
   ]
  },
  {
   "cell_type": "code",
   "execution_count": null,
   "metadata": {},
   "outputs": [],
   "source": [
    "hdraw, RedG, cMData = group_data(zen_fn, pol, None, None, bad_ants, flags_fn)\n",
    "cData_1 = cMData.filled()"
   ]
  },
  {
   "cell_type": "markdown",
   "metadata": {},
   "source": [
    "# Difference in adjacent visibilities as an estimate of noise"
   ]
  },
  {
   "cell_type": "markdown",
   "metadata": {},
   "source": [
    "###  Selecting visibilities for a given baseline type and frequency"
   ]
  },
  {
   "cell_type": "code",
   "execution_count": null,
   "metadata": {},
   "outputs": [],
   "source": [
    "freq_channel = 620"
   ]
  },
  {
   "cell_type": "code",
   "execution_count": null,
   "metadata": {},
   "outputs": [],
   "source": [
    "reds = fltBad(get_reds(hdraw.antpos, pols=[pol]), bad_ants)\n",
    "bl_types = RedG[:, 0]\n",
    "slct_bl_type_id = mode(bl_types)[0][0] # selecting modal value for baseline type\n",
    "slct_bl_type = reds[slct_bl_type_id][0]\n",
    "slct_idxs = numpy.where(bl_types == slct_bl_type_id)[0]\n",
    "print('Selecting visibilities with baseline type {} that are redundant with '\\\n",
    "      'baseline {}, of which there are {}'.format(slct_bl_type_id, slct_bl_type, \\\n",
    "      slct_idxs.size))"
   ]
  },
  {
   "cell_type": "code",
   "execution_count": null,
   "metadata": {},
   "outputs": [],
   "source": [
    "slct_vis_t = numpy.squeeze(cData_1[numpy.ix_([freq_channel], \\\n",
    "                                             numpy.arange(cData_1.shape[1]), slct_idxs)])"
   ]
  },
  {
   "cell_type": "code",
   "execution_count": null,
   "metadata": {},
   "outputs": [],
   "source": [
    "vis_amp_t = numpy.abs(slct_vis_t)\n",
    "\n",
    "fig, ax = plt.subplots(figsize=(11, 7))\n",
    "plt.plot(vis_amp_t, alpha=0.5)\n",
    "plt.plot(numpy.median(vis_amp_t, axis=1), linewidth=3)\n",
    "plt.xlabel('Time integration')\n",
    "plt.ylabel('Visibility amplitude')\n",
    "fig.tight_layout()\n",
    "plt.show()"
   ]
  },
  {
   "cell_type": "code",
   "execution_count": null,
   "metadata": {},
   "outputs": [],
   "source": [
    "df_t = pd.DataFrame(vis_amp_t).stack().reset_index()\n",
    "df_t.rename(columns={'level_0': 'time_int', 'level_1': 'bl', 0: 'vis_amp'}, inplace=True)\n",
    "\n",
    "fig, ax = plt.subplots(figsize=(11, 7))\n",
    "ax = sns.lineplot(x='time_int', y='vis_amp', data=df_t, ci='sd', linewidth=3)\n",
    "plt.xlabel('Time integration')\n",
    "plt.ylabel('Visibility amplitude')\n",
    "fig.tight_layout()\n",
    "plt.show()"
   ]
  },
  {
   "cell_type": "code",
   "execution_count": null,
   "metadata": {},
   "outputs": [],
   "source": [
    "vis_phase_t = numpy.angle(slct_vis_t)\n",
    "\n",
    "fig, ax = plt.subplots(figsize=(11, 7))\n",
    "plt.plot(vis_phase_t)\n",
    "plt.xlabel('Time integration')\n",
    "plt.ylabel('Visibility phase')\n",
    "fig.tight_layout()\n",
    "plt.show()"
   ]
  },
  {
   "cell_type": "markdown",
   "metadata": {},
   "source": [
    "## Adjacent time integrations"
   ]
  },
  {
   "cell_type": "markdown",
   "metadata": {},
   "source": [
    "### Single baseline: {{reds[slct_bl_type][0]}}"
   ]
  },
  {
   "cell_type": "markdown",
   "metadata": {},
   "source": [
    "#### Single frequency: channel {{freq_channel}}"
   ]
  },
  {
   "cell_type": "markdown",
   "metadata": {},
   "source": [
    "Take a given baseline, and compare the visibilities between one time integration and the next. This should provide an upper bound on the noise of the visibilities, since the difference between adjacent visibilities will encapsulate both the noise and the difference in the observed sky (due to a slight drift)."
   ]
  },
  {
   "cell_type": "code",
   "execution_count": null,
   "metadata": {},
   "outputs": [],
   "source": [
    "bl_type_idx = 0\n",
    "\n",
    "vis_bl_t = slct_vis_t[:, bl_type_idx]\n",
    "print('From the {} baselines of type {} selected, only consider baseline {}'\\\n",
    "      .format(slct_idxs.size, slct_bl_type, reds[slct_bl_type_id][bl_type_idx]))\n",
    "vis_diff_t = numpy.asarray([t - s for s, t in zip(vis_bl_t, vis_bl_t[1:])])"
   ]
  },
  {
   "cell_type": "markdown",
   "metadata": {},
   "source": [
    "Take the standard deviation of the different between visibilities adjacent in time for an entire dataset, as a proxy for the noise\n",
    "\n",
    "n.b. the variance of a complex random variable $z$ is equal to the sum of the variances of its real and imaginary parts\n",
    "\n",
    "$$ \\mathrm{Var}[z] = \\mathrm{Var}[\\Re(z)] + \\mathrm{Var}[\\Im(z)] $$"
   ]
  },
  {
   "cell_type": "code",
   "execution_count": null,
   "metadata": {},
   "outputs": [],
   "source": [
    "noise_std_t = numpy.sqrt(numpy.var(vis_diff_t.real) + numpy.var(vis_diff_t.imag))\n",
    "mean_vis_amp_t = numpy.mean(numpy.abs(vis_bl_t))\n",
    "print('Upper bound on noise, by comparing adjacent visibilities in time at the same '\\\n",
    "      'frequency is {}, which is {}% of the mean visibility amplitude'.\\\n",
    "      format(round(noise_std_t, 5), round(100*noise_std_t/mean_vis_amp_t, 1)))"
   ]
  },
  {
   "cell_type": "markdown",
   "metadata": {},
   "source": [
    "A more reliable estimate of the noise is by looking at visibilities from different JDs that match in LAST"
   ]
  },
  {
   "cell_type": "markdown",
   "metadata": {},
   "source": [
    "#### Noise per frequency"
   ]
  },
  {
   "cell_type": "code",
   "execution_count": null,
   "metadata": {},
   "outputs": [],
   "source": [
    "slct_vis_tf = cData_1[..., slct_idxs]"
   ]
  },
  {
   "cell_type": "code",
   "execution_count": null,
   "metadata": {},
   "outputs": [],
   "source": [
    "vis_bl_tf = slct_vis_tf[..., 0]\n",
    "vis_diff_tf = numpy.empty((vis_bl_tf.shape[0], vis_bl_tf.shape[1]-1), dtype=complex)\n",
    "noise_std_tf = numpy.empty(vis_bl_tf.shape[0])\n",
    "mean_vis_amp_tf = numpy.empty_like(noise_std_tf)\n",
    "for freq in range(vis_diff_tf.shape[0]):\n",
    "    vdiff = numpy.asarray([t - s for s, t in zip(vis_bl_tf[freq, :], \\\n",
    "                                                 vis_bl_tf[freq, 1:])])\n",
    "    vis_diff_tf[freq, :] = vdiff\n",
    "    noise_std_tf[freq] = numpy.sqrt(numpy.var(vdiff.real) + numpy.var(vdiff.imag))\n",
    "    mean_vis_amp_tf[freq] = numpy.mean(numpy.abs(vis_bl_tf[freq, :]))"
   ]
  },
  {
   "cell_type": "code",
   "execution_count": null,
   "metadata": {},
   "outputs": [],
   "source": [
    "clip_pctile = 97\n",
    "\n",
    "fig, ax = plt.subplots(figsize=(14,7))\n",
    "diffs = numpy.abs(vis_diff_tf).transpose()\n",
    "ax = sns.heatmap(diffs, vmax=numpy.ceil(numpy.nanpercentile(diffs, clip_pctile)*100)/100)\n",
    "ax.xaxis.set_major_locator(ticker.MultipleLocator(50))\n",
    "ax.xaxis.set_major_formatter(ticker.ScalarFormatter())\n",
    "ax.yaxis.set_major_locator(ticker.MultipleLocator(5))\n",
    "ax.yaxis.set_major_formatter(ticker.ScalarFormatter())\n",
    "plt.xlabel('Frequency Channel')\n",
    "plt.ylabel('Time Integration')\n",
    "plt.title('Residual between adjacent visibilities (in time)')\n",
    "plt.show()"
   ]
  },
  {
   "cell_type": "code",
   "execution_count": null,
   "metadata": {},
   "outputs": [],
   "source": [
    "fig, ax = plt.subplots(figsize=(11, 7))\n",
    "plt.plot(noise_std_tf)\n",
    "ax.set_yscale('log')\n",
    "plt.xlabel('Frequency Channel')\n",
    "plt.ylabel('Log-noise')\n",
    "plt.title('Log of the standard deviation of residuals between adjactent visibilities '\\\n",
    "          '(in time)')\n",
    "fig.tight_layout()\n",
    "plt.show()"
   ]
  },
  {
   "cell_type": "code",
   "execution_count": null,
   "metadata": {},
   "outputs": [],
   "source": [
    "fig, ax = plt.subplots(figsize=(11, 7))\n",
    "plt.plot(noise_std_tf/mean_vis_amp_tf)\n",
    "plt.xlabel('Frequency channel')\n",
    "plt.ylabel('Fractional noise')\n",
    "plt.title('Standard deviation of residuals between adjactent visibilities '\\\n",
    "          '(in time) divided by the mean visibility amplitude')\n",
    "fig.tight_layout()\n",
    "plt.show()"
   ]
  },
  {
   "cell_type": "markdown",
   "metadata": {},
   "source": [
    "### Redundant baseline group"
   ]
  },
  {
   "cell_type": "code",
   "execution_count": null,
   "metadata": {},
   "outputs": [],
   "source": [
    "print('Considering baselines of type {}'.format(slct_bl_type))"
   ]
  },
  {
   "cell_type": "code",
   "execution_count": null,
   "metadata": {},
   "outputs": [],
   "source": [
    "vis_diff_tfb = numpy.empty((slct_vis_tf.shape[0], slct_vis_tf.shape[1]-1, \\\n",
    "                            slct_vis_tf.shape[2]), dtype=complex)\n",
    "noise_std_tfb = numpy.empty((slct_vis_tf.shape[0], slct_vis_tf.shape[2]))\n",
    "mean_vis_amp_tfb = numpy.empty_like(noise_std_tfb)\n",
    "for bl in range(vis_diff_tfb.shape[2]):\n",
    "    for freq in range(vis_diff_tfb.shape[0]):\n",
    "        vdiff = numpy.asarray([t - s for s, t in zip(slct_vis_tf[freq, :, bl], \\\n",
    "                                                     slct_vis_tf[freq, 1:, bl])])\n",
    "        vis_diff_tfb[freq, :, bl] = vdiff\n",
    "        noise_std_tfb[freq, bl] = numpy.sqrt(numpy.var(vdiff.real) + \\\n",
    "                                                  numpy.var(vdiff.imag))\n",
    "        mean_vis_amp_tfb[freq, bl] = numpy.mean(numpy.abs(slct_vis_tf[freq, :, bl]))"
   ]
  },
  {
   "cell_type": "code",
   "execution_count": null,
   "metadata": {},
   "outputs": [],
   "source": [
    "fig, ax = plt.subplots(figsize=(11, 7))\n",
    "for bl in range(noise_std_tfb.shape[1]):\n",
    "    plt.plot(noise_std_tfb[:, bl])\n",
    "ax.set_yscale('log')\n",
    "plt.xlabel('Frequency Channel')\n",
    "plt.ylabel('Log-noise')\n",
    "plt.title('Log of the standard deviation of residuals between adjactent visibilities '\\\n",
    "          '(in time) for different baselines of type')\n",
    "fig.tight_layout()\n",
    "plt.show()"
   ]
  },
  {
   "cell_type": "code",
   "execution_count": null,
   "metadata": {},
   "outputs": [],
   "source": [
    "fig, ax = plt.subplots(figsize=(11, 7))\n",
    "for bl in range(noise_std_tfb.shape[1]):\n",
    "    plt.plot(noise_std_tfb[:, bl]/mean_vis_amp_tfb[:, bl])\n",
    "plt.xlabel('Frequency channel')\n",
    "plt.ylabel('Fractional noise')\n",
    "plt.title('\\n'.join(wrap('Standard deviation of residuals between adjactent visibilities '\\\n",
    "          '(in time) divided by the mean visibility amplitude, for baselines redundant '\\\n",
    "          'with {}'.format(slct_bl_type), 110)))\n",
    "plt.ylim((0, 5))\n",
    "fig.tight_layout()\n",
    "plt.show()"
   ]
  },
  {
   "cell_type": "code",
   "execution_count": null,
   "metadata": {},
   "outputs": [],
   "source": [
    "clip_pctile = 97\n",
    "\n",
    "frac_noise_blgroup = noise_std_tfb/mean_vis_amp_tfb\n",
    "fig, ax = plt.subplots(figsize=(14,7))\n",
    "ax = sns.heatmap((frac_noise_blgroup).transpose(), \\\n",
    "                 vmax=numpy.ceil(numpy.nanpercentile(frac_noise_blgroup, clip_pctile)*100)/100)\n",
    "ax.xaxis.set_major_locator(ticker.MultipleLocator(50))\n",
    "ax.xaxis.set_major_formatter(ticker.ScalarFormatter())\n",
    "ax.yaxis.set_major_locator(ticker.MultipleLocator(5))\n",
    "ax.yaxis.set_major_formatter(ticker.ScalarFormatter())\n",
    "plt.xlabel('Frequency Channel')\n",
    "plt.ylabel('Baseline')\n",
    "plt.title('\\n'.join(wrap('Standard deviation of residuals between adjactent visibilities '\\\n",
    "          '(in time) divided by the mean visibility amplitude, for baselines in redundant group {}'\\\n",
    "          .format(slct_bl_type), 100)))\n",
    "plt.show()"
   ]
  },
  {
   "cell_type": "markdown",
   "metadata": {},
   "source": [
    "#### Noise across redundant group"
   ]
  },
  {
   "cell_type": "markdown",
   "metadata": {},
   "source": [
    "We now add errors in quadrature, assuming an error covariance of zero (independent measurements and uncorrelated errors).\n",
    "\n",
    "$$\\sigma_{\\text{red_group}} = \\frac{1}{N} \\sqrt{\\sum_i{\\sigma_i^2}} $$"
   ]
  },
  {
   "cell_type": "code",
   "execution_count": null,
   "metadata": {},
   "outputs": [],
   "source": [
    "red_noise = numpy.sqrt(numpy.sum(numpy.square(noise_std_tfb), axis=1)) / noise_std_tfb.shape[1]"
   ]
  },
  {
   "cell_type": "code",
   "execution_count": null,
   "metadata": {},
   "outputs": [],
   "source": [
    "fig, ax = plt.subplots(figsize=(11, 7))\n",
    "plt.plot(red_noise)\n",
    "ax.set_yscale('log')\n",
    "plt.xlabel('Frequency Channel')\n",
    "plt.ylabel('Log-noise')\n",
    "plt.title('\\n'.join(wrap('Log of the combined standard deviation of residuals between adjactent visibilities '\\\n",
    "          '(in time) for baseline group of type {}'.format(slct_bl_type), 110)))\n",
    "fig.tight_layout()\n",
    "plt.show()"
   ]
  },
  {
   "cell_type": "code",
   "execution_count": null,
   "metadata": {},
   "outputs": [],
   "source": [
    "fig, ax = plt.subplots(figsize=(11, 7))\n",
    "plt.plot(red_noise/numpy.mean(mean_vis_amp_tfb, axis=1))\n",
    "plt.xlabel('Frequency channel')\n",
    "plt.ylabel('Fractional noise')\n",
    "plt.title('\\n'.join(wrap('Standard deviation of residuals between adjactent visibilities '\\\n",
    "          '(in time) divided by the mean visibility amplitude, for baselines redundant '\\\n",
    "          'with {}'.format(slct_bl_type), 110)))\n",
    "plt.ylim(bottom=0, top=1)\n",
    "fig.tight_layout()\n",
    "plt.show()"
   ]
  },
  {
   "cell_type": "markdown",
   "metadata": {},
   "source": [
    "### Noise across baselines"
   ]
  },
  {
   "cell_type": "code",
   "execution_count": null,
   "metadata": {},
   "outputs": [],
   "source": [
    "# noise in this section does not come out right.."
   ]
  },
  {
   "cell_type": "code",
   "execution_count": null,
   "metadata": {},
   "outputs": [],
   "source": [
    "vis_diff_all = numpy.empty((cData_1.shape[0], cData_1.shape[1]-1, \\\n",
    "                            cData_1.shape[2]), dtype=complex)\n",
    "noise_std_all = numpy.empty((cData_1.shape[0], cData_1.shape[2]))\n",
    "mean_vis_amp_all = numpy.empty_like(noise_std_all)\n",
    "for bl in range(cData_1.shape[2]):\n",
    "    for freq in range(cData_1.shape[0]):\n",
    "        vdiff = numpy.asarray([t - s for s, t in zip(cData_1[freq, :, bl], \\\n",
    "                                                     cData_1[freq, 1:, bl])])\n",
    "        vis_diff_all[freq, :, bl] = vdiff\n",
    "        noise_std_all[freq, bl] = numpy.sqrt(numpy.var(vdiff.real) + \\\n",
    "                                             numpy.var(vdiff.imag))\n",
    "        mean_vis_amp_all[freq, bl] = numpy.mean(numpy.abs(cData_1[freq, :, bl]))"
   ]
  },
  {
   "cell_type": "code",
   "execution_count": null,
   "metadata": {},
   "outputs": [],
   "source": [
    "no_unq_bls = numpy.unique(bl_types).size\n",
    "red_noise_all = numpy.empty((cData_1.shape[0], no_unq_bls))\n",
    "red_vis_amp_all = numpy.empty_like(red_noise_all)"
   ]
  },
  {
   "cell_type": "code",
   "execution_count": null,
   "metadata": {},
   "outputs": [],
   "source": [
    "for bl_type in range(no_unq_bls):\n",
    "    group_idxs = numpy.where(bl_types == bl_type)[0]\n",
    "    grouped_noise = noise_std_all[:, group_idxs]\n",
    "    grouped_vis_amp = mean_vis_amp_all[:, group_idxs]\n",
    "    red_noise_all[:, bl_type] = numpy.sqrt(numpy.sum(numpy.square(grouped_noise), axis=1)) \\\n",
    "                                / grouped_noise.shape[1]\n",
    "    red_vis_amp_all[:, bl_type] = numpy.mean(grouped_vis_amp, axis=1)"
   ]
  },
  {
   "cell_type": "code",
   "execution_count": null,
   "metadata": {},
   "outputs": [],
   "source": [
    "clip_pctile = 97\n",
    "\n",
    "frac_noise_all = (red_noise_all/red_vis_amp_all).transpose()\n",
    "\n",
    "fig, ax = plt.subplots(figsize=(14,7))\n",
    "ax = sns.heatmap(frac_noise_all, vmax=numpy.ceil(numpy.nanpercentile(frac_noise_all, clip_pctile)*100)/100)\n",
    "ax.xaxis.set_major_locator(ticker.MultipleLocator(50))\n",
    "ax.xaxis.set_major_formatter(ticker.ScalarFormatter())\n",
    "ax.yaxis.set_major_locator(ticker.MultipleLocator(5))\n",
    "ax.yaxis.set_major_formatter(ticker.ScalarFormatter())\n",
    "plt.xlabel('Frequency Channel')\n",
    "plt.ylabel('Baseline Type')\n",
    "plt.title('\\n'.join(wrap('Standard deviation of residuals between adjactent visibilities '\\\n",
    "          '(in time) divided by the mean visibility amplitude, for all baseline types '\\\n",
    "          , 100)))\n",
    "plt.show()"
   ]
  },
  {
   "cell_type": "markdown",
   "metadata": {},
   "source": [
    "## Same LAST on different JDs"
   ]
  },
  {
   "cell_type": "code",
   "execution_count": null,
   "metadata": {},
   "outputs": [],
   "source": [
    "JD_2a= match_lst(JD, 2458099) # finding the JD_time of the zen_file\n",
    "# that matches the LAST of the first dataset used\n",
    "zen_fn2a = find_zen_file(JD_2a)\n",
    "bad_ants2a = get_bad_ants(zen_fn2a)\n",
    "flags_fn2a = find_flag_file(JD_2a, 'first')"
   ]
  },
  {
   "cell_type": "code",
   "execution_count": null,
   "metadata": {},
   "outputs": [],
   "source": [
    "last_df = pd.read_pickle('jd_lst_map_idr2.pkl')\n",
    "\n",
    "next_row = numpy.where(last_df['JD_time'] == JD_2a)[0][0] + 1\n",
    "JD_2b = last_df.iloc[next_row]['JD_time']\n",
    "zen_fn2b = find_zen_file(JD_2b)\n",
    "bad_ants2b = get_bad_ants(zen_fn2b)\n",
    "flags_fn2b = find_flag_file(JD_2b, 'first')"
   ]
  },
  {
   "cell_type": "code",
   "execution_count": null,
   "metadata": {},
   "outputs": [],
   "source": [
    "last_df = pd.read_pickle('jd_lst_map_idr2.pkl')\n",
    "\n",
    "next_row = numpy.where(last_df['JD_time'] == JD_2a)[0][0] + 1\n",
    "JD_2b = last_df.iloc[next_row]['JD_time']\n",
    "zen_fn2b = find_zen_file(JD_2b)\n",
    "bad_ants2b = get_bad_ants(zen_fn2b)\n",
    "flags_fn2b = find_flag_file(JD_2b, 'first')"
   ]
  },
  {
   "cell_type": "code",
   "execution_count": null,
   "metadata": {},
   "outputs": [],
   "source": [
    "last1 = last_df[last_df['JD_time'] == JD]['LASTs'].values[0]\n",
    "last2 = last_df[last_df['JD_time'] == JD_2a]['LASTs'].values[0]\n",
    "_, offset = find_nearest(last2, last1[0])"
   ]
  },
  {
   "cell_type": "code",
   "execution_count": null,
   "metadata": {},
   "outputs": [],
   "source": [
    "_, _, cMData = group_data(zen_fn2a, pol, freq_channel, None, bad_ants2a, flags_fn2a)\n",
    "cData_2a = numpy.squeeze(cMData.filled())[offset:]\n",
    "\n",
    "_, _, cMData = group_data(zen_fn2b, pol, freq_channel, None, bad_ants2b, flags_fn2b)\n",
    "cData_2b = numpy.squeeze(cMData.filled())[:offset]"
   ]
  },
  {
   "cell_type": "code",
   "execution_count": null,
   "metadata": {},
   "outputs": [],
   "source": [
    "cData_2 = numpy.concatenate((cData_2a, cData_2b))\n",
    "slct_vis_j = cData_2[:, slct_idxs]"
   ]
  },
  {
   "cell_type": "code",
   "execution_count": null,
   "metadata": {},
   "outputs": [],
   "source": [
    "vis_amp_j = numpy.abs(slct_vis_j)\n",
    "\n",
    "fig, ax = plt.subplots(figsize=(11, 7))\n",
    "plt.plot(vis_amp_j, alpha=0.5)\n",
    "plt.plot(numpy.median(vis_amp_j, axis=1), linewidth=3)\n",
    "plt.xlabel('Time integration')\n",
    "plt.ylabel('Visibility amplitude')\n",
    "fig.tight_layout()\n",
    "plt.show()"
   ]
  },
  {
   "cell_type": "code",
   "execution_count": null,
   "metadata": {},
   "outputs": [],
   "source": [
    "fig, ax = plt.subplots(figsize=(11, 7))\n",
    "plt.plot(numpy.median(vis_amp_t, axis=1))\n",
    "plt.plot(numpy.median(vis_amp_j, axis=1))\n",
    "plt.xlabel('Time integration')\n",
    "plt.ylabel('Visibility amplitude')\n",
    "plt.title('Median visibility amplitude on separate JD days but same LAST')\n",
    "fig.tight_layout()\n",
    "plt.show()"
   ]
  },
  {
   "cell_type": "code",
   "execution_count": null,
   "metadata": {},
   "outputs": [],
   "source": [
    "vis_bl_j = slct_vis_j[:, 0]\n",
    "vis_diff_j = numpy.asarray([t - s for s, t in zip(vis_bl_j, vis_bl_j[1:])])"
   ]
  },
  {
   "cell_type": "code",
   "execution_count": null,
   "metadata": {},
   "outputs": [],
   "source": [
    "noise_std_j = numpy.sqrt(numpy.var(vis_diff_j.real) + numpy.var(vis_diff_j.imag))\n",
    "mean_vis_amp_j = numpy.mean(numpy.abs(vis_bl_j))\n",
    "print('Upper bound on noise, by comparing adjacent visibilities in time at the same '\\\n",
    "      'frequency is {}, which is {}% of the mean visibility amplitude'.\\\n",
    "      format(round(noise_std_j, 5), round(100*noise_std_j/mean_vis_amp_j, 1)))"
   ]
  },
  {
   "cell_type": "code",
   "execution_count": null,
   "metadata": {},
   "outputs": [],
   "source": []
  }
 ],
 "metadata": {
  "kernelspec": {
   "display_name": "Python 3",
   "language": "python",
   "name": "python3"
  },
  "language_info": {
   "codemirror_mode": {
    "name": "ipython",
    "version": 3
   },
   "file_extension": ".py",
   "mimetype": "text/x-python",
   "name": "python",
   "nbconvert_exporter": "python",
   "pygments_lexer": "ipython3",
   "version": "3.7.6"
  },
  "toc": {
   "base_numbering": 1,
   "nav_menu": {},
   "number_sections": true,
   "sideBar": true,
   "skip_h1_title": false,
   "title_cell": "Table of Contents",
   "title_sidebar": "Contents",
   "toc_cell": false,
   "toc_position": {},
   "toc_section_display": true,
   "toc_window_display": false
  }
 },
 "nbformat": 4,
 "nbformat_minor": 4
}

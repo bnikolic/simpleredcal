{
 "cells": [
  {
   "cell_type": "code",
   "execution_count": null,
   "id": "secondary-performer",
   "metadata": {},
   "outputs": [],
   "source": [
    "import os\n",
    "\n",
    "import numpy as np\n",
    "import pandas as pd\n",
    "import pickle\n",
    "import seaborn as sns\n",
    "from matplotlib import pyplot as plt\n",
    "\n",
    "from align_utils import idr2_jdsx\n",
    "from fit_diagnostics import abs_residuals\n",
    "from plot_utils import clipped_heatmap, df_heatmap, plot_res_grouped, plot_res_heatmap\n",
    "from red_likelihood import makeCArray, split_rel_results\n",
    "from xd_utils import XDgroup_data"
   ]
  },
  {
   "cell_type": "code",
   "execution_count": null,
   "id": "painted-couple",
   "metadata": {},
   "outputs": [],
   "source": [
    "%matplotlib inline"
   ]
  },
  {
   "cell_type": "code",
   "execution_count": null,
   "id": "preliminary-audio",
   "metadata": {},
   "outputs": [],
   "source": [
    "plot_figs = True\n",
    "if plot_figs:\n",
    "    import matplotlib as mpl\n",
    "    mpl.rcParams['figure.dpi'] = 300"
   ]
  },
  {
   "cell_type": "code",
   "execution_count": null,
   "id": "intense-serbia",
   "metadata": {},
   "outputs": [],
   "source": [
    "jd_time = 2458098.43869 # used to find LST that labels dataframe\n",
    "pol = 'ee'\n",
    "ndist = 'gaussian'\n",
    "dir_path = 'xd_rel_dfs'"
   ]
  },
  {
   "cell_type": "code",
   "execution_count": null,
   "id": "finnish-conservation",
   "metadata": {},
   "outputs": [],
   "source": [
    "lst_df = pd.read_pickle('jd_lst_map_idr2.pkl')"
   ]
  },
  {
   "cell_type": "code",
   "execution_count": null,
   "id": "fitting-campbell",
   "metadata": {},
   "outputs": [],
   "source": [
    "lst_ref = lst_df[lst_df['JD_time'] == jd_time]['LASTs'].values[0][0]\n",
    "xd_df_path = os.path.join(dir_path, 'xd_rel_df.{:.4f}.{}.{}.pkl'.format(lst_ref, pol, ndist))"
   ]
  },
  {
   "cell_type": "code",
   "execution_count": null,
   "id": "coated-annual",
   "metadata": {},
   "outputs": [],
   "source": [
    "with open(os.path.join(dir_path, 'xd_rel_df.{:.4f}.{}.md.pkl'.format(lst_ref, pol)), 'rb') as f:\n",
    "    md = pickle.load(f)\n",
    "    \n",
    "xd_df = pd.read_pickle(xd_df_path)\n",
    "xd_df.sample(5).sort_index()"
   ]
  },
  {
   "cell_type": "markdown",
   "id": "supposed-buffalo",
   "metadata": {},
   "source": [
    "## Performance"
   ]
  },
  {
   "cell_type": "markdown",
   "id": "unsigned-sterling",
   "metadata": {},
   "source": [
    "### Number of iterations"
   ]
  },
  {
   "cell_type": "code",
   "execution_count": null,
   "id": "broadband-parker",
   "metadata": {},
   "outputs": [],
   "source": [
    "plot_res_grouped(xd_df, 'nit', logy=True)"
   ]
  },
  {
   "cell_type": "code",
   "execution_count": null,
   "id": "frank-album",
   "metadata": {},
   "outputs": [],
   "source": [
    "plot_res_heatmap(xd_df, 'nit', clip=True)"
   ]
  },
  {
   "cell_type": "markdown",
   "id": "excess-arrangement",
   "metadata": {},
   "source": [
    "### Log-likelihood"
   ]
  },
  {
   "cell_type": "code",
   "execution_count": null,
   "id": "premium-insight",
   "metadata": {},
   "outputs": [],
   "source": [
    "plot_res_grouped(xd_df, 'fun', logy=True, figsize=(10, 7))"
   ]
  },
  {
   "cell_type": "code",
   "execution_count": null,
   "id": "motivated-allowance",
   "metadata": {},
   "outputs": [],
   "source": [
    "plot_res_heatmap(xd_df, 'fun', clip=True, clip_pctile=98, figsize=(8, 6))"
   ]
  },
  {
   "cell_type": "markdown",
   "id": "expensive-teddy",
   "metadata": {},
   "source": [
    "### Residuals"
   ]
  },
  {
   "cell_type": "code",
   "execution_count": null,
   "id": "objective-moldova",
   "metadata": {},
   "outputs": [],
   "source": [
    "xd_df[['med_abs_norm_res_Re', 'med_abs_norm_res_Im']] = xd_df.apply(lambda row: \\\n",
    "    pd.Series(abs_residuals(row['norm_residual'])), axis=1)\n",
    "\n",
    "xd_df['med_abs_norm_res_comb'] = np.sqrt(xd_df['med_abs_norm_res_Re']**2 + \\\n",
    "                                         xd_df['med_abs_norm_res_Im']**2)"
   ]
  },
  {
   "cell_type": "code",
   "execution_count": null,
   "id": "variable-manchester",
   "metadata": {},
   "outputs": [],
   "source": [
    "plot_res_heatmap(xd_df, 'med_abs_norm_res_comb', vmin=0.16, vmax=0.22, figsize=(8, 6))"
   ]
  },
  {
   "cell_type": "markdown",
   "id": "dynamic-clark",
   "metadata": {},
   "source": [
    "## Gains at sample frequency and time slice"
   ]
  },
  {
   "cell_type": "code",
   "execution_count": null,
   "id": "stuck-auditor",
   "metadata": {},
   "outputs": [],
   "source": [
    "# Check results for a given frequency & time integration\n",
    "test_freq = 600\n",
    "test_tint = 53\n",
    "\n",
    "resx = xd_df.loc[(test_freq, test_tint)][5:-5].values.astype(float)\n",
    "test_vis, test_gains = split_rel_results(resx, md['no_unq_bls'], coords='cartesian')\n",
    "test_gains = test_gains.reshape((md['JDs'].size, -1))\n",
    "\n",
    "print('Mean gain amplitude across JDs for test frequency {} and time integration {}: '\\\n",
    "      '\\n{}\\n'.format(test_freq, test_tint, np.mean(np.abs(test_gains), axis=0)))\n",
    "print('Mean gain phase across JDs for test frequency {} and time integration {}: '\\\n",
    "      '\\n{}\\n'.format(test_freq, test_tint, np.mean(np.angle(test_gains), axis=0)))"
   ]
  },
  {
   "cell_type": "code",
   "execution_count": null,
   "id": "annual-rental",
   "metadata": {},
   "outputs": [],
   "source": [
    "fig, (ax1, ax2) = plt.subplots(nrows=1, ncols=2, figsize=(9, 3.5), sharey=True)\n",
    "\n",
    "sns.heatmap(np.abs(test_gains), cmap=sns.cm.rocket_r, center=1, ax=ax1)\n",
    "sns.heatmap(np.angle(test_gains), cmap='bwr', center=0, ax=ax2, vmin=-np.pi, vmax=np.pi)\n",
    "ax1.set_xlabel('Antenna number')\n",
    "ax2.set_xlabel('Antenna number')\n",
    "\n",
    "ax1.set_yticks(np.arange(md['JDs'].size)+0.5)\n",
    "ax1.set_yticklabels(md['JDs'], rotation=0)\n",
    "ax2.set_yticks(np.arange(md['JDs'].size), minor=True)\n",
    "ax1.tick_params(axis='y', which='minor', color='white')\n",
    "ax2.tick_params(axis='y', which='minor', color='white')\n",
    "\n",
    "ax1.set_xticks(np.arange(md['no_ants'])[::5]+0.5, minor=False)\n",
    "ax1.set_xticklabels(np.arange(md['no_ants'])[::5])\n",
    "ax2.set_xticks(np.arange(md['no_ants'])[::5]+0.5, minor=False)\n",
    "ax2.set_xticklabels(np.arange(md['no_ants'])[::5])\n",
    "\n",
    "ax1.grid(which='minor', axis='y', linestyle='--', lw=0.5)\n",
    "ax2.grid(which='minor', axis='y', linestyle='--', lw=0.5)\n",
    "\n",
    "plt.tight_layout()\n",
    "plt.show()"
   ]
  },
  {
   "cell_type": "markdown",
   "id": "alert-flour",
   "metadata": {},
   "source": [
    "## Visibilities"
   ]
  },
  {
   "cell_type": "code",
   "execution_count": null,
   "id": "connected-rental",
   "metadata": {},
   "outputs": [],
   "source": [
    "no_unq_bls = md['no_unq_bls']\n",
    "no_min_p = 5 # number of columns in df that are attributes of the SciPy OptimizeResult \n",
    "vis_df = xd_df.iloc[:, no_min_p:no_unq_bls*2+no_min_p]\n",
    "\n",
    "visC_df = vis_df.apply(lambda row: makeCArray(row.values), axis=1)\n",
    "visC_df = pd.DataFrame(visC_df.values.tolist(), index=visC_df.index)"
   ]
  },
  {
   "cell_type": "markdown",
   "id": "hungarian-salem",
   "metadata": {},
   "source": [
    "### Visibilities at test time integration"
   ]
  },
  {
   "cell_type": "code",
   "execution_count": null,
   "id": "wireless-cleanup",
   "metadata": {},
   "outputs": [],
   "source": [
    "df = visC_df.xs(53, level='time_int').abs().transpose()\n",
    "vmax = np.nanpercentile(df.values, 98)\n",
    "vmin = np.nanpercentile(df.values, 2)\n",
    "df_heatmap(df, xbase=25, ybase=5, \\\n",
    "           xlabel='Channel', ylabel='Redundant Baseline Group', \\\n",
    "           vmin=vmin, vmax=vmax, figsize=(8, 6))"
   ]
  },
  {
   "cell_type": "code",
   "execution_count": null,
   "id": "colored-usage",
   "metadata": {},
   "outputs": [],
   "source": [
    "df = visC_df.xs(53, level='time_int').applymap(np.angle).transpose()\n",
    "df_heatmap(df, xbase=25, ybase=5, cmap='bwr', vmin=-np.pi, vmax=np.pi, center=0, \\\n",
    "           xlabel='Channel', ylabel='Redundant Baseline Group', figsize=(8, 6))"
   ]
  },
  {
   "cell_type": "code",
   "execution_count": null,
   "id": "steady-natural",
   "metadata": {},
   "outputs": [],
   "source": [
    "chans = xd_df.index.get_level_values(level='freq').unique().values\n",
    "tints = xd_df.index.get_level_values(level='time_int').unique().values\n",
    "\n",
    "if tints.size == md['Ntimes']:\n",
    "    tints = None\n",
    "if (md['JDs'] == idr2_jdsx).all():\n",
    "    jds = idr2_jdsx\n",
    "else:\n",
    "    jds = md['JDs']\n",
    "\n",
    "hd, redg, cdata, cndata = XDgroup_data(jd_time, jds, pol, chans=chans, \\\n",
    "    tints=tints, bad_ants=True, use_flags='first', noise=True)"
   ]
  },
  {
   "cell_type": "code",
   "execution_count": null,
   "id": "turned-mediterranean",
   "metadata": {},
   "outputs": [],
   "source": [
    "# TODO\n",
    "# Gain stability over different days\n",
    "# Histograms of NLL, NLL / Noise, R_man to find outliers\n",
    "# Compare med visibilities to those from individual datasets - can do amps,\n",
    "# but what about phases?"
   ]
  },
  {
   "cell_type": "code",
   "execution_count": null,
   "id": "related-stadium",
   "metadata": {},
   "outputs": [],
   "source": []
  }
 ],
 "metadata": {
  "kernelspec": {
   "display_name": "Python 3",
   "language": "python",
   "name": "python3"
  },
  "language_info": {
   "codemirror_mode": {
    "name": "ipython",
    "version": 3
   },
   "file_extension": ".py",
   "mimetype": "text/x-python",
   "name": "python",
   "nbconvert_exporter": "python",
   "pygments_lexer": "ipython3",
   "version": "3.7.9"
  },
  "toc": {
   "base_numbering": 1,
   "nav_menu": {},
   "number_sections": true,
   "sideBar": true,
   "skip_h1_title": false,
   "title_cell": "Table of Contents",
   "title_sidebar": "Contents",
   "toc_cell": false,
   "toc_position": {},
   "toc_section_display": true,
   "toc_window_display": false
  }
 },
 "nbformat": 4,
 "nbformat_minor": 5
}

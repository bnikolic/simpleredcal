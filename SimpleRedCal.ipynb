{
 "cells": [
  {
   "cell_type": "code",
   "execution_count": null,
   "metadata": {
    "autoscroll": false,
    "ein.hycell": false,
    "ein.tags": "worksheet-0",
    "slideshow": {
     "slide_type": "-"
    }
   },
   "outputs": [],
   "source": [
    "import os\n",
    "import numpy\n",
    "from matplotlib import pyplot"
   ]
  },
  {
   "cell_type": "code",
   "execution_count": null,
   "metadata": {
    "autoscroll": false,
    "ein.hycell": false,
    "ein.tags": "worksheet-0",
    "slideshow": {
     "slide_type": "-"
    }
   },
   "outputs": [],
   "source": [
    "%matplotlib inline"
   ]
  },
  {
   "cell_type": "code",
   "execution_count": null,
   "metadata": {
    "autoscroll": false,
    "ein.hycell": false,
    "ein.tags": "worksheet-0",
    "slideshow": {
     "slide_type": "-"
    }
   },
   "outputs": [],
   "source": [
    "%run analysis.py"
   ]
  },
  {
   "cell_type": "code",
   "execution_count": null,
   "metadata": {
    "autoscroll": false,
    "ein.hycell": false,
    "ein.tags": "worksheet-0",
    "slideshow": {
     "slide_type": "-"
    }
   },
   "outputs": [],
   "source": [
    "freq_channel = 300\n",
    "time_integration = 0\n",
    "bad_ants=[0, 2, 11, 24, 50, 53, 54, 67, 69, 98,122, 136, 139]"
   ]
  },
  {
   "cell_type": "code",
   "execution_count": null,
   "metadata": {},
   "outputs": [],
   "source": [
    "mdm_fn = \"/Users/matyasmolnar/Downloads/HERA_Data/robust_cal/zen.2458098.43869.HH.uvh5\"\n",
    "if os.path.exists(mdm_fn):\n",
    "    filename = mdm_fn\n",
    "else:\n",
    "    filename = \"./zen.2458098.43869.HH.uvh5\""
   ]
  },
  {
   "cell_type": "code",
   "execution_count": null,
   "metadata": {
    "autoscroll": false,
    "ein.hycell": false,
    "ein.tags": "worksheet-0",
    "slideshow": {
     "slide_type": "-"
    }
   },
   "outputs": [],
   "source": [
    "hdraw = HERAData(filename)\n",
    "reds = get_reds(hdraw.antpos, pols=['ee'])\n",
    "data, flags, nsamples = hdraw.read(freq_chans=[freq_channel])"
   ]
  },
  {
   "cell_type": "code",
   "execution_count": null,
   "metadata": {
    "autoscroll": false,
    "ein.hycell": false,
    "ein.tags": "worksheet-0",
    "slideshow": {
     "slide_type": "-"
    }
   },
   "outputs": [],
   "source": [
    "flt_bls = fltBad(reds, bad_ants)\n",
    "cRedG=groupBls(flt_bls)\n",
    "# This groups reundant baselines. Format is [ [groupid, i, j]]\n",
    "print(cRedG[:5])"
   ]
  },
  {
   "cell_type": "code",
   "execution_count": null,
   "metadata": {
    "autoscroll": false,
    "ein.hycell": false,
    "ein.tags": "worksheet-0",
    "slideshow": {
     "slide_type": "-"
    }
   },
   "outputs": [],
   "source": [
    "# Collect the data together\n",
    "cData=numpy.hstack([data[(zz[1], zz[2], \"ee\")] for zz in cRedG])"
   ]
  },
  {
   "cell_type": "code",
   "execution_count": null,
   "metadata": {
    "autoscroll": false,
    "ein.hycell": false,
    "ein.tags": "worksheet-0",
    "slideshow": {
     "slide_type": "-"
    }
   },
   "outputs": [],
   "source": [
    "print(cData.shape)\n",
    "fig, ax = pyplot.subplots(figsize=(12,4))\n",
    "ax.matshow(cData.real, aspect='auto')"
   ]
  },
  {
   "cell_type": "code",
   "execution_count": null,
   "metadata": {
    "autoscroll": false,
    "ein.hycell": false,
    "ein.tags": "worksheet-0",
    "slideshow": {
     "slide_type": "-"
    }
   },
   "outputs": [],
   "source": [
    "# Finding all the antennas used in our flagged data\n",
    "ants = numpy.unique(cRedG[:,1:])\n",
    "no_unq_bls = len(numpy.unique(cRedG[:, 0]))"
   ]
  },
  {
   "cell_type": "code",
   "execution_count": null,
   "metadata": {
    "autoscroll": false,
    "ein.hycell": false,
    "ein.tags": "worksheet-0",
    "slideshow": {
     "slide_type": "-"
    }
   },
   "outputs": [],
   "source": [
    "# Setup initial condition\n",
    "xvis=numpy.ones(no_unq_bls*2) # Number of unique baselines; complex vis\n",
    "xgains=numpy.ones(len(ants)*2) # Complex gain"
   ]
  },
  {
   "cell_type": "code",
   "execution_count": null,
   "metadata": {
    "autoscroll": false,
    "ein.hycell": false,
    "ein.tags": "worksheet-0",
    "slideshow": {
     "slide_type": "-"
    }
   },
   "outputs": [],
   "source": [
    "# This creates a compiled version of likelihood where the first\n",
    "# parameter (the redundant groups) and second (the error distribution)\n",
    "# has allready be filled in [-- this is \"partial\" fn application]\n",
    "ff=jit(functools.partial(vgLkl, numpy.array(relabelAnts(cRedG)), \"cauchy\"))\n",
    "res1=scipy.optimize.minimize(ff, numpy.hstack([xvis, xgains]), args=(cData[time_integration, :],), jac=jacrev(ff))"
   ]
  },
  {
   "cell_type": "code",
   "execution_count": null,
   "metadata": {},
   "outputs": [],
   "source": [
    "# Minimizing without the JAX automatic jacobian\n",
    "res2=scipy.optimize.minimize(ff, numpy.hstack([xvis, xgains]), args=(cData[time_integration, :],))"
   ]
  },
  {
   "cell_type": "code",
   "execution_count": null,
   "metadata": {
    "autoscroll": false,
    "ein.hycell": false,
    "ein.tags": "worksheet-0",
    "slideshow": {
     "slide_type": "-"
    }
   },
   "outputs": [],
   "source": [
    "def split_results(results):\n",
    "    ''' Split results from minimization into visibility and gains arrays '''\n",
    "    vis_params, gains_params = numpy.split(results['x'], [no_unq_bls*2,])\n",
    "    vis_params = vis_params.reshape((-1, 2))\n",
    "    gains_params = gains_params.reshape((-1, 2))\n",
    "    res_vis = vis_params[:,0] + 1j*vis_params[:,1]\n",
    "    res_gains = gains_params[:,0] + 1j*gains_params[:,1]\n",
    "    return res_vis, res_gains"
   ]
  },
  {
   "cell_type": "code",
   "execution_count": null,
   "metadata": {},
   "outputs": [],
   "source": [
    "res1_vis, res1_gains = split_results(res1)"
   ]
  },
  {
   "cell_type": "code",
   "execution_count": null,
   "metadata": {},
   "outputs": [],
   "source": [
    "res2_vis, res2_gains = split_results(res2)"
   ]
  },
  {
   "cell_type": "code",
   "execution_count": null,
   "metadata": {},
   "outputs": [],
   "source": [
    "np.absolute(res1_vis - res2_vis)/np.sqrt(np.absolute(res1_vis*res2_vis))"
   ]
  },
  {
   "cell_type": "code",
   "execution_count": null,
   "metadata": {
    "autoscroll": false,
    "ein.hycell": false,
    "ein.tags": "worksheet-0",
    "slideshow": {
     "slide_type": "-"
    }
   },
   "outputs": [],
   "source": [
    "np.absolute(res1_gains - res2_gains)/np.sqrt(np.absolute(res1_gains*res2_gains))"
   ]
  },
  {
   "cell_type": "code",
   "execution_count": null,
   "metadata": {
    "autoscroll": false,
    "ein.hycell": false,
    "ein.tags": "worksheet-0",
    "slideshow": {
     "slide_type": "-"
    }
   },
   "outputs": [],
   "source": []
  }
 ],
 "metadata": {
  "kernelspec": {
   "display_name": "Python 3",
   "language": "python",
   "name": "python3"
  },
  "language_info": {
   "codemirror_mode": {
    "name": "ipython",
    "version": 3
   },
   "file_extension": ".py",
   "mimetype": "text/x-python",
   "name": "python",
   "nbconvert_exporter": "python",
   "pygments_lexer": "ipython3",
   "version": "3.7.6"
  },
  "name": "SimpleRedCal.ipynb",
  "toc": {
   "base_numbering": 1,
   "nav_menu": {
    "height": "12px",
    "width": "252px"
   },
   "number_sections": true,
   "sideBar": true,
   "skip_h1_title": false,
   "title_cell": "Table of Contents",
   "title_sidebar": "Contents",
   "toc_cell": false,
   "toc_position": null,
   "toc_section_display": true,
   "toc_window_display": false
  }
 },
 "nbformat": 4,
 "nbformat_minor": 4
}

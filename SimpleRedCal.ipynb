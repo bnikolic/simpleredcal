{
 "cells": [
  {
   "cell_type": "code",
   "execution_count": null,
   "metadata": {
    "autoscroll": false,
    "ein.hycell": false,
    "ein.tags": "worksheet-0",
    "slideshow": {
     "slide_type": "-"
    }
   },
   "outputs": [],
   "source": [
    "import sys\n",
    "import os\n",
    "import numpy\n",
    "from matplotlib import pyplot as plt"
   ]
  },
  {
   "cell_type": "code",
   "execution_count": null,
   "metadata": {},
   "outputs": [],
   "source": [
    "numpy.set_printoptions(threshold=sys.maxsize)"
   ]
  },
  {
   "cell_type": "code",
   "execution_count": null,
   "metadata": {
    "autoscroll": false,
    "ein.hycell": false,
    "ein.tags": "worksheet-0",
    "slideshow": {
     "slide_type": "-"
    }
   },
   "outputs": [],
   "source": [
    "%matplotlib inline"
   ]
  },
  {
   "cell_type": "code",
   "execution_count": null,
   "metadata": {
    "autoscroll": false,
    "ein.hycell": false,
    "ein.tags": "worksheet-0",
    "slideshow": {
     "slide_type": "-"
    }
   },
   "outputs": [],
   "source": [
    "%run analysis.py"
   ]
  },
  {
   "cell_type": "code",
   "execution_count": null,
   "metadata": {
    "autoscroll": false,
    "ein.hycell": false,
    "ein.tags": "worksheet-0",
    "slideshow": {
     "slide_type": "-"
    }
   },
   "outputs": [],
   "source": [
    "pol = 'ee'\n",
    "freq_channel = 300\n",
    "time_integration = 0\n",
    "bad_ants=[0, 2, 11, 24, 50, 53, 54, 67, 69, 98,122, 136, 139]"
   ]
  },
  {
   "cell_type": "code",
   "execution_count": null,
   "metadata": {},
   "outputs": [],
   "source": [
    "mdm_fn = \"/Users/matyasmolnar/Downloads/HERA_Data/robust_cal/zen.2458098.43869.HH.uvh5\"\n",
    "if os.path.exists(mdm_fn):\n",
    "    filename = mdm_fn\n",
    "else:\n",
    "    filename = \"./zen.2458098.43869.HH.uvh5\""
   ]
  },
  {
   "cell_type": "code",
   "execution_count": null,
   "metadata": {
    "autoscroll": false,
    "ein.hycell": false,
    "ein.tags": "worksheet-0",
    "slideshow": {
     "slide_type": "-"
    }
   },
   "outputs": [],
   "source": [
    "hdraw = HERAData(filename)\n",
    "reds = get_reds(hdraw.antpos, pols=[pol])\n",
    "data, flags, nsamples = hdraw.read(freq_chans=[freq_channel])"
   ]
  },
  {
   "cell_type": "code",
   "execution_count": null,
   "metadata": {
    "autoscroll": false,
    "ein.hycell": false,
    "ein.tags": "worksheet-0",
    "slideshow": {
     "slide_type": "-"
    }
   },
   "outputs": [],
   "source": [
    "flt_bls = fltBad(reds, bad_ants)\n",
    "cRedG=groupBls(flt_bls)\n",
    "# This groups reundant baselines. Format is [[groupid, i, j]]"
   ]
  },
  {
   "cell_type": "code",
   "execution_count": null,
   "metadata": {
    "autoscroll": false,
    "ein.hycell": false,
    "ein.tags": "worksheet-0",
    "slideshow": {
     "slide_type": "-"
    }
   },
   "outputs": [],
   "source": [
    "# Collect the data together\n",
    "cData=numpy.hstack([data[(zz[1], zz[2], \"ee\")] for zz in cRedG])\n",
    "print(cData.shape)"
   ]
  },
  {
   "cell_type": "code",
   "execution_count": null,
   "metadata": {
    "autoscroll": false,
    "ein.hycell": false,
    "ein.tags": "worksheet-0",
    "slideshow": {
     "slide_type": "-"
    }
   },
   "outputs": [],
   "source": [
    "bl_id_seperations = numpy.unique(cRedG[:,0], return_index=True)[1][1:]\n",
    "\n",
    "fig, ax = plt.subplots(figsize=(13,4))\n",
    "ax.matshow(np.absolute(cData), aspect='auto')\n",
    "for bl_id_seperation in bl_id_seperations:\n",
    "    plt.axvline(x=bl_id_seperation, color='white', linestyle='-.', linewidth=1)\n",
    "ax.grid(False)\n",
    "ax.set_xlabel('Baseline ID')\n",
    "ax.set_ylabel('Time Integration')\n",
    "plt.show()"
   ]
  },
  {
   "cell_type": "markdown",
   "metadata": {},
   "source": [
    "### Relative calibration step"
   ]
  },
  {
   "cell_type": "code",
   "execution_count": null,
   "metadata": {
    "autoscroll": false,
    "ein.hycell": false,
    "ein.tags": "worksheet-0",
    "slideshow": {
     "slide_type": "-"
    }
   },
   "outputs": [],
   "source": [
    "# Finding all the antennas used in our flagged data\n",
    "ants = numpy.unique(cRedG[:,1:])\n",
    "no_unq_bls = numpy.unique(cRedG[:, 0]).size"
   ]
  },
  {
   "cell_type": "code",
   "execution_count": null,
   "metadata": {
    "autoscroll": false,
    "ein.hycell": false,
    "ein.tags": "worksheet-0",
    "slideshow": {
     "slide_type": "-"
    }
   },
   "outputs": [],
   "source": [
    "# Setup initial parameters\n",
    "xvis=numpy.ones(no_unq_bls*2) # Number of unique baselines; complex vis\n",
    "xgains=numpy.ones(ants.size*2) # Complex gain\n",
    "rel_xparams = numpy.hstack([xvis, xgains])"
   ]
  },
  {
   "cell_type": "code",
   "execution_count": null,
   "metadata": {
    "autoscroll": false,
    "ein.hycell": false,
    "ein.tags": "worksheet-0",
    "slideshow": {
     "slide_type": "-"
    }
   },
   "outputs": [],
   "source": [
    "# This creates a compiled version of likelihood where the first (the redundant groups),\n",
    "# second (the error distribution) and third (observed visibilities) parameters \n",
    "# have already been filled in [-- this is \"partial\" fn application]\n",
    "ff=jit(functools.partial(relative_logLkl, relabelAnts(cRedG), \"cauchy\", \\\n",
    "                         cData[time_integration, :]))\n",
    "res_rel=scipy.optimize.minimize(ff, rel_xparams, jac=jacrev(ff))"
   ]
  },
  {
   "cell_type": "code",
   "execution_count": null,
   "metadata": {
    "autoscroll": false,
    "ein.hycell": false,
    "ein.tags": "worksheet-0",
    "slideshow": {
     "slide_type": "-"
    }
   },
   "outputs": [],
   "source": [
    "def split_results(results):\n",
    "    ''' Split results from minimization into visibility and gains arrays '''\n",
    "    vis_params, gains_params = numpy.split(results['x'], [no_unq_bls*2,])\n",
    "    vis_params = vis_params.reshape((-1, 2))\n",
    "    gains_params = gains_params.reshape((-1, 2))\n",
    "    res_vis = vis_params[:, 0] + 1j*vis_params[:, 1]\n",
    "    res_gains = gains_params[:, 0] + 1j*gains_params[:, 1]\n",
    "    return res_vis, res_gains"
   ]
  },
  {
   "cell_type": "code",
   "execution_count": null,
   "metadata": {},
   "outputs": [],
   "source": [
    "res_rel_vis, res_rel_gains = split_results(res_rel)"
   ]
  },
  {
   "cell_type": "markdown",
   "metadata": {
    "autoscroll": false,
    "ein.hycell": false,
    "ein.tags": "worksheet-0",
    "slideshow": {
     "slide_type": "-"
    }
   },
   "source": [
    "### Solving for degeneracies"
   ]
  },
  {
   "cell_type": "code",
   "execution_count": null,
   "metadata": {},
   "outputs": [],
   "source": [
    "# Setup initial parameters\n",
    "xamp = 1.\n",
    "xoverall_phase = 1.\n",
    "xphase_grad_x = 1.\n",
    "xphase_grad_y = 1.\n",
    "deg_xparams = numpy.hstack([xgains, xamp, xoverall_phase, xphase_grad_x, xphase_grad_y])"
   ]
  },
  {
   "cell_type": "code",
   "execution_count": null,
   "metadata": {},
   "outputs": [],
   "source": [
    "ref_ant = 12 # reference antenna number\n",
    "ref_ant_idx = condenseMap(ants)[ref_ant]\n",
    "\n",
    "# constraints\n",
    "def avg_amp(x):\n",
    "    \"\"\"Constraint that average of gain amplitudes must be equal to 1\"\"\"\n",
    "    rel_gains_comps = x[:ants.size*2].reshape((-1, 2))\n",
    "    rel_gains = rel_gains_comps[:, 0] + 1j*rel_gains_comps[:, 1]\n",
    "    return np.average(np.abs(rel_gains)) - 1\n",
    "\n",
    "# def positive_amp(x):\n",
    "#     \"\"\"Constraint that gain amplitudes must be positive\"\"\"\n",
    "#     rel_gains_comps = x[:ants.size*2].reshape((-1, 2))\n",
    "#     rel_gains = rel_gains_comps[:, 0] + 1j*rel_gains_comps[:, 1]\n",
    "#     return np.abs(rel_gains)\n",
    "\n",
    "def avg_phase(x):\n",
    "    \"\"\"Constraint that average of gain phases must be equal to 0\"\"\"\n",
    "    rel_gains_comps = x[:ants.size*2].reshape((-1, 2))\n",
    "    rel_gains = rel_gains_comps[:, 0] + 1j*rel_gains_comps[:, 1]\n",
    "#     Do we need to do a different kind of averaging? https://en.wikipedia.org/wiki/Mean_of_circular_quantities\n",
    "    return np.average(np.angle(rel_gains))\n",
    "\n",
    "def ref_phase(x):\n",
    "    \"\"\"Set argument of reference antenna to zero to set overall phase\"\"\"\n",
    "    rel_gains_comps = x[:ants.size*2].reshape((-1, 2))\n",
    "    rel_gains = rel_gains_comps[:, 0] + 1j*rel_gains_comps[:, 1]\n",
    "    return np.angle(rel_gains[ref_ant_idx])\n",
    "\n",
    "# Not sure this last constraint is correct...\n",
    "def phase_grad(x):\n",
    "    \"\"\"Constraint that phase gradient is zero\"\"\"\n",
    "    rel_gains_comps, deg_params = np.split(x, [2*ants.size,])\n",
    "    _, overall_phase, phase_grad_x, phase_grad_y = deg_params\n",
    "    rel_gains_comps = rel_gains_comps.reshape((-1, 2))\n",
    "    rel_gains = rel_gains_comps[:, 0] + 1j*rel_gains_comps[:, 1]\n",
    "    x_ant_ref_pos, y_ant_ref_pos = hdraw.antpos[ref_ant][:2]\n",
    "    return np.angle(rel_gains[ref_ant_idx]) - overall_phase - x_ant_ref_pos * phase_grad_x - \\\n",
    "           y_ant_ref_pos * phase_grad_y\n",
    "    \n",
    "cons = [{'type': 'eq', 'fun': avg_amp},\n",
    "#         {'type': 'ineq', 'fun': positive_amp},\n",
    "        {'type': 'eq', 'fun': avg_phase},\n",
    "        {'type': 'eq', 'fun': ref_phase},\n",
    "        {'type': 'eq', 'fun': phase_grad}]"
   ]
  },
  {
   "cell_type": "code",
   "execution_count": null,
   "metadata": {},
   "outputs": [],
   "source": [
    "ff=jit(functools.partial(optimal_logLkl, relabelAnts(cRedG), \"gaussian\", \\\n",
    "                         cData[time_integration, :], red_ant_sep(cRedG, hdraw.antpos), \\\n",
    "                         reformatCArray(res_rel_vis)))\n",
    "res_deg=scipy.optimize.minimize(ff, deg_xparams, constraints=cons, jac=jacrev(ff))"
   ]
  },
  {
   "cell_type": "code",
   "execution_count": null,
   "metadata": {},
   "outputs": [],
   "source": [
    "res_deg['success']"
   ]
  },
  {
   "cell_type": "code",
   "execution_count": null,
   "metadata": {},
   "outputs": [],
   "source": [
    "new_gain_params, deg_params = np.split(res_deg['x'], [ants.size*2,])\n",
    "new_gain_params = new_gain_params.reshape((-1, 2))\n",
    "new_gains = new_gain_params[:,0] + 1j*new_gain_params[:,1]"
   ]
  },
  {
   "cell_type": "code",
   "execution_count": null,
   "metadata": {},
   "outputs": [],
   "source": [
    "print(deg_params, np.average(np.abs(new_gains)), np.average(np.angle(new_gains)))"
   ]
  }
 ],
 "metadata": {
  "kernelspec": {
   "display_name": "Python 3",
   "language": "python",
   "name": "python3"
  },
  "language_info": {
   "codemirror_mode": {
    "name": "ipython",
    "version": 3
   },
   "file_extension": ".py",
   "mimetype": "text/x-python",
   "name": "python",
   "nbconvert_exporter": "python",
   "pygments_lexer": "ipython3",
   "version": "3.7.6"
  },
  "name": "SimpleRedCal.ipynb",
  "toc": {
   "base_numbering": 1,
   "nav_menu": {
    "height": "12px",
    "width": "252px"
   },
   "number_sections": true,
   "sideBar": true,
   "skip_h1_title": false,
   "title_cell": "Table of Contents",
   "title_sidebar": "Contents",
   "toc_cell": false,
   "toc_position": null,
   "toc_section_display": true,
   "toc_window_display": false
  }
 },
 "nbformat": 4,
 "nbformat_minor": 4
}

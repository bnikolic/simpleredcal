{
 "cells": [
  {
   "cell_type": "code",
   "execution_count": null,
   "metadata": {},
   "outputs": [],
   "source": [
    "import matplotlib\n",
    "import numpy as np\n",
    "import pandas as pd\n",
    "import pickle\n",
    "import seaborn as sns\n",
    "from matplotlib import pyplot as plt\n",
    "from matplotlib import ticker\n",
    "from scipy.stats import circmean, circstd\n",
    "\n",
    "from fit_diagnostics import abs_residuals\n",
    "from plot_utils import antpos_map, plot_res, plot_res_grouped, plot_res_heatmap\n",
    "from red_likelihood import makeCArray\n",
    "from red_utils import find_rel_df, flt_ant_coords, split_rel_results"
   ]
  },
  {
   "cell_type": "code",
   "execution_count": null,
   "metadata": {},
   "outputs": [],
   "source": [
    "%matplotlib inline"
   ]
  },
  {
   "cell_type": "code",
   "execution_count": null,
   "metadata": {},
   "outputs": [],
   "source": [
    "jd_time = 2458098.43869\n",
    "pol = 'ee'\n",
    "dist = 'cauchy'\n",
    "dir_path = '.'"
   ]
  },
  {
   "cell_type": "code",
   "execution_count": null,
   "metadata": {},
   "outputs": [],
   "source": [
    "rel_df = find_rel_df(jd_time, pol, dist, dir_path)"
   ]
  },
  {
   "cell_type": "code",
   "execution_count": null,
   "metadata": {},
   "outputs": [],
   "source": [
    "with open('rel_df.{}.{}.md.pkl'.format(jd_time, pol), 'rb') as f:\n",
    "    md = pickle.load(f)\n",
    "    \n",
    "df = pd.read_pickle(rel_df)\n",
    "df"
   ]
  },
  {
   "cell_type": "code",
   "execution_count": null,
   "metadata": {},
   "outputs": [],
   "source": [
    "# check results for a given frequency & time integration\n",
    "test_freq = 600\n",
    "test_tint = 0\n",
    "\n",
    "resx = df.loc[(test_freq, test_tint)][5:-2].values.astype(float)\n",
    "test_vis, test_gains = split_rel_results(resx, md['no_unq_bls'])\n",
    "test_gamps = np.abs(test_gains)\n",
    "test_gphases = np.angle(test_gains)\n",
    "mean_test_gamps = np.mean(test_gamps)\n",
    "mean_test_gphases = np.mean(test_gphases)\n",
    "\n",
    "print('Gain amplitude mean is: {}'.format(mean_test_gamps))\n",
    "print('Gain phase mean is: {}'.format(mean_test_gphases))"
   ]
  },
  {
   "cell_type": "code",
   "execution_count": null,
   "metadata": {},
   "outputs": [],
   "source": [
    "antpos = flt_ant_coords(jd_time, md['antpos'])"
   ]
  },
  {
   "cell_type": "code",
   "execution_count": null,
   "metadata": {},
   "outputs": [],
   "source": [
    "antpos_map(test_gamps, antpos, 'Gain amplitudes', center=1)\n",
    "print('Gain amplitude solutions for frequency channel {} and time integration {} are: '\\\n",
    "      '\\n{}'.format(test_freq, test_tint, test_gamps))"
   ]
  },
  {
   "cell_type": "code",
   "execution_count": null,
   "metadata": {},
   "outputs": [],
   "source": [
    "antpos_map(test_gphases, antpos, 'Gain phases')\n",
    "print('Gain phase solutions are:\\n{}'.format(test_gphases))"
   ]
  },
  {
   "cell_type": "code",
   "execution_count": null,
   "metadata": {},
   "outputs": [],
   "source": [
    "# success rate percentage\n",
    "success_pct = df['success'].sum() / df['success'].size * 100\n",
    "print('{}% of iterations (freq/tint slice) were succesful'.format(round(success_pct, 2)))"
   ]
  },
  {
   "cell_type": "markdown",
   "metadata": {},
   "source": [
    "### Number of iterations required"
   ]
  },
  {
   "cell_type": "code",
   "execution_count": null,
   "metadata": {},
   "outputs": [],
   "source": [
    "plot_res(df, 'nit', clip=True)"
   ]
  },
  {
   "cell_type": "code",
   "execution_count": null,
   "metadata": {},
   "outputs": [],
   "source": [
    "plot_res_grouped(df, 'nit', logy=True)"
   ]
  },
  {
   "cell_type": "code",
   "execution_count": null,
   "metadata": {},
   "outputs": [],
   "source": [
    "plot_res_heatmap(df, 'nit', clip=True)"
   ]
  },
  {
   "cell_type": "markdown",
   "metadata": {},
   "source": [
    "### Log-likelihood"
   ]
  },
  {
   "cell_type": "code",
   "execution_count": null,
   "metadata": {},
   "outputs": [],
   "source": [
    "plot_res(df, 'fun', clip=True)"
   ]
  },
  {
   "cell_type": "code",
   "execution_count": null,
   "metadata": {},
   "outputs": [],
   "source": [
    "plot_res_grouped(df, 'fun', logy=True)"
   ]
  },
  {
   "cell_type": "code",
   "execution_count": null,
   "metadata": {},
   "outputs": [],
   "source": [
    "plot_res_heatmap(df, 'fun', clip=True)"
   ]
  },
  {
   "cell_type": "markdown",
   "metadata": {},
   "source": [
    "### Residuals"
   ]
  },
  {
   "cell_type": "markdown",
   "metadata": {},
   "source": [
    "Look at both the real and imaginary of the the median absolute normalized residual"
   ]
  },
  {
   "cell_type": "code",
   "execution_count": null,
   "metadata": {},
   "outputs": [],
   "source": [
    "df[['med_abs_norm_res_Re', 'med_abs_norm_res_Im']] = df.apply(lambda row: \\\n",
    "pd.Series(abs_residuals(row['norm_residual'])), axis=1)"
   ]
  },
  {
   "cell_type": "code",
   "execution_count": null,
   "metadata": {},
   "outputs": [],
   "source": [
    "plot_res_heatmap(df, 'med_abs_norm_res_Re', clip=True)"
   ]
  },
  {
   "cell_type": "code",
   "execution_count": null,
   "metadata": {},
   "outputs": [],
   "source": [
    "plot_res_heatmap(df, 'med_abs_norm_res_Im', clip=True)"
   ]
  },
  {
   "cell_type": "markdown",
   "metadata": {},
   "source": [
    "### Stability of gains, visibility solutions and degenerate parameters"
   ]
  },
  {
   "cell_type": "markdown",
   "metadata": {},
   "source": [
    "#### Gains"
   ]
  },
  {
   "cell_type": "code",
   "execution_count": null,
   "metadata": {},
   "outputs": [],
   "source": [
    "no_ants = md['no_ants']\n",
    "no_resid_p = 4 # number of residual parameters in df dataframe\n",
    "gains_df = df.iloc[:, -no_ants*2-no_resid_p:-no_resid_p]\n",
    "\n",
    "gains_df['gamp_mean'] = gains_df.apply(lambda row: \\\n",
    "                        np.mean(np.abs(makeCArray(row[:no_ants*2].values))), \\\n",
    "                        axis=1)\n",
    "gains_df['gphase_mean'] = gains_df.apply(lambda row: \\\n",
    "                          np.mean(np.angle(makeCArray(row[:no_ants*2].values))), \\\n",
    "                          axis=1)"
   ]
  },
  {
   "cell_type": "code",
   "execution_count": null,
   "metadata": {},
   "outputs": [],
   "source": [
    "# expect all of these to be 1, since the gain amplitudes are either constrained or \n",
    "# normalized\n",
    "plot_res(gains_df, 'gamp_mean', ylim=(0.9, 1.1))"
   ]
  },
  {
   "cell_type": "code",
   "execution_count": null,
   "metadata": {},
   "outputs": [],
   "source": [
    "plot_res(gains_df, 'gphase_mean', ylim=(-np.pi, np.pi))"
   ]
  },
  {
   "cell_type": "code",
   "execution_count": null,
   "metadata": {},
   "outputs": [],
   "source": [
    "plot_res_heatmap(gains_df, 'gphase_mean')"
   ]
  },
  {
   "cell_type": "markdown",
   "metadata": {
    "variables": {
     "test_freq": "600"
    }
   },
   "source": [
    "##### Gain stability at test_freq {{test_freq}}"
   ]
  },
  {
   "cell_type": "code",
   "execution_count": null,
   "metadata": {},
   "outputs": [],
   "source": [
    "gainsC_df = gains_df.iloc[:, :-2].apply(lambda row: makeCArray(row.values), axis=1)\n",
    "gainsC_df = pd.DataFrame(gainsC_df.values.tolist(), index=gainsC_df.index)\n",
    "\n",
    "gamps_df = gainsC_df.abs()\n",
    "gphases_df = gainsC_df.apply(np.angle)\n",
    "gamps_df.columns = np.arange(no_ants) + 1\n",
    "gphases_df.columns = gamps_df.columns"
   ]
  },
  {
   "cell_type": "code",
   "execution_count": null,
   "metadata": {},
   "outputs": [],
   "source": [
    "fig, ax = plt.subplots(figsize=(11, 7))\n",
    "ax = sns.heatmap(gamps_df.loc[test_freq, :])\n",
    "ax.yaxis.set_major_locator(ticker.MultipleLocator(5))\n",
    "ax.yaxis.set_major_formatter(ticker.ScalarFormatter())\n",
    "ax.set_title('Gain amplitudes for frequency channel {}'.format(test_freq))\n",
    "plt.tight_layout()"
   ]
  },
  {
   "cell_type": "code",
   "execution_count": null,
   "metadata": {},
   "outputs": [],
   "source": [
    "fig, ax = plt.subplots(figsize=(11, 7))\n",
    "ax = sns.heatmap(gphases_df.loc[test_freq, :])\n",
    "ax.yaxis.set_major_locator(ticker.MultipleLocator(5))\n",
    "ax.yaxis.set_major_formatter(ticker.ScalarFormatter())\n",
    "ax.set_title('Gain phases for frequency channel {}'.format(test_freq))\n",
    "plt.tight_layout()"
   ]
  },
  {
   "cell_type": "markdown",
   "metadata": {},
   "source": [
    "##### Gain stability across frequencies"
   ]
  },
  {
   "cell_type": "code",
   "execution_count": null,
   "metadata": {},
   "outputs": [],
   "source": [
    "std_rng = 3\n",
    "\n",
    "fig, ax = plt.subplots(figsize=(11, 7))\n",
    "# mean over the time integrations for each frequency\n",
    "avg_gamps_tint = gamps_df.groupby(level=0).mean()\n",
    "piv = pd.pivot_table(avg_gamps_tint, columns='freq')\n",
    "vrng = np.ceil(np.std(piv.values)*std_rng*10)/10\n",
    "ax = sns.heatmap(piv, center=1, cmap='bwr', vmin=1-vrng, vmax=1+vrng)\n",
    "ax.yaxis.set_major_locator(ticker.MultipleLocator(5))\n",
    "ax.yaxis.set_major_formatter(ticker.ScalarFormatter())\n",
    "ax.set_title('Mean (over time integrations) gain amplitudes')\n",
    "plt.tight_layout()"
   ]
  },
  {
   "cell_type": "code",
   "execution_count": null,
   "metadata": {},
   "outputs": [],
   "source": [
    "center = 0\n",
    "fig, ax = plt.subplots(figsize=(11, 7))\n",
    "avg_gphases_tint = gphases_df.groupby(level=0)\n",
    "avg_gphases_tint = gphases_df.groupby(level=0).mean()\n",
    "piv = pd.pivot_table(avg_gphases_tint, columns='freq')\n",
    "ax = sns.heatmap(piv, center=center, cmap='bwr', vmin=-np.pi, vmax=np.pi)\n",
    "ax.yaxis.set_major_locator(ticker.MultipleLocator(5))\n",
    "ax.yaxis.set_major_formatter(ticker.ScalarFormatter())\n",
    "ax.set_title('Mean (over time integrations) gain phases')\n",
    "plt.tight_layout()"
   ]
  },
  {
   "cell_type": "code",
   "execution_count": null,
   "metadata": {},
   "outputs": [],
   "source": [
    "high_circ = np.pi\n",
    "low_circ = -np.pi\n",
    "\n",
    "center = 0\n",
    "fig, ax = plt.subplots(figsize=(11, 7))\n",
    "avg_gphases_tint = gphases_df.groupby(level=0)\n",
    "circ_res = avg_gphases_tint.apply(lambda x: circmean(x, low=low_circ, high=high_circ, \\\n",
    "                                                     axis=0))\n",
    "avg_gphases_tint = pd.DataFrame(circ_res.values.tolist(), index=circ_res.index)\n",
    "piv = pd.pivot_table(avg_gphases_tint, columns='freq')\n",
    "ax = sns.heatmap(piv, center=center, cmap='bwr', vmin=-np.pi, vmax=np.pi)\n",
    "ax.yaxis.set_major_locator(ticker.MultipleLocator(5))\n",
    "ax.yaxis.set_major_formatter(ticker.ScalarFormatter())\n",
    "ax.set_title('Circular mean (over time integrations) of gain phases')\n",
    "plt.tight_layout()"
   ]
  },
  {
   "cell_type": "markdown",
   "metadata": {},
   "source": [
    "##### Average gains across all frequencies and time integrations"
   ]
  },
  {
   "cell_type": "code",
   "execution_count": null,
   "metadata": {},
   "outputs": [],
   "source": [
    "avg_gamps = gamps_df.mean(axis=0).values\n",
    "avg_gphases = gphases_df.mean(axis=0).values\n",
    "circ_mean_gphases = gphases_df.apply(lambda col: circmean(col, low=low_circ, \\\n",
    "                                                          high=high_circ), axis=0).values"
   ]
  },
  {
   "cell_type": "code",
   "execution_count": null,
   "metadata": {},
   "outputs": [],
   "source": [
    "antpos_map(avg_gamps, antpos, 'Mean gain amplitudes', center=1)"
   ]
  },
  {
   "cell_type": "code",
   "execution_count": null,
   "metadata": {},
   "outputs": [],
   "source": [
    "antpos_map(avg_gphases, antpos, 'Mean gain phases', center=0)"
   ]
  },
  {
   "cell_type": "code",
   "execution_count": null,
   "metadata": {},
   "outputs": [],
   "source": [
    "antpos_map(circ_mean_gphases, antpos, 'Circular mean of gain phases', center=0)"
   ]
  },
  {
   "cell_type": "markdown",
   "metadata": {},
   "source": [
    "##### Standard deviation of gains across all frequencies and time integrations"
   ]
  },
  {
   "cell_type": "code",
   "execution_count": null,
   "metadata": {},
   "outputs": [],
   "source": [
    "std_gamps = gamps_df.std(axis=0)\n",
    "std_gphases = gphases_df.std(axis=0)\n",
    "circ_std_gphases = gphases_df.apply(lambda col: circstd(col), axis=0).values"
   ]
  },
  {
   "cell_type": "code",
   "execution_count": null,
   "metadata": {},
   "outputs": [],
   "source": [
    "antpos_map(std_gamps, antpos, 'Standard deviation of gain amplitudes', cmap='Oranges')"
   ]
  },
  {
   "cell_type": "code",
   "execution_count": null,
   "metadata": {},
   "outputs": [],
   "source": [
    "antpos_map(std_gphases, antpos, 'Standard deviation of gain phases', cmap='Oranges')"
   ]
  },
  {
   "cell_type": "code",
   "execution_count": null,
   "metadata": {},
   "outputs": [],
   "source": [
    "antpos_map(circ_std_gphases, antpos, 'Circular standard deviation of gain phases', \\\n",
    "           cmap='Oranges')"
   ]
  },
  {
   "cell_type": "markdown",
   "metadata": {},
   "source": [
    "#### Visibility solutions"
   ]
  },
  {
   "cell_type": "code",
   "execution_count": null,
   "metadata": {},
   "outputs": [],
   "source": [
    "no_unq_bls = md['no_unq_bls']\n",
    "no_min_p = 5 # number of columns in df that are attributes of the SciPy OptimizeResult \n",
    "vis_df = df.iloc[:, no_min_p:no_unq_bls*2+no_min_p]\n",
    "\n",
    "vis_df['vamp_mean'] = vis_df.apply(lambda row: \\\n",
    "                      np.mean(np.abs(makeCArray(row[:no_unq_bls*2].values))), \\\n",
    "                      axis=1)\n",
    "vis_df['vphase_mean'] = vis_df.apply(lambda row: \\\n",
    "                        np.mean(np.angle(makeCArray(row[:no_unq_bls*2].values))), \\\n",
    "                        axis=1)"
   ]
  },
  {
   "cell_type": "code",
   "execution_count": null,
   "metadata": {},
   "outputs": [],
   "source": [
    "vis_df.head()"
   ]
  },
  {
   "cell_type": "code",
   "execution_count": null,
   "metadata": {},
   "outputs": [],
   "source": [
    "plot_res(vis_df, 'vamp_mean', clip=True, clip_pctile=98)"
   ]
  },
  {
   "cell_type": "code",
   "execution_count": null,
   "metadata": {},
   "outputs": [],
   "source": [
    "plot_res_heatmap(vis_df, 'vamp_mean', clip=True, clip_pctile=98)"
   ]
  },
  {
   "cell_type": "code",
   "execution_count": null,
   "metadata": {},
   "outputs": [],
   "source": [
    "plot_res(vis_df, 'vphase_mean', clip=False, ylim=(-np.pi, np.pi))"
   ]
  },
  {
   "cell_type": "code",
   "execution_count": null,
   "metadata": {},
   "outputs": [],
   "source": [
    "plot_res_heatmap(vis_df, 'vphase_mean')"
   ]
  },
  {
   "cell_type": "code",
   "execution_count": null,
   "metadata": {},
   "outputs": [],
   "source": []
  }
 ],
 "metadata": {
  "kernelspec": {
   "display_name": "Python 3",
   "language": "python",
   "name": "python3"
  },
  "language_info": {
   "codemirror_mode": {
    "name": "ipython",
    "version": 3
   },
   "file_extension": ".py",
   "mimetype": "text/x-python",
   "name": "python",
   "nbconvert_exporter": "python",
   "pygments_lexer": "ipython3",
   "version": "3.7.6"
  },
  "toc": {
   "base_numbering": 1,
   "nav_menu": {},
   "number_sections": true,
   "sideBar": true,
   "skip_h1_title": false,
   "title_cell": "Table of Contents",
   "title_sidebar": "Contents",
   "toc_cell": false,
   "toc_position": {},
   "toc_section_display": true,
   "toc_window_display": false
  }
 },
 "nbformat": 4,
 "nbformat_minor": 4
}

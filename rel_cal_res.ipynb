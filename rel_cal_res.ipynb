{
 "cells": [
  {
   "cell_type": "code",
   "execution_count": null,
   "metadata": {},
   "outputs": [],
   "source": [
    "import os\n",
    "\n",
    "import matplotlib\n",
    "import numpy as np\n",
    "import pandas as pd\n",
    "import pickle\n",
    "import seaborn as sns\n",
    "from matplotlib import pyplot as plt\n",
    "from matplotlib import ticker\n",
    "from scipy.stats import circmean, circstd\n",
    "\n",
    "from fit_diagnostics import abs_residuals\n",
    "from plot_utils import antpos_map, df_heatmap, plot_res, plot_res_grouped, plot_res_heatmap\n",
    "from red_likelihood import flt_ant_pos, makeCArray, split_rel_results\n",
    "from red_utils import find_rel_df, flt_ant_coords"
   ]
  },
  {
   "cell_type": "code",
   "execution_count": null,
   "metadata": {},
   "outputs": [],
   "source": [
    "%matplotlib inline"
   ]
  },
  {
   "cell_type": "code",
   "execution_count": null,
   "metadata": {},
   "outputs": [],
   "source": [
    "jd_time = 2458098.43869\n",
    "pol = 'ee'\n",
    "dist = 'gaussian'\n",
    "dir_path = 'rel_dfs'\n",
    "coords = 'cartesian'"
   ]
  },
  {
   "cell_type": "code",
   "execution_count": null,
   "metadata": {},
   "outputs": [],
   "source": [
    "plot_figs = False\n",
    "if plot_figs:\n",
    "    import matplotlib as mpl\n",
    "    mpl.rcParams['figure.dpi'] = 300"
   ]
  },
  {
   "cell_type": "code",
   "execution_count": null,
   "metadata": {},
   "outputs": [],
   "source": [
    "rel_df = find_rel_df(jd_time, pol, dist, dir_path)"
   ]
  },
  {
   "cell_type": "code",
   "execution_count": null,
   "metadata": {},
   "outputs": [],
   "source": [
    "with open(os.path.join(dir_path, 'rel_df.{}.{}.md.pkl'.format(jd_time, pol)), 'rb') as f:\n",
    "    md = pickle.load(f)\n",
    "    \n",
    "df = pd.read_pickle(rel_df)\n",
    "df.sample(5).sort_index()"
   ]
  },
  {
   "cell_type": "code",
   "execution_count": null,
   "metadata": {},
   "outputs": [],
   "source": [
    "# Check results for a given frequency & time integration\n",
    "test_freq = 612\n",
    "test_tint = 0\n",
    "\n",
    "resx = df.loc[(test_freq, test_tint)][5:-2].values.astype(float)\n",
    "test_vis, test_gains = split_rel_results(resx, md['no_unq_bls'], coords=coords)\n",
    "test_gamps = np.abs(test_gains)\n",
    "test_gphases = np.angle(test_gains)\n",
    "mean_test_gamps = np.mean(test_gamps)\n",
    "mean_test_gphases = np.mean(test_gphases)\n",
    "\n",
    "print('Gain amplitude mean is: {}'.format(mean_test_gamps))\n",
    "print('Gain phase mean is: {}'.format(mean_test_gphases))"
   ]
  },
  {
   "cell_type": "code",
   "execution_count": null,
   "metadata": {},
   "outputs": [],
   "source": [
    "if 'ex_ant' in dir_path:\n",
    "    # if any additional bad antennas to flag\n",
    "    add_bad_ants = dir_path.split('ex_ant', 1)[1].split('_')\n",
    "    add_bad_ants = np.asarray(add_bad_ants, dtype=int)\n",
    "else:\n",
    "    add_bad_ants = None\n",
    "\n",
    "ant_pos = flt_ant_coords(jd_time, md['antpos'], add_bad_ants=add_bad_ants)"
   ]
  },
  {
   "cell_type": "code",
   "execution_count": null,
   "metadata": {},
   "outputs": [],
   "source": [
    "antpos_map(test_gamps, ant_pos, 'Gain amplitudes', center=1)\n",
    "print('Gain amplitude solutions for frequency channel {} and time integration {} are: '\\\n",
    "      '\\n{}'.format(test_freq, test_tint, test_gamps))"
   ]
  },
  {
   "cell_type": "code",
   "execution_count": null,
   "metadata": {},
   "outputs": [],
   "source": [
    "antpos_map(test_gphases, ant_pos, 'Gain phases')\n",
    "print('Gain phase solutions are:\\n{}'.format(test_gphases))"
   ]
  },
  {
   "cell_type": "code",
   "execution_count": null,
   "metadata": {},
   "outputs": [],
   "source": [
    "# Success rate percentage\n",
    "success_pct = df['success'].sum() / df['success'].size * 100\n",
    "print('{}% of iterations (freq/tint slice) were succesful'.format(round(success_pct, 2)))"
   ]
  },
  {
   "cell_type": "markdown",
   "metadata": {},
   "source": [
    "### Number of iterations required"
   ]
  },
  {
   "cell_type": "code",
   "execution_count": null,
   "metadata": {},
   "outputs": [],
   "source": [
    "plot_res(df, 'nit', clip=True)"
   ]
  },
  {
   "cell_type": "code",
   "execution_count": null,
   "metadata": {},
   "outputs": [],
   "source": [
    "plot_res_grouped(df, 'nit', logy=True)"
   ]
  },
  {
   "cell_type": "code",
   "execution_count": null,
   "metadata": {},
   "outputs": [],
   "source": [
    "plot_res_heatmap(df, 'nit', clip=True)"
   ]
  },
  {
   "cell_type": "markdown",
   "metadata": {},
   "source": [
    "### Log-likelihood"
   ]
  },
  {
   "cell_type": "code",
   "execution_count": null,
   "metadata": {},
   "outputs": [],
   "source": [
    "plot_res(df, 'fun', clip=True, clip_pctile=98)"
   ]
  },
  {
   "cell_type": "code",
   "execution_count": null,
   "metadata": {},
   "outputs": [],
   "source": [
    "plot_res_grouped(df, 'fun', logy=True)"
   ]
  },
  {
   "cell_type": "code",
   "execution_count": null,
   "metadata": {},
   "outputs": [],
   "source": [
    "plot_res_heatmap(df, 'fun', clip=True, clip_pctile=98)"
   ]
  },
  {
   "cell_type": "markdown",
   "metadata": {},
   "source": [
    "### Residuals"
   ]
  },
  {
   "cell_type": "markdown",
   "metadata": {},
   "source": [
    "Look at both the real and imaginary of the the median absolute normalized residual"
   ]
  },
  {
   "cell_type": "code",
   "execution_count": null,
   "metadata": {},
   "outputs": [],
   "source": [
    "df[['med_abs_norm_res_Re', 'med_abs_norm_res_Im']] = df.apply(lambda row: \\\n",
    "pd.Series(abs_residuals(row['norm_residual'])), axis=1)"
   ]
  },
  {
   "cell_type": "code",
   "execution_count": null,
   "metadata": {},
   "outputs": [],
   "source": [
    "plot_res_heatmap(df, 'med_abs_norm_res_Re', clip=True, clip_pctile=90)"
   ]
  },
  {
   "cell_type": "code",
   "execution_count": null,
   "metadata": {},
   "outputs": [],
   "source": [
    "plot_res_heatmap(df, 'med_abs_norm_res_Im', clip=True, clip_pctile=90)"
   ]
  },
  {
   "cell_type": "markdown",
   "metadata": {},
   "source": [
    "Combined residual by adding Re and Im components in quadrature"
   ]
  },
  {
   "cell_type": "code",
   "execution_count": null,
   "metadata": {},
   "outputs": [],
   "source": [
    "df['med_abs_norm_res_comb'] = np.sqrt(df['med_abs_norm_res_Re']**2 + \\\n",
    "                                      df['med_abs_norm_res_Im']**2)"
   ]
  },
  {
   "cell_type": "code",
   "execution_count": null,
   "metadata": {},
   "outputs": [],
   "source": [
    "plot_res_heatmap(df, 'med_abs_norm_res_comb', clip=True, clip_pctile=90)"
   ]
  },
  {
   "cell_type": "markdown",
   "metadata": {},
   "source": [
    "### Stability of gains, visibility solutions and degenerate parameters"
   ]
  },
  {
   "cell_type": "markdown",
   "metadata": {},
   "source": [
    "#### Gains"
   ]
  },
  {
   "cell_type": "code",
   "execution_count": null,
   "metadata": {},
   "outputs": [],
   "source": [
    "no_ants = md['no_ants']\n",
    "no_resid_p = 5 # number of residual parameters in df dataframe\n",
    "gains_df = df.iloc[:, -no_ants*2-no_resid_p:-no_resid_p]\n",
    "\n",
    "if coords == 'cartesian':\n",
    "    gains_df['gamp_mean'] = gains_df.apply(lambda row: \\\n",
    "                            np.mean(np.abs(makeCArray(row[:no_ants*2].values))), \\\n",
    "                            axis=1)\n",
    "    gains_df['gphase_mean'] = gains_df.apply(lambda row: \\\n",
    "                              np.mean(np.angle(makeCArray(row[:no_ants*2].values))), \\\n",
    "                              axis=1)\n",
    "if coords == 'polar':\n",
    "    gains_df['gamp_mean'] = gains_df.apply(lambda row: \\\n",
    "                            np.mean(row[:no_ants*2:2].values), axis=1)\n",
    "    gains_df['gphase_mean'] = gains_df.apply(lambda row: \\\n",
    "                              np.mean(row[1:no_ants*2:2].values), axis=1)    "
   ]
  },
  {
   "cell_type": "code",
   "execution_count": null,
   "metadata": {},
   "outputs": [],
   "source": [
    "# Expect all of these to be 1, since the gain amplitudes are either constrained or \n",
    "# normalized\n",
    "plot_res(gains_df, 'gamp_mean')"
   ]
  },
  {
   "cell_type": "code",
   "execution_count": null,
   "metadata": {},
   "outputs": [],
   "source": [
    "plot_res(gains_df, 'gphase_mean', ylim=(-np.pi, np.pi))"
   ]
  },
  {
   "cell_type": "code",
   "execution_count": null,
   "metadata": {},
   "outputs": [],
   "source": [
    "plot_res_heatmap(gains_df, 'gphase_mean', vmin=-np.pi, vmax=np.pi)"
   ]
  },
  {
   "cell_type": "markdown",
   "metadata": {
    "variables": {
     "test_freq": "612"
    }
   },
   "source": [
    "##### Gain stability at test_freq {{test_freq}}"
   ]
  },
  {
   "cell_type": "code",
   "execution_count": null,
   "metadata": {},
   "outputs": [],
   "source": [
    "if coords == 'cartesian':\n",
    "    gainsC_df = gains_df.iloc[:, :-2].apply(lambda row: makeCArray(row.values), axis=1)\n",
    "    gainsC_df = pd.DataFrame(gainsC_df.values.tolist(), index=gainsC_df.index)\n",
    "\n",
    "    gamps_df = gainsC_df.abs()\n",
    "    gphases_df = gainsC_df.apply(np.angle)\n",
    "if coords == 'polar':\n",
    "    gamps_df = gains_df.iloc[:, :-2:2]\n",
    "    gphases_df = gains_df.iloc[:, 1:-2:2]\n",
    "    \n",
    "gamps_df.columns = np.arange(no_ants) + 1\n",
    "gphases_df.columns = gamps_df.columns"
   ]
  },
  {
   "cell_type": "code",
   "execution_count": null,
   "metadata": {},
   "outputs": [],
   "source": [
    "df_heatmap(gamps_df.loc[test_freq, :], ybase=5, center=1, cmap='bwr', \\\n",
    "           title='Gain amplitudes for frequency channel {}'.format(test_freq),\n",
    "           xlabel='Antenna',\n",
    "           ylabel='Time integration')"
   ]
  },
  {
   "cell_type": "code",
   "execution_count": null,
   "metadata": {},
   "outputs": [],
   "source": [
    "df_heatmap(gphases_df.loc[test_freq, :], ybase=5, center=0, cmap='bwr', vmin=-np.pi, vmax=np.pi,\\\n",
    "           title='Gain phases for frequency channel {}'.format(test_freq),\n",
    "           xlabel='Antenna',\n",
    "           ylabel='Time integration')"
   ]
  },
  {
   "cell_type": "markdown",
   "metadata": {},
   "source": [
    "##### Gain stability across average over frequency channels 600-700"
   ]
  },
  {
   "cell_type": "code",
   "execution_count": null,
   "metadata": {},
   "outputs": [],
   "source": [
    "std_rng = 3\n",
    "chan_start = 600\n",
    "chan_end = 700\n",
    "\n",
    "# Mean over the time integrations for each frequency\n",
    "avg_gamps_tint = gamps_df.loc[pd.IndexSlice[chan_start:chan_end, :], :].groupby(level=0).mean()\n",
    "piv = pd.pivot_table(avg_gamps_tint, columns='freq')\n",
    "vrng = np.ceil(np.nanstd(piv.values)*std_rng*10)/10\n",
    "\n",
    "df_heatmap(piv, xbase=10, ybase=5, cmap='bwr', center=1, vmin=1-vrng, vmax=1+vrng, \\\n",
    "           title='Mean (over time integrations) gain amplitudes', \\\n",
    "           xlabel='Frequency', \\\n",
    "           ylabel='Time integration')"
   ]
  },
  {
   "cell_type": "code",
   "execution_count": null,
   "metadata": {},
   "outputs": [],
   "source": [
    "avg_gphases_tint = gphases_df.loc[pd.IndexSlice[chan_start:chan_end, :], :].\\\n",
    "                       groupby(level=0).mean()\n",
    "piv = pd.pivot_table(avg_gphases_tint, columns='freq')\n",
    "\n",
    "df_heatmap(piv, xbase=10, ybase=5, cmap='bwr', center=0, vmin=-np.pi, vmax=np.pi, \\\n",
    "           title='Mean (over time integrations) gain phases', \\\n",
    "           xlabel='Frequency', \\\n",
    "           ylabel='Time integration')"
   ]
  },
  {
   "cell_type": "code",
   "execution_count": null,
   "metadata": {},
   "outputs": [],
   "source": [
    "gphases_tint = gphases_df.loc[pd.IndexSlice[chan_start:chan_end, :], :].\\\n",
    "               groupby(level=0)\n",
    "circ_res = gphases_tint.apply(lambda x: circmean(x, low=-np.pi, high=np.pi, \\\n",
    "                                                 axis=0))\n",
    "cavg_gphases_tint = pd.DataFrame(circ_res.values.tolist(), index=circ_res.index)\n",
    "piv = pd.pivot_table(cavg_gphases_tint, columns='freq')\n",
    "\n",
    "df_heatmap(piv, xbase=10, ybase=5, cmap='bwr', center=0, vmin=-np.pi, vmax=np.pi, \\\n",
    "           title='Circular mean (over time integrations) of gain phases', \\\n",
    "           xlabel='Frequency', \\\n",
    "           ylabel='Time integration')"
   ]
  },
  {
   "cell_type": "markdown",
   "metadata": {},
   "source": [
    "##### Average gains across frequency channels 600-700 and all time integrations"
   ]
  },
  {
   "cell_type": "code",
   "execution_count": null,
   "metadata": {},
   "outputs": [],
   "source": [
    "avg_gamps = gamps_df.loc[pd.IndexSlice[chan_start:chan_end, :], :].mean(axis=0).values\n",
    "avg_gphases = gphases_df.loc[pd.IndexSlice[chan_start:chan_end, :], :].mean(axis=0).values\n",
    "circ_mean_gphases = gphases_df.loc[pd.IndexSlice[chan_start:chan_end, :], :].\\\n",
    "    apply(lambda col: circmean(col, low=-np.pi, high=np.pi), axis=0).values"
   ]
  },
  {
   "cell_type": "code",
   "execution_count": null,
   "metadata": {},
   "outputs": [],
   "source": [
    "antpos_map(avg_gamps, ant_pos, 'Mean gain amplitudes', center=1)"
   ]
  },
  {
   "cell_type": "code",
   "execution_count": null,
   "metadata": {},
   "outputs": [],
   "source": [
    "antpos_map(avg_gphases, ant_pos, 'Mean gain phases', center=0)"
   ]
  },
  {
   "cell_type": "code",
   "execution_count": null,
   "metadata": {},
   "outputs": [],
   "source": [
    "antpos_map(circ_mean_gphases, ant_pos, 'Circular mean of gain phases', center=0)"
   ]
  },
  {
   "cell_type": "markdown",
   "metadata": {},
   "source": [
    "##### Standard deviation of gains across frequency channels 600-700 and all time integrations"
   ]
  },
  {
   "cell_type": "code",
   "execution_count": null,
   "metadata": {},
   "outputs": [],
   "source": [
    "std_gamps = gamps_df.loc[pd.IndexSlice[chan_start:chan_end, :], :].std(axis=0)\n",
    "std_gphases = gphases_df.loc[pd.IndexSlice[chan_start:chan_end, :], :].std(axis=0)\n",
    "circ_std_gphases = gphases_df.loc[pd.IndexSlice[chan_start:chan_end, :], :].apply(lambda col: circstd(col), \\\n",
    "                                                                                  axis=0).values"
   ]
  },
  {
   "cell_type": "code",
   "execution_count": null,
   "metadata": {},
   "outputs": [],
   "source": [
    "antpos_map(std_gamps, ant_pos, 'Standard deviation of gain amplitudes', cmap='Oranges')"
   ]
  },
  {
   "cell_type": "code",
   "execution_count": null,
   "metadata": {},
   "outputs": [],
   "source": [
    "antpos_map(std_gphases, ant_pos, 'Standard deviation of gain phases', cmap='Oranges')"
   ]
  },
  {
   "cell_type": "code",
   "execution_count": null,
   "metadata": {},
   "outputs": [],
   "source": [
    "antpos_map(circ_std_gphases, ant_pos, 'Circular standard deviation of gain phases', \\\n",
    "           cmap='Oranges')"
   ]
  },
  {
   "cell_type": "markdown",
   "metadata": {},
   "source": [
    "#### Visibility solutions"
   ]
  },
  {
   "cell_type": "code",
   "execution_count": null,
   "metadata": {},
   "outputs": [],
   "source": [
    "no_unq_bls = md['no_unq_bls']\n",
    "no_min_p = 5 # number of columns in df that are attributes of the SciPy OptimizeResult \n",
    "vis_df = df.iloc[:, no_min_p:no_unq_bls*2+no_min_p]\n",
    "\n",
    "if coords == 'cartesian':\n",
    "    vis_df['vamp_mean'] = vis_df.apply(lambda row: \\\n",
    "                          np.mean(np.abs(makeCArray(row[:no_unq_bls*2].values))), \\\n",
    "                          axis=1)\n",
    "    vis_df['vphase_mean'] = vis_df.apply(lambda row: \\\n",
    "                            np.mean(np.angle(makeCArray(row[:no_unq_bls*2].values))), \\\n",
    "                            axis=1)\n",
    "if coords == 'polar':\n",
    "    vis_df['vamp_mean'] = vis_df.apply(lambda row: \\\n",
    "                              np.mean(np.absolute(row[:no_unq_bls*2:2].values)), axis=1)\n",
    "    vis_df['vphase_mean'] = vis_df.apply(lambda row: \\\n",
    "                                np.mean(row[1:no_unq_bls*2:2].values), axis=1)"
   ]
  },
  {
   "cell_type": "code",
   "execution_count": null,
   "metadata": {},
   "outputs": [],
   "source": [
    "plot_res(vis_df, 'vamp_mean', clip=True, clip_pctile=98)"
   ]
  },
  {
   "cell_type": "code",
   "execution_count": null,
   "metadata": {},
   "outputs": [],
   "source": [
    "plot_res_heatmap(vis_df, 'vamp_mean', clip=True, clip_pctile=98)"
   ]
  },
  {
   "cell_type": "code",
   "execution_count": null,
   "metadata": {},
   "outputs": [],
   "source": [
    "plot_res(vis_df, 'vphase_mean', clip=False, ylim=(-np.pi, np.pi))"
   ]
  },
  {
   "cell_type": "code",
   "execution_count": null,
   "metadata": {},
   "outputs": [],
   "source": [
    "plot_res_heatmap(vis_df, 'vphase_mean', vmin=-np.pi, vmax=np.pi)"
   ]
  },
  {
   "cell_type": "markdown",
   "metadata": {
    "variables": {
     "test_tint": "0"
    }
   },
   "source": [
    "##### Visibilities across baselines at test_integration {{test_tint}}"
   ]
  },
  {
   "cell_type": "code",
   "execution_count": null,
   "metadata": {},
   "outputs": [],
   "source": [
    "if coords == 'cartesian':\n",
    "    visC_df = vis_df.iloc[:, :-2].apply(lambda row: makeCArray(row.values), axis=1)\n",
    "    visC_df = pd.DataFrame(visC_df.values.tolist(), index=visC_df.index)\n",
    "    visC_tint_df = visC_df.loc[pd.IndexSlice[:, test_tint], :].droplevel(level=1)\n",
    "    visamp_tint_df = np.abs(visC_tint_df)\n",
    "    visphase_tint_df = visC_tint_df.apply(np.angle)\n",
    "if coords == 'polar':\n",
    "    visamp_tint_df = vis_df.iloc[:, :-2:2].loc[pd.IndexSlice[:, test_tint], :].\\\n",
    "                                               droplevel(level=1)\n",
    "    visphase_tint_df = vis_df.iloc[:, 1:-2:2].loc[pd.IndexSlice[:, test_tint], :].\\\n",
    "                                                  droplevel(level=1)"
   ]
  },
  {
   "cell_type": "code",
   "execution_count": null,
   "metadata": {},
   "outputs": [],
   "source": [
    "piv = pd.pivot_table(visamp_tint_df, columns='freq')\n",
    "vmax = np.nanpercentile(piv.values, 95)\n",
    "vmin = np.nanpercentile(piv.values, 5)\n",
    "df_heatmap(piv, xbase=50, ybase=5, vmax=vmax, vmin=vmin, \\\n",
    "           title='Visibility amplitudes for time_integration {}'.format(test_tint), \\\n",
    "           xlabel='Frequency', \\\n",
    "           ylabel='Redundant Baseline Group')"
   ]
  },
  {
   "cell_type": "code",
   "execution_count": null,
   "metadata": {},
   "outputs": [],
   "source": [
    "piv = pd.pivot_table(visphase_tint_df, columns='freq')\n",
    "df_heatmap(piv, xbase=50, ybase=5, center=0, cmap='bwr', vmin=-np.pi, vmax=np.pi,\\\n",
    "           title='Visibility phases for time_integration {}'.format(test_tint), \\\n",
    "           xlabel='Frequency', \\\n",
    "           ylabel='Redundant Baseline Group')"
   ]
  },
  {
   "cell_type": "markdown",
   "metadata": {},
   "source": [
    "##### Tilt shifts\n",
    "\n",
    "Calculate tilt shifts of relatively calibrated results"
   ]
  },
  {
   "cell_type": "code",
   "execution_count": null,
   "metadata": {},
   "outputs": [],
   "source": [
    "antpos_arr = flt_ant_pos(md['antpos'], np.unique(md['redg'][:, 1:]))"
   ]
  },
  {
   "cell_type": "code",
   "execution_count": null,
   "metadata": {},
   "outputs": [],
   "source": [
    "gphases_df['x_tilt'] = gphases_df.apply(lambda row: np.sum(row.values[:no_ants]*antpos_arr[:, 0]), axis=1)\n",
    "gphases_df['y_tilt'] = gphases_df.apply(lambda row: np.sum(row.values[:no_ants]*antpos_arr[:, 1]), axis=1)"
   ]
  },
  {
   "cell_type": "code",
   "execution_count": null,
   "metadata": {},
   "outputs": [],
   "source": [
    "plot_res(gphases_df, 'x_tilt')"
   ]
  },
  {
   "cell_type": "code",
   "execution_count": null,
   "metadata": {},
   "outputs": [],
   "source": [
    "plot_res(gphases_df, 'y_tilt')"
   ]
  },
  {
   "cell_type": "code",
   "execution_count": null,
   "metadata": {},
   "outputs": [],
   "source": [
    "plot_res_heatmap(gphases_df, 'x_tilt')"
   ]
  },
  {
   "cell_type": "code",
   "execution_count": null,
   "metadata": {},
   "outputs": [],
   "source": [
    "plot_res_heatmap(gphases_df, 'y_tilt')"
   ]
  }
 ],
 "metadata": {
  "kernelspec": {
   "display_name": "Python 3",
   "language": "python",
   "name": "python3"
  },
  "language_info": {
   "codemirror_mode": {
    "name": "ipython",
    "version": 3
   },
   "file_extension": ".py",
   "mimetype": "text/x-python",
   "name": "python",
   "nbconvert_exporter": "python",
   "pygments_lexer": "ipython3",
   "version": "3.7.9"
  },
  "toc": {
   "base_numbering": 1,
   "nav_menu": {},
   "number_sections": true,
   "sideBar": true,
   "skip_h1_title": false,
   "title_cell": "Table of Contents",
   "title_sidebar": "Contents",
   "toc_cell": false,
   "toc_position": {},
   "toc_section_display": true,
   "toc_window_display": false
  }
 },
 "nbformat": 4,
 "nbformat_minor": 4
}

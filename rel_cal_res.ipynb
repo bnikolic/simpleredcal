{
 "cells": [
  {
   "cell_type": "code",
   "execution_count": null,
   "metadata": {},
   "outputs": [],
   "source": [
    "import numpy as np\n",
    "import pandas as pd\n",
    "import pickle\n",
    "from matplotlib import pyplot as plt\n",
    "\n",
    "from red_utils import split_rel_results"
   ]
  },
  {
   "cell_type": "code",
   "execution_count": null,
   "metadata": {},
   "outputs": [],
   "source": [
    "res_df = 'rel_df.2458098.43869.ee.pkl'"
   ]
  },
  {
   "cell_type": "code",
   "execution_count": null,
   "metadata": {},
   "outputs": [],
   "source": [
    "with open(res_df.rsplit('.', 1)[0] + '.md.pkl', 'rb') as f:\n",
    "    md = pickle.load(f)\n",
    "    \n",
    "df = pd.read_pickle(res_df)\n",
    "df"
   ]
  },
  {
   "cell_type": "code",
   "execution_count": null,
   "metadata": {},
   "outputs": [],
   "source": [
    "# check results for a given frequency & time integration\n",
    "test_freq = 300\n",
    "test_tint = 35\n",
    "\n",
    "resx = df.loc[(test_freq, test_tint)][5:].values.astype(float)\n",
    "test_vis, test_gains = split_rel_results(resx, md['no_unq_bls'])\n",
    "test_amps = np.abs(test_gains)\n",
    "test_phases = np.angle(test_gains)\n",
    "mean_test_amps = np.mean(test_amps)\n",
    "mean_test_phases = np.mean(test_phases)\n",
    "\n",
    "print('Gain amplitude solutions for frequency channel {} and time integration {} are:\\n{}\\n'\\\n",
    "      .format(test_freq, test_tint, test_amps))\n",
    "print('Gain phase solutions are:\\n{}\\n'\\\n",
    "      .format(test_phases))\n",
    "print('Gain amplitude average is: {}'.format(mean_test_amps))\n",
    "print('Gain phase average is: {}'.format(mean_test_phases))"
   ]
  },
  {
   "cell_type": "code",
   "execution_count": null,
   "metadata": {},
   "outputs": [],
   "source": [
    "# success rate percentage\n",
    "success_pct = df['success'].sum() / df['success'].size * 100\n",
    "print('{}% of iterations (freq/tint slice) were succesful'.format(round(success_pct, 2)))"
   ]
  },
  {
   "cell_type": "markdown",
   "metadata": {},
   "source": [
    "### Number of iterations required"
   ]
  },
  {
   "cell_type": "code",
   "execution_count": null,
   "metadata": {},
   "outputs": [],
   "source": [
    "ylab_dict = {'nit': 'number of iterations', 'fun': 'log-likelihood'}"
   ]
  },
  {
   "cell_type": "code",
   "execution_count": null,
   "metadata": {},
   "outputs": [],
   "source": [
    "def plot_res(df, ycol, logy=False, ylim=None, figsize=(12,8)):\n",
    "    \"\"\"Plot attribute of calibration results\n",
    "    \n",
    "    :param df: Results dataframe\n",
    "    :type df: DataFrame\n",
    "    :param ycol: Attribute to plot\n",
    "    :type ycol: str\n",
    "    :param logy: Bool to make y-axis scale logarithmic\n",
    "    :type logy: bool\n",
    "    :param figsize: Figure size of plot\n",
    "    :type figsize: tuple\n",
    "    \"\"\"\n",
    "    ax = df[ycol].plot(figsize=figsize, ylim=ylim)\n",
    "    ylog = ''\n",
    "    if logy:\n",
    "        ax.set_yscale('log')\n",
    "        ylog = 'Log '\n",
    "    ax.set_ylabel((ylog+ylab_dict[ycol]).capitalize())\n",
    "    plt.show()"
   ]
  },
  {
   "cell_type": "code",
   "execution_count": null,
   "metadata": {},
   "outputs": [],
   "source": [
    "def plot_res_grouped(df, ycol, group_by='success', logy=False, figsize=(12,8)):\n",
    "    \"\"\"Plot attribute of calibration results, grouped by another attribute\n",
    "    \n",
    "    :param df: Results dataframe\n",
    "    :type df: DataFrame\n",
    "    :param ycol: Attribute to plot\n",
    "    :type ycol: str\n",
    "    :param group_by: Column by which to group scatter points\n",
    "    :type group_by: str \n",
    "    :param logy: Bool to make y-axis scale logarithmic\n",
    "    :type logy: bool\n",
    "    :param figsize: Figure size of plot\n",
    "    :type figsize: tuple\n",
    "    \"\"\"\n",
    "    idx_dict = {k:i for i, k in enumerate(df.index.values)}\n",
    "    \n",
    "    x1 = [idx_dict[i] for i in df[df[group_by]][ycol].index.values]\n",
    "    y1 = df[df[group_by]][ycol].values\n",
    "\n",
    "    x2 = [idx_dict[i] for i in df[~df[group_by]][ycol].index.values]\n",
    "    y2 = df[~df[group_by]][ycol].values\n",
    "\n",
    "    fig, ax = plt.subplots(figsize=figsize)\n",
    "    ax.scatter(x1, y1, s=4, alpha=0.5, label=group_by)\n",
    "    ax.scatter(x2, y2, s=4, color='orange', zorder=1, label='~'+group_by)\n",
    "    ylog = ''\n",
    "    if logy:\n",
    "        ax.set_yscale('log')\n",
    "        ylog = 'Log '\n",
    "    ax.set_ylabel((ylog+ylab_dict[ycol]).capitalize())\n",
    "    plt.legend()\n",
    "    plt.show()\n",
    "    \n",
    "    print('Max {} for minimizations with {}=False: {}\\n'.format(ylab_dict[ycol], \\\n",
    "          group_by, round(np.max(df['fun'][~df['success']].values), 3)))\n",
    "\n",
    "    print('Max {} for minimizations with {}=True: {}'.format(ylab_dict[ycol], \\\n",
    "          group_by, round(np.max(df['fun'][df['success']].values), 3)))"
   ]
  },
  {
   "cell_type": "code",
   "execution_count": null,
   "metadata": {},
   "outputs": [],
   "source": [
    "plot_res(df, 'nit', ylim=[0, 1000])"
   ]
  },
  {
   "cell_type": "code",
   "execution_count": null,
   "metadata": {},
   "outputs": [],
   "source": [
    "plot_res_grouped(df, 'nit', logy=True)"
   ]
  },
  {
   "cell_type": "markdown",
   "metadata": {},
   "source": [
    "### Log-likelihood"
   ]
  },
  {
   "cell_type": "code",
   "execution_count": null,
   "metadata": {},
   "outputs": [],
   "source": [
    "plot_res(df, 'fun', ylim=[-0.1, 1])"
   ]
  },
  {
   "cell_type": "code",
   "execution_count": null,
   "metadata": {},
   "outputs": [],
   "source": [
    "plot_res_grouped(df, 'fun', logy=True)"
   ]
  },
  {
   "cell_type": "code",
   "execution_count": null,
   "metadata": {},
   "outputs": [],
   "source": []
  }
 ],
 "metadata": {
  "kernelspec": {
   "display_name": "Python 3",
   "language": "python",
   "name": "python3"
  },
  "language_info": {
   "codemirror_mode": {
    "name": "ipython",
    "version": 3
   },
   "file_extension": ".py",
   "mimetype": "text/x-python",
   "name": "python",
   "nbconvert_exporter": "python",
   "pygments_lexer": "ipython3",
   "version": "3.7.6"
  },
  "toc": {
   "base_numbering": 1,
   "nav_menu": {},
   "number_sections": true,
   "sideBar": true,
   "skip_h1_title": false,
   "title_cell": "Table of Contents",
   "title_sidebar": "Contents",
   "toc_cell": false,
   "toc_position": {},
   "toc_section_display": true,
   "toc_window_display": false
  }
 },
 "nbformat": 4,
 "nbformat_minor": 4
}

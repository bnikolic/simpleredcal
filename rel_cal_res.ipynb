{
 "cells": [
  {
   "cell_type": "code",
   "execution_count": null,
   "metadata": {},
   "outputs": [],
   "source": [
    "import matplotlib\n",
    "import numpy as np\n",
    "import pandas as pd\n",
    "import pickle\n",
    "\n",
    "from fit_diagnostics import abs_residuals\n",
    "from plot_utils import plot_res, plot_res_grouped, plot_res_heatmap\n",
    "from red_likelihood import makeCArray\n",
    "from red_utils import find_rel_df, split_rel_results"
   ]
  },
  {
   "cell_type": "code",
   "execution_count": null,
   "metadata": {},
   "outputs": [],
   "source": [
    "%matplotlib inline"
   ]
  },
  {
   "cell_type": "code",
   "execution_count": null,
   "metadata": {},
   "outputs": [],
   "source": [
    "jd_time = 2458098.43869\n",
    "pol = 'ee'\n",
    "dist = 'cauchy'\n",
    "dir_path = '.'"
   ]
  },
  {
   "cell_type": "code",
   "execution_count": null,
   "metadata": {},
   "outputs": [],
   "source": [
    "rel_df = find_rel_df(jd_time, pol, dist, dir_path)"
   ]
  },
  {
   "cell_type": "code",
   "execution_count": null,
   "metadata": {},
   "outputs": [],
   "source": [
    "with open('rel_df.{}.{}.md.pkl'.format(jd_time, pol), 'rb') as f:\n",
    "    md = pickle.load(f)\n",
    "    \n",
    "df = pd.read_pickle(rel_df)\n",
    "df"
   ]
  },
  {
   "cell_type": "code",
   "execution_count": null,
   "metadata": {},
   "outputs": [],
   "source": [
    "# check results for a given frequency & time integration\n",
    "test_freq = 600\n",
    "test_tint = 0\n",
    "\n",
    "resx = df.loc[(test_freq, test_tint)][5:-2].values.astype(float)\n",
    "test_vis, test_gains = split_rel_results(resx, md['no_unq_bls'])\n",
    "test_amps = np.abs(test_gains)\n",
    "test_phases = np.angle(test_gains)\n",
    "mean_test_amps = np.mean(test_amps)\n",
    "mean_test_phases = np.mean(test_phases)\n",
    "\n",
    "print('Gain amplitude solutions for frequency channel {} and time integration {} are:\\n{}\\n'\\\n",
    "      .format(test_freq, test_tint, test_amps))\n",
    "print('Gain phase solutions are:\\n{}\\n'\\\n",
    "      .format(test_phases))\n",
    "print('Gain amplitude average is: {}'.format(mean_test_amps))\n",
    "print('Gain phase average is: {}'.format(mean_test_phases))"
   ]
  },
  {
   "cell_type": "code",
   "execution_count": null,
   "metadata": {},
   "outputs": [],
   "source": [
    "# success rate percentage\n",
    "success_pct = df['success'].sum() / df['success'].size * 100\n",
    "print('{}% of iterations (freq/tint slice) were succesful'.format(round(success_pct, 2)))"
   ]
  },
  {
   "cell_type": "markdown",
   "metadata": {},
   "source": [
    "### Number of iterations required"
   ]
  },
  {
   "cell_type": "code",
   "execution_count": null,
   "metadata": {},
   "outputs": [],
   "source": [
    "plot_res(df, 'nit', clip=True)"
   ]
  },
  {
   "cell_type": "code",
   "execution_count": null,
   "metadata": {},
   "outputs": [],
   "source": [
    "plot_res_grouped(df, 'nit', logy=True)"
   ]
  },
  {
   "cell_type": "code",
   "execution_count": null,
   "metadata": {},
   "outputs": [],
   "source": [
    "plot_res_heatmap(df, 'nit', clip=True)"
   ]
  },
  {
   "cell_type": "markdown",
   "metadata": {},
   "source": [
    "### Log-likelihood"
   ]
  },
  {
   "cell_type": "code",
   "execution_count": null,
   "metadata": {},
   "outputs": [],
   "source": [
    "plot_res(df, 'fun', clip=True)"
   ]
  },
  {
   "cell_type": "code",
   "execution_count": null,
   "metadata": {},
   "outputs": [],
   "source": [
    "plot_res_grouped(df, 'fun', logy=True)"
   ]
  },
  {
   "cell_type": "code",
   "execution_count": null,
   "metadata": {},
   "outputs": [],
   "source": [
    "plot_res_heatmap(df, 'fun', clip=True)"
   ]
  },
  {
   "cell_type": "markdown",
   "metadata": {},
   "source": [
    "### Residuals"
   ]
  },
  {
   "cell_type": "markdown",
   "metadata": {},
   "source": [
    "Look at both the real and imaginary of the the median absolute normalized residual"
   ]
  },
  {
   "cell_type": "code",
   "execution_count": null,
   "metadata": {},
   "outputs": [],
   "source": [
    "df[['med_abs_norm_res_Re', 'med_abs_norm_res_Im']] = df.apply(lambda row: \\\n",
    "pd.Series(abs_residuals(row['norm_residual'])), axis=1)"
   ]
  },
  {
   "cell_type": "code",
   "execution_count": null,
   "metadata": {},
   "outputs": [],
   "source": [
    "plot_res_heatmap(df, value='med_abs_norm_res_Re', clip=True)"
   ]
  },
  {
   "cell_type": "code",
   "execution_count": null,
   "metadata": {},
   "outputs": [],
   "source": [
    "plot_res_heatmap(df, value='med_abs_norm_res_Im', clip=True)"
   ]
  },
  {
   "cell_type": "markdown",
   "metadata": {},
   "source": [
    "### Stability of gains, visibility solutions and degenerate parameters"
   ]
  },
  {
   "cell_type": "markdown",
   "metadata": {},
   "source": [
    "#### Gains"
   ]
  },
  {
   "cell_type": "code",
   "execution_count": null,
   "metadata": {},
   "outputs": [],
   "source": [
    "no_ants = md['no_ants']\n",
    "no_resid_p = 4 # number of residual parameters in df dataframe\n",
    "gains_df = df.iloc[:, -no_ants*2-no_resid_p:-no_resid_p]\n",
    "\n",
    "gains_df['gamp_mean'] = gains_df.apply(lambda row: \\\n",
    "                        np.mean(np.abs(makeCArray(row[:no_ants*2].values))), \\\n",
    "                        axis=1)\n",
    "gains_df['gphase_mean'] = gains_df.apply(lambda row: \\\n",
    "                          np.mean(np.angle(makeCArray(row[:no_ants*2].values))), \\\n",
    "                          axis=1)"
   ]
  },
  {
   "cell_type": "code",
   "execution_count": null,
   "metadata": {},
   "outputs": [],
   "source": [
    "plot_res(gains_df, 'gamp_mean', ylim=(0, 2))"
   ]
  },
  {
   "cell_type": "code",
   "execution_count": null,
   "metadata": {},
   "outputs": [],
   "source": [
    "plot_res(gains_df, 'gphase_mean', ylim=(-np.pi, np.pi))"
   ]
  },
  {
   "cell_type": "markdown",
   "metadata": {},
   "source": [
    "#### Visibility solutions"
   ]
  },
  {
   "cell_type": "code",
   "execution_count": null,
   "metadata": {},
   "outputs": [],
   "source": [
    "no_unq_bls = md['no_unq_bls']\n",
    "no_min_p = 5 # number of columns in df that are attributes of the SciPy OptimizeResult \n",
    "vis_df = df.iloc[:, no_min_p:no_unq_bls*2+no_min_p]\n",
    "\n",
    "vis_df['vamp_mean'] = vis_df.apply(lambda row: \\\n",
    "                      np.mean(np.abs(makeCArray(row[:no_unq_bls*2].values))), \\\n",
    "                      axis=1)\n",
    "vis_df['vphase_mean'] = vis_df.apply(lambda row: \\\n",
    "                        np.mean(np.angle(makeCArray(row[:no_unq_bls*2].values))), \\\n",
    "                        axis=1)"
   ]
  },
  {
   "cell_type": "code",
   "execution_count": null,
   "metadata": {},
   "outputs": [],
   "source": [
    "plot_res(vis_df, 'vamp_mean', clip=True, clip_pctile=98)"
   ]
  },
  {
   "cell_type": "code",
   "execution_count": null,
   "metadata": {},
   "outputs": [],
   "source": [
    "plot_res(vis_df, 'vphase_mean', clip=False, ylim=(-np.pi, np.pi))"
   ]
  },
  {
   "cell_type": "code",
   "execution_count": null,
   "metadata": {},
   "outputs": [],
   "source": []
  }
 ],
 "metadata": {
  "kernelspec": {
   "display_name": "Python 3",
   "language": "python",
   "name": "python3"
  },
  "language_info": {
   "codemirror_mode": {
    "name": "ipython",
    "version": 3
   },
   "file_extension": ".py",
   "mimetype": "text/x-python",
   "name": "python",
   "nbconvert_exporter": "python",
   "pygments_lexer": "ipython3",
   "version": "3.7.6"
  },
  "toc": {
   "base_numbering": 1,
   "nav_menu": {},
   "number_sections": true,
   "sideBar": true,
   "skip_h1_title": false,
   "title_cell": "Table of Contents",
   "title_sidebar": "Contents",
   "toc_cell": false,
   "toc_position": {},
   "toc_section_display": true,
   "toc_window_display": false
  }
 },
 "nbformat": 4,
 "nbformat_minor": 4
}

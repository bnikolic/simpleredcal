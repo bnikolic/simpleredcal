{
 "cells": [
  {
   "cell_type": "code",
   "execution_count": null,
   "metadata": {},
   "outputs": [],
   "source": [
    "import matplotlib\n",
    "import numpy as np\n",
    "import pandas as pd\n",
    "import pickle\n",
    "import seaborn as sns\n",
    "from matplotlib import pyplot as plt\n",
    "from matplotlib import ticker\n",
    "from scipy.stats import circmean, circstd\n",
    "\n",
    "from fit_diagnostics import abs_residuals\n",
    "from plot_utils import antpos_map, plot_res, plot_res_grouped, plot_res_heatmap\n",
    "from red_utils import get_bad_ants, find_opt_df, flt_ant_coords, find_zen_file, \\\n",
    "split_rel_results"
   ]
  },
  {
   "cell_type": "code",
   "execution_count": null,
   "metadata": {},
   "outputs": [],
   "source": [
    "%matplotlib inline"
   ]
  },
  {
   "cell_type": "code",
   "execution_count": null,
   "metadata": {},
   "outputs": [],
   "source": [
    "jd_time = 2458098.43869\n",
    "pol = 'ee'\n",
    "dist = 'cauchy'\n",
    "dir_path = '.'"
   ]
  },
  {
   "cell_type": "code",
   "execution_count": null,
   "metadata": {},
   "outputs": [],
   "source": [
    "rel_df = find_opt_df(jd_time, pol, dist, dir_path)"
   ]
  },
  {
   "cell_type": "code",
   "execution_count": null,
   "metadata": {},
   "outputs": [],
   "source": [
    "with open('rel_df.{}.{}.md.pkl'.format(jd_time, pol), 'rb') as f:\n",
    "    md = pickle.load(f)\n",
    "    \n",
    "df = pd.read_pickle(rel_df)\n",
    "df"
   ]
  },
  {
   "cell_type": "code",
   "execution_count": null,
   "metadata": {},
   "outputs": [],
   "source": [
    "test_freq = 600\n",
    "test_tint = 0\n",
    "\n",
    "resx = df.loc[(test_freq, test_tint)][5:-2].values.astype(float)"
   ]
  },
  {
   "cell_type": "code",
   "execution_count": null,
   "metadata": {},
   "outputs": [],
   "source": [
    "# check results for a given frequency & time integration\n",
    "test_freq = 600\n",
    "test_tint = 0\n",
    "\n",
    "no_ants = md['no_ants']\n",
    "no_deg_params = 4\n",
    "resx = df.loc[(test_freq, test_tint)][5:-2].values.astype(float)\n",
    "test_gains_comps, test_deg_params, test_vis_comps = np.split(resx, [2*no_ants, \\\n",
    "                                                    2*no_ants+no_deg_params,])\n",
    "\n",
    "test_gamps = test_gains_comps[::2]\n",
    "test_gphases = test_gains_comps[1::2]\n",
    "mean_test_amps = np.mean(test_gamps)\n",
    "mean_test_phases = np.mean(test_gphases)\n",
    "\n",
    "print('Gain amplitude average is: {}'.format(mean_test_amps))\n",
    "print('Gain phase average is: {}'.format(mean_test_phases))"
   ]
  },
  {
   "cell_type": "code",
   "execution_count": null,
   "metadata": {},
   "outputs": [],
   "source": [
    "antpos = flt_ant_coords(jd_time, md['antpos'])"
   ]
  },
  {
   "cell_type": "code",
   "execution_count": null,
   "metadata": {},
   "outputs": [],
   "source": [
    "antpos_map(test_gamps, antpos, 'Gain amplitudes', center=1)\n",
    "print('Gain amplitude solutions for frequency channel {} and time integration {} are: '\\\n",
    "      '\\n{}'.format(test_freq, test_tint, test_gamps))"
   ]
  },
  {
   "cell_type": "code",
   "execution_count": null,
   "metadata": {},
   "outputs": [],
   "source": [
    "antpos_map(test_gphases, antpos, 'Gain phases', center=0)\n",
    "print('Gain phase solutions are:\\n{}'.format(test_gphases))"
   ]
  },
  {
   "cell_type": "code",
   "execution_count": null,
   "metadata": {},
   "outputs": [],
   "source": [
    "# success rate percentage\n",
    "success_pct = df['success'].sum() / df['success'].size * 100\n",
    "print('{}% of iterations (freq/tint slice) were succesful'.format(round(success_pct, 2)))"
   ]
  },
  {
   "cell_type": "markdown",
   "metadata": {},
   "source": [
    "### Number of iterations required"
   ]
  },
  {
   "cell_type": "code",
   "execution_count": null,
   "metadata": {},
   "outputs": [],
   "source": [
    "plot_res(df, 'nit', clip=True)"
   ]
  },
  {
   "cell_type": "code",
   "execution_count": null,
   "metadata": {},
   "outputs": [],
   "source": [
    "plot_res_grouped(df, 'nit', logy=True)"
   ]
  },
  {
   "cell_type": "code",
   "execution_count": null,
   "metadata": {},
   "outputs": [],
   "source": [
    "plot_res_heatmap(df, 'nit', clip=True)"
   ]
  },
  {
   "cell_type": "markdown",
   "metadata": {},
   "source": [
    "### Log-likelihood"
   ]
  },
  {
   "cell_type": "code",
   "execution_count": null,
   "metadata": {},
   "outputs": [],
   "source": [
    "plot_res(df, 'fun', clip=True, clip_pctile=97)"
   ]
  },
  {
   "cell_type": "code",
   "execution_count": null,
   "metadata": {},
   "outputs": [],
   "source": [
    "plot_res_grouped(df, 'fun', logy=True)"
   ]
  },
  {
   "cell_type": "code",
   "execution_count": null,
   "metadata": {},
   "outputs": [],
   "source": [
    "%run plot_utils.py\n",
    "plot_res_heatmap(df, 'fun', clip=True)"
   ]
  },
  {
   "cell_type": "code",
   "execution_count": null,
   "metadata": {},
   "outputs": [],
   "source": [
    "numpy.arange(50, 702, 50)"
   ]
  },
  {
   "cell_type": "markdown",
   "metadata": {},
   "source": [
    "### Residuals"
   ]
  },
  {
   "cell_type": "markdown",
   "metadata": {},
   "source": [
    "Look at both the real and imaginary of the the median absolute normalized residual"
   ]
  },
  {
   "cell_type": "code",
   "execution_count": null,
   "metadata": {},
   "outputs": [],
   "source": [
    "df[['med_abs_norm_res_Re', 'med_abs_norm_res_Im']] = df.apply(lambda row: \\\n",
    "pd.Series(abs_residuals(row['norm_residual'])), axis=1)"
   ]
  },
  {
   "cell_type": "code",
   "execution_count": null,
   "metadata": {},
   "outputs": [],
   "source": [
    "plot_res_heatmap(df, 'med_abs_norm_res_Re', clip=True, clip_pctile=97)"
   ]
  },
  {
   "cell_type": "code",
   "execution_count": null,
   "metadata": {},
   "outputs": [],
   "source": [
    "plot_res_heatmap(df, 'med_abs_norm_res_Im', clip=True, clip_pctile=97)"
   ]
  },
  {
   "cell_type": "markdown",
   "metadata": {},
   "source": [
    "### Stability of gains, visibility solutions and degenerate parameters"
   ]
  },
  {
   "cell_type": "markdown",
   "metadata": {},
   "source": [
    "#### Gains"
   ]
  },
  {
   "cell_type": "code",
   "execution_count": null,
   "metadata": {},
   "outputs": [],
   "source": [
    "gains_df = df.iloc[:, 5:2*no_ants+5]\n",
    "\n",
    "gains_df['gamp_mean'] = gains_df.apply(lambda row: np.mean(row[:2*no_ants:2]), axis=1)\n",
    "gains_df['gphase_mean'] = gains_df.apply(lambda row: np.mean(row[1:2*no_ants:2]), axis=1)"
   ]
  },
  {
   "cell_type": "code",
   "execution_count": null,
   "metadata": {},
   "outputs": [],
   "source": [
    "plot_res(gains_df, 'gamp_mean', ylim=(0.9, 1.1), \\\n",
    "         title='Average gain amplitude for each frequency and time integration slice')"
   ]
  },
  {
   "cell_type": "code",
   "execution_count": null,
   "metadata": {},
   "outputs": [],
   "source": [
    "# average gain phase for each frequency and time slice\n",
    "plot_res(gains_df, 'gphase_mean', ylim=(-np.pi, np.pi), \\\n",
    "        title='Average gain amplitude for each frequency and time integration  slice')"
   ]
  },
  {
   "cell_type": "markdown",
   "metadata": {
    "variables": {
     "test_freq": "600"
    }
   },
   "source": [
    "##### Gain stability at test_freq {{test_freq}}"
   ]
  },
  {
   "cell_type": "code",
   "execution_count": null,
   "metadata": {},
   "outputs": [],
   "source": [
    "gamps_df = gains_df.iloc[:, :2*no_ants:2]\n",
    "gphases_df = gains_df.iloc[:, 1:2*no_ants:2]\n",
    "gamps_df.columns = np.arange(no_ants) + 1\n",
    "gphases_df.columns = gamps_df.columns"
   ]
  },
  {
   "cell_type": "code",
   "execution_count": null,
   "metadata": {},
   "outputs": [],
   "source": [
    "fig, ax = plt.subplots(figsize=(11, 7))\n",
    "ax = sns.heatmap(gamps_df.loc[test_freq, :])\n",
    "ax.yaxis.set_major_locator(ticker.MultipleLocator(5))\n",
    "ax.yaxis.set_major_formatter(ticker.ScalarFormatter())\n",
    "ax.set_title('Gain amplitudes for frequency channel {}'.format(test_freq))\n",
    "plt.tight_layout()"
   ]
  },
  {
   "cell_type": "code",
   "execution_count": null,
   "metadata": {},
   "outputs": [],
   "source": [
    "fig, ax = plt.subplots(figsize=(11, 7))\n",
    "ax = sns.heatmap(gphases_df.loc[test_freq, :])\n",
    "ax.yaxis.set_major_locator(ticker.MultipleLocator(5))\n",
    "ax.yaxis.set_major_formatter(ticker.ScalarFormatter())\n",
    "ax.set_title('Gain phases for frequency channel {}'.format(test_freq))\n",
    "plt.tight_layout()"
   ]
  },
  {
   "cell_type": "markdown",
   "metadata": {},
   "source": [
    "##### Gain stability across average over frequency channels 600-700"
   ]
  },
  {
   "cell_type": "code",
   "execution_count": null,
   "metadata": {},
   "outputs": [],
   "source": [
    "std_rng = 3\n",
    "chan_start = 600\n",
    "chan_end = 700\n",
    "\n",
    "fig, ax = plt.subplots(figsize=(11, 7))\n",
    "# mean over the time integrations for each frequency\n",
    "avg_gamps_tint = gamps_df.loc[pd.IndexSlice[chan_start:chan_end, :], :].groupby(level=0).mean()\n",
    "piv = pd.pivot_table(avg_gamps_tint, columns='freq')\n",
    "vrng = np.ceil(np.std(piv.values)*std_rng*10)/10\n",
    "ax = sns.heatmap(piv, center=1, cmap='bwr', vmin=1-vrng, vmax=1+vrng)\n",
    "ax.yaxis.set_major_locator(ticker.MultipleLocator(5))\n",
    "ax.yaxis.set_major_formatter(ticker.ScalarFormatter())\n",
    "ax.set_title('Mean (over time integrations) gain amplitudes')\n",
    "plt.tight_layout()"
   ]
  },
  {
   "cell_type": "code",
   "execution_count": null,
   "metadata": {},
   "outputs": [],
   "source": [
    "center = 0\n",
    "fig, ax = plt.subplots(figsize=(11, 7))\n",
    "# circular mean over the time integrations for each frequency\n",
    "# circ_res = avg_gphases_tint.apply(lambda x: circmean(x, axis=0))\n",
    "# avg_gphases_tint = pd.DataFrame(circ_res.values.tolist(), index=circ_res.index)\n",
    "avg_gphases_tint = gphases_df.loc[pd.IndexSlice[chan_start:chan_end, :], :].groupby(level=0).mean()\n",
    "piv = pd.pivot_table(avg_gphases_tint, columns='freq')\n",
    "vrng = np.ceil(np.std(piv.values)*std_rng*10)/10\n",
    "ax = sns.heatmap(piv, center=center, cmap='bwr', vmin=center-vrng, vmax=center+vrng)\n",
    "ax.yaxis.set_major_locator(ticker.MultipleLocator(5))\n",
    "ax.yaxis.set_major_formatter(ticker.ScalarFormatter())\n",
    "ax.set_title('Mean (over time integrations) gain amplitudes')\n",
    "plt.tight_layout()"
   ]
  },
  {
   "cell_type": "markdown",
   "metadata": {},
   "source": [
    "##### Average gains across frequency channels 600-700 and all time integrations"
   ]
  },
  {
   "cell_type": "code",
   "execution_count": null,
   "metadata": {},
   "outputs": [],
   "source": [
    "avg_gain_comps = gains_df.loc[pd.IndexSlice[chan_start:chan_end, :], :].mean(axis=0).values[:2*no_ants]\n",
    "avg_gamps = avg_gain_comps[::2]\n",
    "avg_gphases = avg_gain_comps[1::2]"
   ]
  },
  {
   "cell_type": "code",
   "execution_count": null,
   "metadata": {},
   "outputs": [],
   "source": [
    "antpos_map(avg_gamps, antpos, 'Average gain amplitudes', center=1)"
   ]
  },
  {
   "cell_type": "code",
   "execution_count": null,
   "metadata": {},
   "outputs": [],
   "source": [
    "antpos_map(avg_gphases, antpos, 'Average gain phases', center=0)"
   ]
  },
  {
   "cell_type": "markdown",
   "metadata": {},
   "source": [
    "##### Standard deviation of gains across frequency channels 600-700 and all time integrations"
   ]
  },
  {
   "cell_type": "code",
   "execution_count": null,
   "metadata": {},
   "outputs": [],
   "source": [
    "avg_gain_comps = gains_df.loc[pd.IndexSlice[chan_start:chan_end, :], :].std(axis=0).values[:2*no_ants]\n",
    "std_gamps = avg_gain_comps[::2]\n",
    "std_gphases = avg_gain_comps[1::2]\n",
    "circ_std_gphases = gains_df.iloc[:, 1:2*no_ants:2].apply(lambda col: circstd(col), \\\n",
    "                                                         axis=0).values"
   ]
  },
  {
   "cell_type": "code",
   "execution_count": null,
   "metadata": {},
   "outputs": [],
   "source": [
    "antpos_map(avg_gamps, antpos, 'Standard deviation of gain amplitudes', cmap='Oranges')"
   ]
  },
  {
   "cell_type": "code",
   "execution_count": null,
   "metadata": {},
   "outputs": [],
   "source": [
    "antpos_map(circ_std_gphases, antpos, 'Circular standard deviation of gain phases', \\\n",
    "           cmap='Oranges')"
   ]
  },
  {
   "cell_type": "markdown",
   "metadata": {},
   "source": [
    "#### Visibility solutions"
   ]
  },
  {
   "cell_type": "code",
   "execution_count": null,
   "metadata": {},
   "outputs": [],
   "source": [
    "no_resid_p = 4 # number of residual parameters in df dataframe\n",
    "no_min_p = 5 # number of columns in df that are attributes of the SciPy OptimizeResult \n",
    "vis_df = df.iloc[:, 2*no_ants+no_min_p+no_deg_params:-no_resid_p]\n",
    "\n",
    "no_unq_bls = md['no_unq_bls']\n",
    "vis_df['vamp_mean'] = vis_df.apply(lambda row: np.mean(row[:2*no_unq_bls:2]), axis=1)\n",
    "vis_df['vphase_mean'] = vis_df.apply(lambda row: np.mean(row[1:2*no_unq_bls:2]), \\\n",
    "                                     axis=1)"
   ]
  },
  {
   "cell_type": "code",
   "execution_count": null,
   "metadata": {},
   "outputs": [],
   "source": [
    "plot_res(vis_df, 'vamp_mean', ylim=(-0.01, 0.01))"
   ]
  },
  {
   "cell_type": "code",
   "execution_count": null,
   "metadata": {},
   "outputs": [],
   "source": [
    "plot_res_heatmap(vis_df, 'vamp_mean', clip=True, clip_pctile=97)"
   ]
  },
  {
   "cell_type": "code",
   "execution_count": null,
   "metadata": {},
   "outputs": [],
   "source": [
    "plot_res_heatmap(vis_df, 'vamp_mean', vmax=0.01, vmin=-0.01)"
   ]
  },
  {
   "cell_type": "code",
   "execution_count": null,
   "metadata": {},
   "outputs": [],
   "source": [
    "plot_res(vis_df, 'vphase_mean', ylim=(-np.pi, np.pi))"
   ]
  },
  {
   "cell_type": "markdown",
   "metadata": {
    "variables": {
     "test_tint": "0"
    }
   },
   "source": [
    "##### Visibilities across baselines at test_integration {{test_tint}}"
   ]
  },
  {
   "cell_type": "code",
   "execution_count": null,
   "metadata": {},
   "outputs": [],
   "source": [
    "visC_df = vis_df.iloc[:, :-2]\n",
    "visC_tint_df = visC_df.loc[pd.IndexSlice[:, test_tint], :].droplevel(level=1)\n",
    "visamp_tint_df = visC_tint_df.iloc[:, ::2]\n",
    "visphase_tint_df = visC_tint_df.iloc[:, 1::2]\n",
    "visamp_tint_df.columns = np.arange(no_unq_bls)\n",
    "visphase_tint_df.columns = visamp_tint_df.columns"
   ]
  },
  {
   "cell_type": "code",
   "execution_count": null,
   "metadata": {},
   "outputs": [],
   "source": [
    "fig, ax = plt.subplots(figsize=(11, 7))\n",
    "piv = pd.pivot_table(visamp_tint_df, columns='freq')\n",
    "vmax = np.nanpercentile(piv.values, 99)\n",
    "vmin = np.nanpercentile(piv.values, 1)\n",
    "ax = sns.heatmap(piv, vmax=vmax, vmin=vmin)\n",
    "ax.xaxis.set_major_locator(ticker.MultipleLocator(50))\n",
    "ax.xaxis.set_major_formatter(ticker.ScalarFormatter(useOffset=-50))\n",
    "ax.yaxis.set_major_locator(ticker.MultipleLocator(5))\n",
    "ax.yaxis.set_major_formatter(ticker.ScalarFormatter())\n",
    "ax.set_title('Visibility amplitudes for time_integration {}'.format(test_tint))\n",
    "plt.tight_layout()"
   ]
  },
  {
   "cell_type": "code",
   "execution_count": null,
   "metadata": {},
   "outputs": [],
   "source": [
    "fig, ax = plt.subplots(figsize=(11, 7))\n",
    "piv = pd.pivot_table(visphase_tint_df, columns='freq')\n",
    "vmax = np.nanpercentile(piv.values, 99)\n",
    "vmin = np.nanpercentile(piv.values, 1)\n",
    "ax = sns.heatmap(piv, center=0, cmap='bwr', vmax=vmax, vmin=vmin)\n",
    "ax.xaxis.set_major_locator(ticker.MultipleLocator(50))\n",
    "ax.xaxis.set_major_formatter(ticker.ScalarFormatter(useOffset=-50))\n",
    "ax.yaxis.set_major_locator(ticker.MultipleLocator(5))\n",
    "ax.yaxis.set_major_formatter(ticker.ScalarFormatter())\n",
    "ax.set_title('Visibility phases for time_integration {}'.format(test_tint))\n",
    "plt.tight_layout()"
   ]
  },
  {
   "cell_type": "markdown",
   "metadata": {},
   "source": [
    "#### Degenerate parameters"
   ]
  },
  {
   "cell_type": "code",
   "execution_count": null,
   "metadata": {},
   "outputs": [],
   "source": [
    "degp_df = df.iloc[:, 2*no_ants+no_min_p:2*no_ants+no_min_p+no_deg_params]\n",
    "degp_df.columns = ['overall_amp', 'overall_phase', 'phase_grad_x', 'phase_grad_y']"
   ]
  },
  {
   "cell_type": "code",
   "execution_count": null,
   "metadata": {},
   "outputs": [],
   "source": [
    "plot_res(degp_df, 'overall_amp')"
   ]
  },
  {
   "cell_type": "code",
   "execution_count": null,
   "metadata": {},
   "outputs": [],
   "source": [
    "plot_res_heatmap(degp_df, 'overall_amp', cmap='bwr', vmin=0.9, vmax=1.1,\\\n",
    "                 center=1)"
   ]
  },
  {
   "cell_type": "code",
   "execution_count": null,
   "metadata": {},
   "outputs": [],
   "source": [
    "plot_res(degp_df, 'phase_grad_x', clip=True, clip_pctile=97)"
   ]
  },
  {
   "cell_type": "code",
   "execution_count": null,
   "metadata": {},
   "outputs": [],
   "source": [
    "plot_res_heatmap(degp_df, 'phase_grad_x', clip=True, clip_pctile=96)"
   ]
  },
  {
   "cell_type": "code",
   "execution_count": null,
   "metadata": {},
   "outputs": [],
   "source": [
    "plot_res(degp_df, 'phase_grad_y', clip=True, clip_pctile=97)"
   ]
  },
  {
   "cell_type": "code",
   "execution_count": null,
   "metadata": {},
   "outputs": [],
   "source": [
    "plot_res_heatmap(degp_df, 'phase_grad_y', cmap='bwr', center=0, clip=True, clip_pctile=96)"
   ]
  },
  {
   "cell_type": "code",
   "execution_count": null,
   "metadata": {},
   "outputs": [],
   "source": []
  }
 ],
 "metadata": {
  "kernelspec": {
   "display_name": "Python 3",
   "language": "python",
   "name": "python3"
  },
  "language_info": {
   "codemirror_mode": {
    "name": "ipython",
    "version": 3
   },
   "file_extension": ".py",
   "mimetype": "text/x-python",
   "name": "python",
   "nbconvert_exporter": "python",
   "pygments_lexer": "ipython3",
   "version": "3.7.6"
  },
  "toc": {
   "base_numbering": 1,
   "nav_menu": {},
   "number_sections": true,
   "sideBar": true,
   "skip_h1_title": false,
   "title_cell": "Table of Contents",
   "title_sidebar": "Contents",
   "toc_cell": false,
   "toc_position": {},
   "toc_section_display": true,
   "toc_window_display": false
  }
 },
 "nbformat": 4,
 "nbformat_minor": 4
}

{
 "cells": [
  {
   "cell_type": "code",
   "execution_count": null,
   "metadata": {},
   "outputs": [],
   "source": [
    "import matplotlib\n",
    "import numpy as np\n",
    "import pandas as pd\n",
    "import pickle\n",
    "\n",
    "from fit_diagnostics import abs_residuals\n",
    "from plot_utils import plot_res, plot_res_grouped, plot_res_heatmap\n",
    "from red_utils import find_opt_df, split_rel_results"
   ]
  },
  {
   "cell_type": "code",
   "execution_count": null,
   "metadata": {},
   "outputs": [],
   "source": [
    "%matplotlib inline"
   ]
  },
  {
   "cell_type": "code",
   "execution_count": null,
   "metadata": {},
   "outputs": [],
   "source": [
    "jd_time = 2458098.43869\n",
    "pol = 'ee'\n",
    "dist = 'cauchy'\n",
    "dir_path = '.'"
   ]
  },
  {
   "cell_type": "code",
   "execution_count": null,
   "metadata": {},
   "outputs": [],
   "source": [
    "rel_df = find_opt_df(jd_time, pol, dist, dir_path)"
   ]
  },
  {
   "cell_type": "code",
   "execution_count": null,
   "metadata": {},
   "outputs": [],
   "source": [
    "with open('rel_df.{}.{}.md.pkl'.format(jd_time, pol), 'rb') as f:\n",
    "    md = pickle.load(f)\n",
    "    \n",
    "df = pd.read_pickle(rel_df)\n",
    "df"
   ]
  },
  {
   "cell_type": "code",
   "execution_count": null,
   "metadata": {},
   "outputs": [],
   "source": [
    "test_freq = 600\n",
    "test_tint = 0\n",
    "\n",
    "resx = df.loc[(test_freq, test_tint)][5:-2].values.astype(float)"
   ]
  },
  {
   "cell_type": "code",
   "execution_count": null,
   "metadata": {},
   "outputs": [],
   "source": [
    "# check results for a given frequency & time integration\n",
    "test_freq = 600\n",
    "test_tint = 0\n",
    "\n",
    "no_ants = md['no_ants']\n",
    "no_deg_params = 4\n",
    "resx = df.loc[(test_freq, test_tint)][5:-2].values.astype(float)\n",
    "test_gains_comps, test_deg_params, test_vis_comps = np.split(resx, [2*no_ants, \\\n",
    "                                                        2*no_ants+no_deg_params,])\n",
    "\n",
    "test_gamps = test_gains_comps[::2]\n",
    "test_gphases = test_gains_comps[1::2]\n",
    "mean_test_amps = np.mean(test_gamps)\n",
    "mean_test_phases = np.mean(test_gphases)\n",
    "\n",
    "print('Gain amplitude solutions for frequency channel {} and time integration {} are:\\n{}\\n'\\\n",
    "      .format(test_freq, test_tint, test_gamps))\n",
    "print('Gain phase solutions are:\\n{}\\n'\\\n",
    "      .format(test_gphases))\n",
    "print('Gain amplitude average is: {}'.format(mean_test_amps))\n",
    "print('Gain phase average is: {}'.format(mean_test_phases))"
   ]
  },
  {
   "cell_type": "code",
   "execution_count": null,
   "metadata": {},
   "outputs": [],
   "source": [
    "# success rate percentage\n",
    "success_pct = df['success'].sum() / df['success'].size * 100\n",
    "print('{}% of iterations (freq/tint slice) were succesful'.format(round(success_pct, 2)))"
   ]
  },
  {
   "cell_type": "markdown",
   "metadata": {},
   "source": [
    "### Number of iterations required"
   ]
  },
  {
   "cell_type": "code",
   "execution_count": null,
   "metadata": {},
   "outputs": [],
   "source": [
    "plot_res(df, 'nit', clip=True)"
   ]
  },
  {
   "cell_type": "code",
   "execution_count": null,
   "metadata": {},
   "outputs": [],
   "source": [
    "plot_res_grouped(df, 'nit', logy=True)"
   ]
  },
  {
   "cell_type": "code",
   "execution_count": null,
   "metadata": {},
   "outputs": [],
   "source": [
    "plot_res_heatmap(df, 'nit', clip=True)"
   ]
  },
  {
   "cell_type": "markdown",
   "metadata": {},
   "source": [
    "### Log-likelihood"
   ]
  },
  {
   "cell_type": "code",
   "execution_count": null,
   "metadata": {},
   "outputs": [],
   "source": [
    "plot_res(df, 'fun', clip=True)"
   ]
  },
  {
   "cell_type": "code",
   "execution_count": null,
   "metadata": {},
   "outputs": [],
   "source": [
    "plot_res_grouped(df, 'fun', logy=True)"
   ]
  },
  {
   "cell_type": "code",
   "execution_count": null,
   "metadata": {},
   "outputs": [],
   "source": [
    "plot_res_heatmap(df, 'fun', clip=True)"
   ]
  },
  {
   "cell_type": "markdown",
   "metadata": {},
   "source": [
    "### Residuals"
   ]
  },
  {
   "cell_type": "markdown",
   "metadata": {},
   "source": [
    "Look at both the real and imaginary of the the median absolute normalized residual"
   ]
  },
  {
   "cell_type": "code",
   "execution_count": null,
   "metadata": {},
   "outputs": [],
   "source": [
    "df[['med_abs_norm_res_Re', 'med_abs_norm_res_Im']] = df.apply(lambda row: \\\n",
    "pd.Series(abs_residuals(row['norm_residual'])), axis=1)"
   ]
  },
  {
   "cell_type": "code",
   "execution_count": null,
   "metadata": {},
   "outputs": [],
   "source": [
    "plot_res_heatmap(df, value='med_abs_norm_res_Re', clip=True)"
   ]
  },
  {
   "cell_type": "code",
   "execution_count": null,
   "metadata": {},
   "outputs": [],
   "source": [
    "plot_res_heatmap(df, value='med_abs_norm_res_Im', clip=True)"
   ]
  },
  {
   "cell_type": "markdown",
   "metadata": {},
   "source": [
    "### Stability of gains, visibility solutions and degenerate parameters"
   ]
  },
  {
   "cell_type": "markdown",
   "metadata": {},
   "source": [
    "#### Gains"
   ]
  },
  {
   "cell_type": "code",
   "execution_count": null,
   "metadata": {},
   "outputs": [],
   "source": [
    "gains_df = df.iloc[:, 5:2*no_ants+5]\n",
    "\n",
    "gains_df['gamp_mean'] = gains_df.apply(lambda row: np.mean(row[:2*no_ants:2]), axis=1)\n",
    "gains_df['gphase_mean'] = gains_df.apply(lambda row: np.mean(row[1:2*no_ants:2]), axis=1)"
   ]
  },
  {
   "cell_type": "code",
   "execution_count": null,
   "metadata": {},
   "outputs": [],
   "source": [
    "plot_res(gains_df, 'gamp_mean', ylim=(0.9, 1.1))"
   ]
  },
  {
   "cell_type": "code",
   "execution_count": null,
   "metadata": {},
   "outputs": [],
   "source": [
    "plot_res(gains_df, 'gphase_mean', ylim=(-np.pi, np.pi))"
   ]
  },
  {
   "cell_type": "markdown",
   "metadata": {},
   "source": [
    "#### Visibility solutions"
   ]
  },
  {
   "cell_type": "code",
   "execution_count": null,
   "metadata": {},
   "outputs": [],
   "source": [
    "no_resid_p = 4 # number of residual parameters in df dataframe\n",
    "no_min_p = 5 # number of columns in df that are attributes of the SciPy OptimizeResult \n",
    "vis_df = df.iloc[:, 2*no_ants+no_min_p+no_deg_params:-no_resid_p]\n",
    "\n",
    "no_unq_bls = md['no_unq_bls']\n",
    "vis_df['vamp_mean'] = vis_df.apply(lambda row: np.mean(row[:2*no_unq_bls:2]), axis=1)\n",
    "vis_df['vphase_mean'] = vis_df.apply(lambda row: np.mean(row[1:2*no_unq_bls:2]), \\\n",
    "                                     axis=1)"
   ]
  },
  {
   "cell_type": "code",
   "execution_count": null,
   "metadata": {},
   "outputs": [],
   "source": [
    "plot_res(vis_df, 'vamp_mean', ylim=(-0.01, 0.01))"
   ]
  },
  {
   "cell_type": "code",
   "execution_count": null,
   "metadata": {},
   "outputs": [],
   "source": [
    "plot_res_heatmap(vis_df, value='vamp_mean', vmax=0.01, vmin=-0.01)"
   ]
  },
  {
   "cell_type": "code",
   "execution_count": null,
   "metadata": {},
   "outputs": [],
   "source": [
    "plot_res(vis_df, 'vphase_mean', ylim=(-np.pi, np.pi))"
   ]
  },
  {
   "cell_type": "markdown",
   "metadata": {},
   "source": [
    "#### Degenerate parameters"
   ]
  },
  {
   "cell_type": "code",
   "execution_count": null,
   "metadata": {},
   "outputs": [],
   "source": [
    "degp_df = df.iloc[:, 2*no_ants+no_min_p:2*no_ants+no_min_p+no_deg_params]\n",
    "degp_df.columns = ['overall_amp', 'overall_phase', 'phase_grad_x', 'phase_grad_y']"
   ]
  },
  {
   "cell_type": "code",
   "execution_count": null,
   "metadata": {},
   "outputs": [],
   "source": [
    "plot_res(degp_df, 'overall_amp')"
   ]
  },
  {
   "cell_type": "code",
   "execution_count": null,
   "metadata": {},
   "outputs": [],
   "source": [
    "plot_res_heatmap(degp_df, value='overall_amp', center=1, cmap='bwr', vmin=0.9, vmax=1.1)"
   ]
  },
  {
   "cell_type": "code",
   "execution_count": null,
   "metadata": {},
   "outputs": [],
   "source": [
    "plot_res(degp_df, 'phase_grad_x')"
   ]
  },
  {
   "cell_type": "code",
   "execution_count": null,
   "metadata": {},
   "outputs": [],
   "source": [
    "plot_res_heatmap(degp_df, value='phase_grad_x')"
   ]
  },
  {
   "cell_type": "code",
   "execution_count": null,
   "metadata": {},
   "outputs": [],
   "source": [
    "plot_res(degp_df, 'phase_grad_y')"
   ]
  },
  {
   "cell_type": "code",
   "execution_count": null,
   "metadata": {},
   "outputs": [],
   "source": [
    "plot_res_heatmap(degp_df, value='phase_grad_y', cmap='bwr', center=0)"
   ]
  },
  {
   "cell_type": "code",
   "execution_count": null,
   "metadata": {},
   "outputs": [],
   "source": []
  }
 ],
 "metadata": {
  "kernelspec": {
   "display_name": "Python 3",
   "language": "python",
   "name": "python3"
  },
  "language_info": {
   "codemirror_mode": {
    "name": "ipython",
    "version": 3
   },
   "file_extension": ".py",
   "mimetype": "text/x-python",
   "name": "python",
   "nbconvert_exporter": "python",
   "pygments_lexer": "ipython3",
   "version": "3.7.6"
  },
  "toc": {
   "base_numbering": 1,
   "nav_menu": {},
   "number_sections": true,
   "sideBar": true,
   "skip_h1_title": false,
   "title_cell": "Table of Contents",
   "title_sidebar": "Contents",
   "toc_cell": false,
   "toc_position": {},
   "toc_section_display": true,
   "toc_window_display": false
  }
 },
 "nbformat": 4,
 "nbformat_minor": 4
}

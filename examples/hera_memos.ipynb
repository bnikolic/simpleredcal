{
 "cells": [
  {
   "cell_type": "markdown",
   "metadata": {},
   "source": [
    "## JAX Memo Code"
   ]
  },
  {
   "cell_type": "markdown",
   "metadata": {},
   "source": [
    "Example code in §2.3 of [HERA Memorandum #84](http://reionization.org/wp-content/uploads/2013/03/HERA084__A_Generalized_Approach_to_Redundant_Calibration_with_JAX.pdf), which uses the [JAX](https://github.com/google/jax) library."
   ]
  },
  {
   "cell_type": "code",
   "execution_count": null,
   "metadata": {},
   "outputs": [],
   "source": [
    "from jax import numpy as jnp\n",
    "from simpleredcal.red_likelihood import doRelCal, group_data, relabelAnts\n",
    "from simpleredcal.red_utils import find_flag_file, find_zen_file, \\\n",
    "get_bad_ants"
   ]
  },
  {
   "cell_type": "code",
   "execution_count": null,
   "metadata": {},
   "outputs": [],
   "source": [
    "# Select dataset to calibrate\n",
    "JD = 2458098.43869\n",
    "zen_fn = find_zen_file(JD)  # find path of dataset\n",
    "bad_ants = get_bad_ants(zen_fn)  # get bad antennas from commissioning\n",
    "flags_fn = find_flag_file(JD, 'first')  # import flags from firstcal\n",
    "\n",
    "# Load dataset from uvh5 file to numpy array, with flagging applied\n",
    "hdraw, RedG, cMData = group_data(zen_fn, pol='ee', chans=605, tints=0, \\\n",
    "                                 bad_ants=bad_ants, flag_path=flags_fn)\n",
    "# 0 out of 741 data points flagged for visibility dataset \n",
    "# zen.2458098.43869.HH.uvh5\n",
    "\n",
    "cData = jnp.squeeze(cMData.filled())  # filled with nans for flags\n",
    "no_ants = jnp.unique(RedG[:, 1:]).size  # number of antennas\n",
    "no_unq_bls = jnp.unique(RedG[:, 0]).size  # number of redundant baselines\n",
    "cRedG = relabelAnts(RedG)  # relabel antennas with consecutive numbering"
   ]
  },
  {
   "cell_type": "code",
   "execution_count": null,
   "metadata": {},
   "outputs": [],
   "source": [
    "res_rel = doRelCal(cRedG, cData, no_unq_bls, no_ants, distribution='cauchy', \\\n",
    "                   coords='cartesian', bounded=False, norm_gains=True)\n",
    "# Optimization terminated successfully."
   ]
  },
  {
   "cell_type": "code",
   "execution_count": null,
   "metadata": {},
   "outputs": [],
   "source": [
    "# from jax import jit\n",
    "\n",
    "# ff = jit(functools.partial(relative_logLkl, credg, distribution, obsvis, \\\n",
    "#                            no_unq_bls, coords))"
   ]
  },
  {
   "cell_type": "code",
   "execution_count": null,
   "metadata": {},
   "outputs": [],
   "source": [
    "# from jax import jacfwd, jacrev\n",
    "\n",
    "# jac = jacrev(ff)  # Jacobian; rev-mode faster for fewer outputs than \n",
    "# inputs\n",
    "# hess = jacfwd(jacrev(ff))  # Hessian; fwrd-over-rev is more efficient\n",
    "\n",
    "# res = minimize(ff, initp, bounds=bounds, method=method, \\\n",
    "#                jac=jac, hess=hess, options={'maxiter':max_nit})"
   ]
  },
  {
   "cell_type": "markdown",
   "metadata": {},
   "source": [
    "## Deg Memo Code"
   ]
  },
  {
   "cell_type": "markdown",
   "metadata": {},
   "source": [
    "Fully worked example in §3.1 of [HERA Memorandum #94](http://reionization.org/manual_uploads/HERA094__Comparing_Visibility_Solutions_from_Relative_Redundant_Calibration_by_Degenerate_Translation.pdf)."
   ]
  },
  {
   "cell_type": "code",
   "execution_count": null,
   "metadata": {},
   "outputs": [],
   "source": [
    "from hera_cal.io import HERAData\n",
    "from jax import numpy as jnp\n",
    "from simpleredcal.red_likelihood import doDegVisVis, doRelCal, group_data, \\\n",
    "red_ant_sep, relabelAnts, split_rel_results\n",
    "from simpleredcal.red_utils import find_flag_file, find_nearest, find_zen_file, \\\n",
    "get_bad_ants, match_lst"
   ]
  },
  {
   "cell_type": "code",
   "execution_count": null,
   "metadata": {},
   "outputs": [],
   "source": [
    "# Select 1st dataset to relatively calibrate\n",
    "JD1 = 2458098.43869\n",
    "chan = 605  # frequency channel\n",
    "time_int1 = 0  # time integration of 1st dataset\n",
    "noise_dist = 'gaussian'  # assumed noise distribution\n",
    "coords = 'cartesian'  # parameter coordinate system\n",
    "\n",
    "zen_fn1 = find_zen_file(JD1)  # find path of dataset\n",
    "bad_ants1 = get_bad_ants(zen_fn1)  # get bad antennas from commissioning\n",
    "flags_fn1 = find_flag_file(JD1, 'first')  # import flags from firstcal\n",
    "print('Bad antennas for JD {} are:\\n{}'.format(JD1, bad_ants1))"
   ]
  },
  {
   "cell_type": "code",
   "execution_count": null,
   "metadata": {},
   "outputs": [],
   "source": [
    "# Load dataset from uvh5 file to numpy array, with flagging applied\n",
    "hdraw1, RedG1, cMData1 = group_data(zen_fn1, pol='ee', chans=chan, \\\n",
    "    tints=time_int1, bad_ants=bad_ants1, flag_path=flags_fn1)\n",
    "# 0 out of 741 data points flagged for visibility dataset \n",
    "# zen.2458098.43869.HH.uvh5\n",
    "\n",
    "cData1 = jnp.squeeze(cMData1.filled())  # filled with nans for flags\n",
    "ants = jnp.unique(RedG1[:, 1:])\n",
    "no_ants = ants.size  # number of antennas\n",
    "no_unq_bls = jnp.unique(RedG1[:, 0]).size  # number of redundant baselines\n",
    "cRedG1 = relabelAnts(RedG1)  # relabel antennas with consecutive numbering"
   ]
  },
  {
   "cell_type": "code",
   "execution_count": null,
   "metadata": {},
   "outputs": [],
   "source": [
    "# Select 2nd dataset to relatively calibrate, that matches the LST \n",
    "# of the 1st\n",
    "JD2 = match_lst(JD1, 2458099, tint=time_int1)  # finding the JD_time of the \n",
    "# dataset that matches the LST of the dataset used in 1\n",
    "zen_fn2 = find_zen_file(JD2)\n",
    "bad_ants2 = get_bad_ants(zen_fn2)\n",
    "flags_fn2 = find_flag_file(JD2, 'first')\n",
    "\n",
    "# Find the time integration in dataset 2 that corresponds to the closest \n",
    "# LST to that of dataset 1\n",
    "hdraw2 = HERAData(zen_fn2)\n",
    "time_int2 = int(find_nearest(hdraw2.lsts, hdraw1.lsts[time_int1])[1])"
   ]
  },
  {
   "cell_type": "code",
   "execution_count": null,
   "metadata": {},
   "outputs": [],
   "source": [
    "# Load dataset from uvh5 file to numpy array, with flagging applied\n",
    "_, RedG2, cMData2 = group_data(zen_fn2, pol='ee', chans=chan, \\\n",
    "    tints=time_int2, bad_ants=bad_ants2, flag_path=flags_fn2)\n",
    "# 0 out of 741 data points flagged for visibility dataset \n",
    "# zen.2458098.43869.HH.uvh5\n",
    "\n",
    "cData2 = jnp.squeeze(cMData2.filled())  # filled with nans for flags\n",
    "\n",
    "print('Do the visibilities for JDs {} and {} have:\\nthe same bad antennas?'\\\n",
    "      ' {}\\nthe same redundant grouping? {}'.format(JD1, JD2, \\\n",
    "      (bad_ants1 == bad_ants2).all(), (RedG1==RedG2).all()))\n",
    "\n",
    "# Do the visibilities for JDs 2458098.43869 and 2458099.43124 have:\n",
    "# the same bad antennas? True\n",
    "# the same redundant grouping? True"
   ]
  },
  {
   "cell_type": "code",
   "execution_count": null,
   "metadata": {},
   "outputs": [],
   "source": [
    "# Relative redundant calibration of the 1st dataset\n",
    "res_rel1, initp = doRelCal(cRedG1, cData1, no_unq_bls, no_ants, \\\n",
    "    distribution=noise_dist, coords=coords, norm_gains=True, \\\n",
    "    return_initp=True)\n",
    "# Optimization terminated successfully."
   ]
  },
  {
   "cell_type": "code",
   "execution_count": null,
   "metadata": {},
   "outputs": [],
   "source": [
    "# Relative redundant calibration of the 2nd dataset\n",
    "res_rel2 = doRelCal(cRedG1, cData2, no_unq_bls, no_ants, \\\n",
    "    distribution=noise_dist, coords=coords, norm_gains=True, \\\n",
    "    initp=initp, phase_reg_initp=True)\n",
    "# Optimization terminated successfully."
   ]
  },
  {
   "cell_type": "code",
   "execution_count": null,
   "metadata": {},
   "outputs": [],
   "source": [
    "# Get the relatively calibrated gain and visibility solutions\n",
    "res_rel_vis1, res_rel_gains2 = split_rel_results(res_rel1['x'], no_unq_bls, \\\n",
    "                                                 coords=coords)\n",
    "res_rel_vis2, res_rel_gains2 = split_rel_results(res_rel2['x'], no_unq_bls, \\\n",
    "                                                 coords=coords)"
   ]
  },
  {
   "cell_type": "code",
   "execution_count": null,
   "metadata": {},
   "outputs": [],
   "source": [
    "# Translating between relatively calibrated visibility sets\n",
    "ant_sep = red_ant_sep(RedG1, hdraw1.antpos)\n",
    "res_deg = doDegVisVis(ant_sep, res_rel_vis1, res_rel_vis2, \\\n",
    "                      distribution=noise_dist)\n",
    "# Optimization terminated successfully.\n",
    "print('Degenerate parameters are:\\nAmplitude = {}\\n'\\\n",
    "      'Phase gradient in x = {:e}\\nPhase gradient in y = {:e}'.\\\n",
    "      format(*res_deg['x']))\n",
    "# Degenerate parameters are:\n",
    "# Amplitude = 0.9920773888258738\n",
    "# Phase gradient in x = -6.344390e-06\n",
    "# Phase gradient in y = 8.818280e-05"
   ]
  },
  {
   "cell_type": "code",
   "execution_count": null,
   "metadata": {},
   "outputs": [],
   "source": [
    "# # Cauchy\n",
    "# Degenerate parameters are:\n",
    "# Amplitude = 0.992077030076839\n",
    "# Phase gradient in x = -6.347452e-06\n",
    "# Phase gradient in y = 8.818999e-05"
   ]
  },
  {
   "cell_type": "code",
   "execution_count": null,
   "metadata": {},
   "outputs": [],
   "source": [
    "# python rel_cal.py '2458099.43124' --pol 'ee' --flag_type 'first' --dist 'gaussian'\n",
    "\n",
    "# python rel_cal.py '2458099.43869' --pol 'ee' --flag_type 'first' --dist 'gaussian'\n",
    "\n",
    "# python rel_cal.py '2458098.43869' --pol 'ee' --flag_type 'first' --dist 'gaussian' \n",
    "# --initp_jd 2458099\n",
    "\n",
    "# python deg_cal.py '2458098.43869' --deg_dim 'jd' --pol 'ee' --dist 'gaussian' \n",
    "# --tgt_jd 2458099"
   ]
  },
  {
   "cell_type": "markdown",
   "metadata": {},
   "source": [
    "## XD Rel Cal Memo (in prep)"
   ]
  },
  {
   "cell_type": "code",
   "execution_count": null,
   "metadata": {},
   "outputs": [],
   "source": [
    "from jax import numpy as jnp\n",
    "from simpleredcal.align_utils import idr2_jdsx\n",
    "from simpleredcal.red_likelihood import doRelCalD, relabelAnts, split_rel_results\n",
    "from simpleredcal.xd_utils import XDgroup_data"
   ]
  },
  {
   "cell_type": "code",
   "execution_count": null,
   "metadata": {},
   "outputs": [],
   "source": [
    "jdt = 2458098.43869  # dataset to use for LST alignment \n",
    "JDs = idr2_jdsx  # days to consider in the redundant calibration\n",
    "pol = 'ee'  # polarization of data\n",
    "chan = 600  # frequency channel\n",
    "time_int1 = 53  # time integration of 1st dataset\n",
    "noise_dist = 'gaussian'  # assumed noise distribution"
   ]
  },
  {
   "cell_type": "code",
   "execution_count": null,
   "metadata": {},
   "outputs": [],
   "source": [
    "# Loading the data\n",
    "hd, redg, cdata, cndata = XDgroup_data(jdt, JDs, pol, chans=chan, \\\n",
    "                                       tints=time_int1, bad_ants=True, \\\n",
    "                                       use_flags='first', noise=True)"
   ]
  },
  {
   "cell_type": "code",
   "execution_count": null,
   "metadata": {},
   "outputs": [],
   "source": [
    "cdata = numpy.squeeze(cdata.data)\n",
    "cndata = numpy.squeeze(cndata)\n",
    "no_unq_bls = numpy.unique(redg[:, 0]).size  # number of redundant baselines\n",
    "no_ants = numpy.unique(redg[:, 1:]).size  # number of antennas"
   ]
  },
  {
   "cell_type": "code",
   "execution_count": null,
   "metadata": {},
   "outputs": [],
   "source": [
    "res_rel = doRelCalD(relabelAnts(redg), cdata, no_unq_bls, no_ants, \\\n",
    "                    distribution='cauchy', noise=cndata, xd=True)\n",
    "# Optimization terminated successfully."
   ]
  }
 ],
 "metadata": {
  "kernelspec": {
   "display_name": "Python 3 (ipykernel)",
   "language": "python",
   "name": "python3"
  },
  "language_info": {
   "codemirror_mode": {
    "name": "ipython",
    "version": 3
   },
   "file_extension": ".py",
   "mimetype": "text/x-python",
   "name": "python",
   "nbconvert_exporter": "python",
   "pygments_lexer": "ipython3",
   "version": "3.9.13"
  },
  "toc": {
   "base_numbering": 1,
   "nav_menu": {
    "height": "193px",
    "width": "395px"
   },
   "number_sections": true,
   "sideBar": true,
   "skip_h1_title": false,
   "title_cell": "Table of Contents",
   "title_sidebar": "Contents",
   "toc_cell": false,
   "toc_position": {},
   "toc_section_display": true,
   "toc_window_display": false
  },
  "varInspector": {
   "cols": {
    "lenName": 16,
    "lenType": 16,
    "lenVar": 40
   },
   "kernels_config": {
    "python": {
     "delete_cmd_postfix": "",
     "delete_cmd_prefix": "del ",
     "library": "var_list.py",
     "varRefreshCmd": "print(var_dic_list())"
    },
    "r": {
     "delete_cmd_postfix": ") ",
     "delete_cmd_prefix": "rm(",
     "library": "var_list.r",
     "varRefreshCmd": "cat(var_dic_list()) "
    }
   },
   "types_to_exclude": [
    "module",
    "function",
    "builtin_function_or_method",
    "instance",
    "_Feature"
   ],
   "window_display": false
  }
 },
 "nbformat": 4,
 "nbformat_minor": 4
}
